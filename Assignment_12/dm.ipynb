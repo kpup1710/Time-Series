{
 "cells": [
  {
   "cell_type": "code",
   "execution_count": 1,
   "metadata": {},
   "outputs": [],
   "source": [
    "import numpy as np\n",
    "import pandas as pd\n",
    "import seaborn as sns\n",
    "import matplotlib\n",
    "import matplotlib.pyplot as plt\n",
    "import statsmodels.api as sm"
   ]
  },
  {
   "cell_type": "code",
   "execution_count": 2,
   "metadata": {},
   "outputs": [],
   "source": [
    "sns.set(style=\"whitegrid\", font_scale=1.2, context=\"talk\", palette=sns.color_palette(\"bright\"), color_codes=False)\n",
    "matplotlib.rcParams['mathtext.fontset'] = 'cm'"
   ]
  },
  {
   "cell_type": "code",
   "execution_count": 3,
   "metadata": {},
   "outputs": [],
   "source": [
    "df = pd.read_csv('data.csv')"
   ]
  },
  {
   "cell_type": "code",
   "execution_count": 4,
   "metadata": {},
   "outputs": [],
   "source": [
    "df.drop(df.columns[df.columns.str.contains('unnamed',case = False)],axis = 1, inplace = True)"
   ]
  },
  {
   "cell_type": "code",
   "execution_count": 5,
   "metadata": {},
   "outputs": [
    {
     "data": {
      "text/html": [
       "<div>\n",
       "<style scoped>\n",
       "    .dataframe tbody tr th:only-of-type {\n",
       "        vertical-align: middle;\n",
       "    }\n",
       "\n",
       "    .dataframe tbody tr th {\n",
       "        vertical-align: top;\n",
       "    }\n",
       "\n",
       "    .dataframe thead th {\n",
       "        text-align: right;\n",
       "    }\n",
       "</style>\n",
       "<table border=\"1\" class=\"dataframe\">\n",
       "  <thead>\n",
       "    <tr style=\"text-align: right;\">\n",
       "      <th></th>\n",
       "      <th>x</th>\n",
       "    </tr>\n",
       "  </thead>\n",
       "  <tbody>\n",
       "    <tr>\n",
       "      <th>0</th>\n",
       "      <td>580.38</td>\n",
       "    </tr>\n",
       "    <tr>\n",
       "      <th>1</th>\n",
       "      <td>581.86</td>\n",
       "    </tr>\n",
       "    <tr>\n",
       "      <th>2</th>\n",
       "      <td>580.97</td>\n",
       "    </tr>\n",
       "    <tr>\n",
       "      <th>3</th>\n",
       "      <td>580.80</td>\n",
       "    </tr>\n",
       "    <tr>\n",
       "      <th>4</th>\n",
       "      <td>579.79</td>\n",
       "    </tr>\n",
       "    <tr>\n",
       "      <th>...</th>\n",
       "      <td>...</td>\n",
       "    </tr>\n",
       "    <tr>\n",
       "      <th>93</th>\n",
       "      <td>578.52</td>\n",
       "    </tr>\n",
       "    <tr>\n",
       "      <th>94</th>\n",
       "      <td>579.74</td>\n",
       "    </tr>\n",
       "    <tr>\n",
       "      <th>95</th>\n",
       "      <td>579.31</td>\n",
       "    </tr>\n",
       "    <tr>\n",
       "      <th>96</th>\n",
       "      <td>579.89</td>\n",
       "    </tr>\n",
       "    <tr>\n",
       "      <th>97</th>\n",
       "      <td>579.96</td>\n",
       "    </tr>\n",
       "  </tbody>\n",
       "</table>\n",
       "<p>98 rows × 1 columns</p>\n",
       "</div>"
      ],
      "text/plain": [
       "         x\n",
       "0   580.38\n",
       "1   581.86\n",
       "2   580.97\n",
       "3   580.80\n",
       "4   579.79\n",
       "..     ...\n",
       "93  578.52\n",
       "94  579.74\n",
       "95  579.31\n",
       "96  579.89\n",
       "97  579.96\n",
       "\n",
       "[98 rows x 1 columns]"
      ]
     },
     "execution_count": 5,
     "metadata": {},
     "output_type": "execute_result"
    }
   ],
   "source": [
    "df"
   ]
  },
  {
   "attachments": {},
   "cell_type": "markdown",
   "metadata": {},
   "source": [
    "# create data for AR($p$) in Dickey-Fuller test"
   ]
  },
  {
   "cell_type": "code",
   "execution_count": 6,
   "metadata": {},
   "outputs": [],
   "source": [
    "def xyArray(df, p):\n",
    "    dt = df.copy()\n",
    "    dt.x = dt.x - dt.x.mean()\n",
    "    X = np.ones((dt.shape[0] - p - 2 + 1, 1))\n",
    "    X = np.concatenate([X, dt[p:-1]], axis=1)\n",
    "    for i in range(1, p):\n",
    "        X = np.concatenate([X, dt[p-i+1:-i].to_numpy() - dt[p-i:-i-1].to_numpy()], axis=1)\n",
    "    y = dt[p+1:].to_numpy() - dt[p:-1].to_numpy()\n",
    "    # print(y)\n",
    "    return X, y\n"
   ]
  },
  {
   "cell_type": "code",
   "execution_count": 7,
   "metadata": {},
   "outputs": [],
   "source": [
    "def AR(df, p):\n",
    "    X,y = xyArray(df, p)\n",
    "    beta = np.linalg.inv(X.T@X)@X.T@y\n",
    "    S = np.sum((y - X@beta)**2)\n",
    "    xbar = df[:-1].to_numpy().mean()\n",
    "    e = np.sum((df[:-1].to_numpy() - xbar)**2)\n",
    "    return beta, np.sqrt(S*e) / (df.shape[0] - p-2)"
   ]
  },
  {
   "cell_type": "code",
   "execution_count": 8,
   "metadata": {},
   "outputs": [],
   "source": [
    "a = AR(df, 1)"
   ]
  },
  {
   "cell_type": "code",
   "execution_count": 9,
   "metadata": {},
   "outputs": [
    {
     "data": {
      "text/plain": [
       "array([[-0.0241164],\n",
       "       [-0.1780461]])"
      ]
     },
     "execution_count": 9,
     "metadata": {},
     "output_type": "execute_result"
    }
   ],
   "source": [
    "a[0]"
   ]
  },
  {
   "cell_type": "code",
   "execution_count": 10,
   "metadata": {},
   "outputs": [
    {
     "data": {
      "text/plain": [
       "0.928253791874368"
      ]
     },
     "execution_count": 10,
     "metadata": {},
     "output_type": "execute_result"
    }
   ],
   "source": [
    "a[1]"
   ]
  },
  {
   "cell_type": "code",
   "execution_count": 11,
   "metadata": {},
   "outputs": [],
   "source": [
    "djao = pd.read_csv('djao2.csv')"
   ]
  },
  {
   "cell_type": "code",
   "execution_count": 12,
   "metadata": {},
   "outputs": [],
   "source": [
    "djao.drop(djao.columns[djao.columns.str.contains('Unnamed',case = True)],axis = 1, inplace = True)"
   ]
  },
  {
   "cell_type": "code",
   "execution_count": 13,
   "metadata": {},
   "outputs": [
    {
     "data": {
      "text/html": [
       "<div>\n",
       "<style scoped>\n",
       "    .dataframe tbody tr th:only-of-type {\n",
       "        vertical-align: middle;\n",
       "    }\n",
       "\n",
       "    .dataframe tbody tr th {\n",
       "        vertical-align: top;\n",
       "    }\n",
       "\n",
       "    .dataframe thead th {\n",
       "        text-align: right;\n",
       "    }\n",
       "</style>\n",
       "<table border=\"1\" class=\"dataframe\">\n",
       "  <thead>\n",
       "    <tr style=\"text-align: right;\">\n",
       "      <th></th>\n",
       "      <th>DJ</th>\n",
       "      <th>AO</th>\n",
       "    </tr>\n",
       "  </thead>\n",
       "  <tbody>\n",
       "    <tr>\n",
       "      <th>0</th>\n",
       "      <td>3621.63</td>\n",
       "      <td>1941.5</td>\n",
       "    </tr>\n",
       "    <tr>\n",
       "      <th>1</th>\n",
       "      <td>3634.21</td>\n",
       "      <td>1938.3</td>\n",
       "    </tr>\n",
       "    <tr>\n",
       "      <th>2</th>\n",
       "      <td>3615.76</td>\n",
       "      <td>1912.9</td>\n",
       "    </tr>\n",
       "    <tr>\n",
       "      <th>3</th>\n",
       "      <td>3633.65</td>\n",
       "      <td>1903.6</td>\n",
       "    </tr>\n",
       "    <tr>\n",
       "      <th>4</th>\n",
       "      <td>3630.85</td>\n",
       "      <td>1902.6</td>\n",
       "    </tr>\n",
       "    <tr>\n",
       "      <th>...</th>\n",
       "      <td>...</td>\n",
       "      <td>...</td>\n",
       "    </tr>\n",
       "    <tr>\n",
       "      <th>246</th>\n",
       "      <td>3751.22</td>\n",
       "      <td>2063.6</td>\n",
       "    </tr>\n",
       "    <tr>\n",
       "      <th>247</th>\n",
       "      <td>3775.83</td>\n",
       "      <td>2051.6</td>\n",
       "    </tr>\n",
       "    <tr>\n",
       "      <th>248</th>\n",
       "      <td>3846.73</td>\n",
       "      <td>2061.1</td>\n",
       "    </tr>\n",
       "    <tr>\n",
       "      <th>249</th>\n",
       "      <td>3829.89</td>\n",
       "      <td>2077.8</td>\n",
       "    </tr>\n",
       "    <tr>\n",
       "      <th>250</th>\n",
       "      <td>3881.05</td>\n",
       "      <td>2077.2</td>\n",
       "    </tr>\n",
       "  </tbody>\n",
       "</table>\n",
       "<p>251 rows × 2 columns</p>\n",
       "</div>"
      ],
      "text/plain": [
       "          DJ      AO\n",
       "0    3621.63  1941.5\n",
       "1    3634.21  1938.3\n",
       "2    3615.76  1912.9\n",
       "3    3633.65  1903.6\n",
       "4    3630.85  1902.6\n",
       "..       ...     ...\n",
       "246  3751.22  2063.6\n",
       "247  3775.83  2051.6\n",
       "248  3846.73  2061.1\n",
       "249  3829.89  2077.8\n",
       "250  3881.05  2077.2\n",
       "\n",
       "[251 rows x 2 columns]"
      ]
     },
     "execution_count": 13,
     "metadata": {},
     "output_type": "execute_result"
    }
   ],
   "source": [
    "djao"
   ]
  },
  {
   "cell_type": "code",
   "execution_count": 14,
   "metadata": {},
   "outputs": [],
   "source": [
    "d1 = djao.to_numpy()"
   ]
  },
  {
   "cell_type": "code",
   "execution_count": 15,
   "metadata": {},
   "outputs": [],
   "source": [
    "d2 = d1.copy()"
   ]
  },
  {
   "cell_type": "code",
   "execution_count": 16,
   "metadata": {},
   "outputs": [],
   "source": [
    "d = (d2[1:] - d1[:-1]) / d1[:-1]"
   ]
  },
  {
   "cell_type": "code",
   "execution_count": 17,
   "metadata": {},
   "outputs": [],
   "source": [
    "d *= 100"
   ]
  },
  {
   "cell_type": "code",
   "execution_count": 18,
   "metadata": {},
   "outputs": [
    {
     "data": {
      "text/plain": [
       "array([[ 0.34735741, -0.16482101],\n",
       "       [-0.50767567, -1.31042666],\n",
       "       [ 0.49477841, -0.48617283],\n",
       "       [-0.0770575 , -0.05253204],\n",
       "       [-0.48473498,  1.2036161 ],\n",
       "       [-1.03646302, -0.07270839],\n",
       "       [-1.07836009,  0.05716959],\n",
       "       [ 0.27648675, -0.30646167],\n",
       "       [-0.20496078,  0.48455166],\n",
       "       [ 0.09492196,  0.9281344 ],\n",
       "       [ 0.69402305, -0.17980992],\n",
       "       [-0.04708916, -0.03602676],\n",
       "       [ 0.00785189,  0.46851671],\n",
       "       [-0.31349017,  0.66618838],\n",
       "       [ 0.7310583 ,  0.42252087],\n",
       "       [-0.09354641,  0.21797536],\n",
       "       [ 0.26552927,  1.08750632],\n",
       "       [ 0.32699052,  1.01576182],\n",
       "       [-0.4267864 ,  0.18327719],\n",
       "       [ 0.03097418,  0.1829419 ],\n",
       "       [ 0.24185854,  0.67120719],\n",
       "       [-0.00779204, -0.57848809],\n",
       "       [ 0.27997874,  0.52268245],\n",
       "       [ 0.51176874,  1.14784656],\n",
       "       [ 0.2236562 ,  0.58680892],\n",
       "       [ 0.34658225,  0.54963599],\n",
       "       [-0.19191118, -0.47950132],\n",
       "       [ 0.26902721, -1.14671164],\n",
       "       [-0.24526076,  0.4240386 ],\n",
       "       [ 0.36137024,  0.04853427],\n",
       "       [ 0.66615515, -0.70340545],\n",
       "       [-0.03048772,  0.42991841],\n",
       "       [-0.21320684,  0.6129299 ],\n",
       "       [ 0.63307374,  0.38679108],\n",
       "       [-0.1971333 ,  1.72903723],\n",
       "       [ 0.32657808,  0.95634883],\n",
       "       [ 0.13621801, -0.33295817],\n",
       "       [-0.96737378, -0.79518186],\n",
       "       [-1.00740878, -0.32251945],\n",
       "       [ 0.50896833, -1.03254663],\n",
       "       [ 0.12268659, -1.23563633],\n",
       "       [-0.21464404, -0.16551456],\n",
       "       [ 0.64504254, -0.38521553],\n",
       "       [-0.03057144,  0.46502521],\n",
       "       [ 0.60287842,  1.05242643],\n",
       "       [-0.18971315,  0.42912247],\n",
       "       [ 0.90414192,  0.04320899],\n",
       "       [-0.17300991,  0.98377963],\n",
       "       [-0.51318045,  0.17583044],\n",
       "       [ 0.23525645, -1.17647059],\n",
       "       [-0.64320346, -1.62730415],\n",
       "       [ 0.10680471, -1.93724686],\n",
       "       [ 0.36498039,  1.13455414],\n",
       "       [ 0.        ,  0.47234796],\n",
       "       [-0.09843854,  0.05386876],\n",
       "       [-0.16694038, -1.60540355],\n",
       "       [ 0.16721953, -0.04476944],\n",
       "       [ 0.35641092, -0.1990644 ],\n",
       "       [ 0.13605332,  2.08935873],\n",
       "       [ 0.05294278,  0.00488448],\n",
       "       [ 0.16576361,  0.30770734],\n",
       "       [ 0.2336795 ,  0.98359059],\n",
       "       [ 0.42082562,  1.06562515],\n",
       "       [-0.12719137, -0.01431298],\n",
       "       [ 0.29197433, -0.51534094],\n",
       "       [ 0.63518033,  0.46045374],\n",
       "       [-0.57910494, -0.37717832],\n",
       "       [-0.68695009, -0.80034506],\n",
       "       [ 0.24805484,  0.23672641],\n",
       "       [ 0.6824757 ,  0.26026605],\n",
       "       [ 0.09702605, -0.20190366],\n",
       "       [-0.26789447, -0.43352601],\n",
       "       [ 0.45498845, -0.66763425],\n",
       "       [-0.11881378,  0.7597896 ],\n",
       "       [ 0.        ,  0.98607889],\n",
       "       [ 0.93700435,  0.        ],\n",
       "       [ 0.02214647,  0.        ],\n",
       "       [ 0.01476104,  1.80451848],\n",
       "       [-0.48625185,  1.29766327],\n",
       "       [-0.57708402,  0.88651659],\n",
       "       [ 0.06686041,  0.        ],\n",
       "       [ 0.72672097,  0.03220464],\n",
       "       [ 0.39430218,  0.87844364],\n",
       "       [ 0.13319926,  0.3145801 ],\n",
       "       [ 0.44402032, -0.64991138],\n",
       "       [ 1.17096816,  0.57639524],\n",
       "       [-0.39322108,  0.36841626],\n",
       "       [-0.04363285, -0.50301355],\n",
       "       [-0.16109629, -0.82437602],\n",
       "       [ 0.64464414,  1.3272101 ],\n",
       "       [ 0.07990277,  1.44126178],\n",
       "       [ 0.        , -0.27254043],\n",
       "       [ 0.36379703,  0.72129385],\n",
       "       [ 0.19539848,  0.80064051],\n",
       "       [ 0.57862876, -0.70161504],\n",
       "       [-0.04317304, -1.1465138 ],\n",
       "       [-0.44597333, -0.1168802 ],\n",
       "       [ 0.32500372,  0.        ],\n",
       "       [ 0.46827021,  1.29618795],\n",
       "       [ 0.48722716,  0.40876172],\n",
       "       [ 0.83463653,  2.25231205],\n",
       "       [-0.36070139, -0.03029254],\n",
       "       [ 0.29086708,  0.08657634],\n",
       "       [-0.19821207,  1.23264565],\n",
       "       [-2.42561107, -0.33324789],\n",
       "       [ 0.90147801, -2.21622085],\n",
       "       [-0.00742387,  1.06527552],\n",
       "       [ 0.66282133, -1.49648651],\n",
       "       [-0.93033429, -1.6116958 ],\n",
       "       [-0.01437615,  0.3177729 ],\n",
       "       [ 0.23826763, -0.12492192],\n",
       "       [ 0.62012367, -0.20548557],\n",
       "       [ 0.22910849,  0.67144136],\n",
       "       [-0.37157726, -0.36016007],\n",
       "       [-0.89684498, -0.78986122],\n",
       "       [ 0.        , -2.01061533],\n",
       "       [ 0.62251444,  1.10167546],\n",
       "       [-0.51078059,  0.7446084 ],\n",
       "       [-1.33053077, -0.98697553],\n",
       "       [-0.02916743, -2.19390077],\n",
       "       [-0.17609761,  1.45662695],\n",
       "       [-0.5947255 ,  0.07339113],\n",
       "       [ 0.59093308, -1.26965211],\n",
       "       [-0.19103593, -0.12070566],\n",
       "       [ 0.20604432, -1.60825509],\n",
       "       [ 0.62416825,  1.31802721],\n",
       "       [-0.11669459,  1.25891733],\n",
       "       [ 0.0438765 , -1.14656721],\n",
       "       [-0.59142422,  0.38662195],\n",
       "       [ 0.83746234, -0.09280312],\n",
       "       [ 0.00724882,  1.21685012],\n",
       "       [-0.34662359, -0.3120268 ],\n",
       "       [-0.03740658,  0.04602992],\n",
       "       [ 0.44151086, -0.41867955],\n",
       "       [ 0.78936339, -0.04158196],\n",
       "       [-0.79062544, -1.06309221],\n",
       "       [-0.05951072,  0.01401542],\n",
       "       [ 0.17889736,  1.87313154],\n",
       "       [-1.25004523, -0.50896419],\n",
       "       [-1.21326637, -0.83878698],\n",
       "       [-0.32797048, -1.98456962],\n",
       "       [-1.68325648, -0.38408649],\n",
       "       [-1.95376073, -0.39984768],\n",
       "       [ 0.25394637, -1.87822596],\n",
       "       [ 0.        ,  0.        ],\n",
       "       [-1.17190508,  0.        ],\n",
       "       [ 2.28366288, -0.15099118],\n",
       "       [ 0.11753791,  1.66341463],\n",
       "       [ 0.36769002,  0.15834173],\n",
       "       [-0.51445065, -0.25869503],\n",
       "       [ 0.39654243, -0.28818444],\n",
       "       [-0.19355731,  0.92003854],\n",
       "       [-0.54920431,  0.76845974],\n",
       "       [ 0.04861435, -0.76733611],\n",
       "       [-0.04859073, -0.68735084],\n",
       "       [-1.12113441,  0.7353648 ],\n",
       "       [-0.01657266, -1.6460709 ],\n",
       "       [-0.58317817, -0.71795867],\n",
       "       [ 1.49581378, -0.83064595],\n",
       "       [-0.10567988,  0.63559322],\n",
       "       [ 1.56494952,  0.        ],\n",
       "       [-0.1683856 ,  1.31701346],\n",
       "       [ 0.        , -0.4687349 ],\n",
       "       [-0.844159  ,  0.45637714],\n",
       "       [ 0.36474562, -0.14499058],\n",
       "       [ 0.52503062, -0.88088669],\n",
       "       [ 0.36179215, -0.18067288],\n",
       "       [-0.44852345, -1.26210743],\n",
       "       [-0.04813738, -1.50118906],\n",
       "       [-0.71618547,  0.81484835],\n",
       "       [-1.10260253,  0.24946365],\n",
       "       [ 0.75419395, -0.05474543],\n",
       "       [-0.74854844,  1.3146101 ],\n",
       "       [ 0.65582082,  0.33421803],\n",
       "       [ 0.18725156,  1.40099931],\n",
       "       [ 0.32297906,  1.97584541],\n",
       "       [ 1.33760044, -0.70586006],\n",
       "       [ 0.33005341,  0.5629771 ],\n",
       "       [ 0.69892228, -0.66894392],\n",
       "       [ 0.19606383,  0.48717581],\n",
       "       [-0.63562866,  0.81277627],\n",
       "       [ 0.07374927,  0.53748232],\n",
       "       [ 0.27048171, -1.24273119],\n",
       "       [-0.04899742, -0.42737072],\n",
       "       [ 0.09804287,  0.25275407],\n",
       "       [ 0.        , -0.49471982],\n",
       "       [ 0.03273767, -0.47805718],\n",
       "       [ 0.06545391,  0.73974445],\n",
       "       [-0.04892537, -0.96318901],\n",
       "       [ 0.35195624,  0.07703418],\n",
       "       [-0.09808548, -0.29346676],\n",
       "       [-0.33461412, -0.11097708],\n",
       "       [-0.1719956 ,  0.45889286],\n",
       "       [ 0.09841443, -0.14425157],\n",
       "       [ 0.54114688, -0.35151924],\n",
       "       [ 0.25626416,  0.        ],\n",
       "       [ 0.83819704,  0.34792694],\n",
       "       [-0.64013337, -0.10594241],\n",
       "       [ 0.55218301, -0.88700347],\n",
       "       [-0.9067677 , -0.23346304],\n",
       "       [-0.92353804, -1.30655226],\n",
       "       [-0.9067586 , -1.52143845],\n",
       "       [ 0.4530781 ,  0.86777689],\n",
       "       [-0.68943854,  0.57685613],\n",
       "       [-1.68014295, -0.22744129],\n",
       "       [ 1.33518837, -2.99816641],\n",
       "       [-0.4303351 ,  0.86849903],\n",
       "       [-0.07057913,  0.03545381],\n",
       "       [-1.14778909,  0.70882487],\n",
       "       [ 0.59835143, -1.17138404],\n",
       "       [ 0.        ,  1.08352833],\n",
       "       [ 0.15987276,  0.82029088],\n",
       "       [ 0.60287804, -0.60896476],\n",
       "       [ 0.37882705, -1.4564082 ],\n",
       "       [ 0.56175815,  0.13760065],\n",
       "       [-0.16580663, -0.18830475],\n",
       "       [-0.00891172,  0.59657353],\n",
       "       [ 0.04375233,  0.2889148 ],\n",
       "       [ 0.94404311,  1.47073688],\n",
       "       [ 0.3893829 ,  2.50535439],\n",
       "       [ 0.04315615,  0.69484937],\n",
       "       [-0.18959214,  0.24610336],\n",
       "       [-0.56131963,  0.05776451],\n",
       "       [ 0.13897571, -1.41441355],\n",
       "       [ 0.06939142,  0.16103845],\n",
       "       [ 0.18205963, -0.2046285 ],\n",
       "       [-0.16462489, -0.34174681],\n",
       "       [-0.40715479,  0.01959536],\n",
       "       [ 0.27845944,  0.01959152],\n",
       "       [ 0.90248015,  0.95000245],\n",
       "       [ 0.89440829,  0.99927237],\n",
       "       [-0.05134051,  0.23053648],\n",
       "       [-0.10694849, -0.69960228],\n",
       "       [-0.69538205,  0.54046229],\n",
       "       [-0.49843459,  0.40316775],\n",
       "       [ 0.18121067, -0.51627707],\n",
       "       [ 0.05194722,  0.27389361],\n",
       "       [ 0.29288346, -0.49357869],\n",
       "       [-0.42105151, -0.65976403],\n",
       "       [ 0.47481938, -0.52840799],\n",
       "       [-0.22341862,  0.18519421],\n",
       "       [ 0.64569488, -0.76373012],\n",
       "       [-0.21376273,  0.95588235],\n",
       "       [-0.55739736,  0.35445496],\n",
       "       [-0.00852099, -0.26611186],\n",
       "       [-0.10359217,  0.11158007],\n",
       "       [ 0.65605323, -0.58150804],\n",
       "       [ 1.87773284,  0.46305323],\n",
       "       [-0.43777442,  0.81024696],\n",
       "       [ 1.3358086 , -0.0288767 ]])"
      ]
     },
     "execution_count": 18,
     "metadata": {},
     "output_type": "execute_result"
    }
   ],
   "source": [
    "d"
   ]
  },
  {
   "cell_type": "code",
   "execution_count": 19,
   "metadata": {},
   "outputs": [],
   "source": [
    "all = np.concatenate([np.ones((250,1)), d], axis=1)"
   ]
  },
  {
   "cell_type": "code",
   "execution_count": 20,
   "metadata": {},
   "outputs": [],
   "source": [
    "X = all[0:-1]"
   ]
  },
  {
   "cell_type": "code",
   "execution_count": 21,
   "metadata": {},
   "outputs": [
    {
     "data": {
      "text/plain": [
       "(249, 3)"
      ]
     },
     "execution_count": 21,
     "metadata": {},
     "output_type": "execute_result"
    }
   ],
   "source": [
    "X.shape"
   ]
  },
  {
   "cell_type": "code",
   "execution_count": 22,
   "metadata": {},
   "outputs": [],
   "source": [
    "y = all[1:,1:]"
   ]
  },
  {
   "cell_type": "code",
   "execution_count": 23,
   "metadata": {},
   "outputs": [
    {
     "data": {
      "text/plain": [
       "(249, 2)"
      ]
     },
     "execution_count": 23,
     "metadata": {},
     "output_type": "execute_result"
    }
   ],
   "source": [
    "y.shape"
   ]
  },
  {
   "cell_type": "code",
   "execution_count": 24,
   "metadata": {},
   "outputs": [],
   "source": [
    "beta = np.linalg.inv(X.T@X)@X.T@y"
   ]
  },
  {
   "cell_type": "code",
   "execution_count": 25,
   "metadata": {},
   "outputs": [
    {
     "data": {
      "text/plain": [
       "array([[ 0.02748849,  0.01229704],\n",
       "       [-0.01517162,  0.67142411],\n",
       "       [ 0.03574866,  0.0991333 ]])"
      ]
     },
     "execution_count": 25,
     "metadata": {},
     "output_type": "execute_result"
    }
   ],
   "source": [
    "beta"
   ]
  },
  {
   "cell_type": "code",
   "execution_count": 26,
   "metadata": {},
   "outputs": [],
   "source": [
    "import statsmodels.api as sm"
   ]
  },
  {
   "cell_type": "code",
   "execution_count": 27,
   "metadata": {},
   "outputs": [],
   "source": [
    "def var(X):\n",
    "    N, T = X.shape\n",
    "    temp1 = np.zeros((N, N))\n",
    "    temp2 = np.zeros((N, N))\n",
    "    for t in range(1, T):\n",
    "        temp1 += np.outer(X[:, t], X[:, t - 1])\n",
    "        temp2 += np.outer(X[:, t - 1], X[:, t - 1])\n",
    "    A = temp1 @ np.linalg.inv(temp2)\n",
    "    # mat = np.append(X, np.zeros((N, pred_step)), axis = 1)\n",
    "    # for s in range(pred_step):\n",
    "    #     mat[:, T + s] = A @ mat[:, T + s - 1]\n",
    "    return A"
   ]
  },
  {
   "cell_type": "code",
   "execution_count": 28,
   "metadata": {},
   "outputs": [],
   "source": [
    "airpass = pd.read_csv(\"airpass.txt\", delimiter=';')"
   ]
  },
  {
   "cell_type": "code",
   "execution_count": 29,
   "metadata": {},
   "outputs": [
    {
     "data": {
      "text/html": [
       "<div>\n",
       "<style scoped>\n",
       "    .dataframe tbody tr th:only-of-type {\n",
       "        vertical-align: middle;\n",
       "    }\n",
       "\n",
       "    .dataframe tbody tr th {\n",
       "        vertical-align: top;\n",
       "    }\n",
       "\n",
       "    .dataframe thead th {\n",
       "        text-align: right;\n",
       "    }\n",
       "</style>\n",
       "<table border=\"1\" class=\"dataframe\">\n",
       "  <thead>\n",
       "    <tr style=\"text-align: right;\">\n",
       "      <th></th>\n",
       "      <th>Month</th>\n",
       "      <th>Passengers</th>\n",
       "    </tr>\n",
       "  </thead>\n",
       "  <tbody>\n",
       "    <tr>\n",
       "      <th>0</th>\n",
       "      <td>1949-01</td>\n",
       "      <td>112</td>\n",
       "    </tr>\n",
       "    <tr>\n",
       "      <th>1</th>\n",
       "      <td>1949-02</td>\n",
       "      <td>118</td>\n",
       "    </tr>\n",
       "    <tr>\n",
       "      <th>2</th>\n",
       "      <td>1949-03</td>\n",
       "      <td>132</td>\n",
       "    </tr>\n",
       "    <tr>\n",
       "      <th>3</th>\n",
       "      <td>1949-04</td>\n",
       "      <td>129</td>\n",
       "    </tr>\n",
       "    <tr>\n",
       "      <th>4</th>\n",
       "      <td>1949-05</td>\n",
       "      <td>121</td>\n",
       "    </tr>\n",
       "    <tr>\n",
       "      <th>...</th>\n",
       "      <td>...</td>\n",
       "      <td>...</td>\n",
       "    </tr>\n",
       "    <tr>\n",
       "      <th>139</th>\n",
       "      <td>1960-08</td>\n",
       "      <td>606</td>\n",
       "    </tr>\n",
       "    <tr>\n",
       "      <th>140</th>\n",
       "      <td>1960-09</td>\n",
       "      <td>508</td>\n",
       "    </tr>\n",
       "    <tr>\n",
       "      <th>141</th>\n",
       "      <td>1960-10</td>\n",
       "      <td>461</td>\n",
       "    </tr>\n",
       "    <tr>\n",
       "      <th>142</th>\n",
       "      <td>1960-11</td>\n",
       "      <td>390</td>\n",
       "    </tr>\n",
       "    <tr>\n",
       "      <th>143</th>\n",
       "      <td>1960-12</td>\n",
       "      <td>432</td>\n",
       "    </tr>\n",
       "  </tbody>\n",
       "</table>\n",
       "<p>144 rows × 2 columns</p>\n",
       "</div>"
      ],
      "text/plain": [
       "       Month  Passengers\n",
       "0    1949-01         112\n",
       "1    1949-02         118\n",
       "2    1949-03         132\n",
       "3    1949-04         129\n",
       "4    1949-05         121\n",
       "..       ...         ...\n",
       "139  1960-08         606\n",
       "140  1960-09         508\n",
       "141  1960-10         461\n",
       "142  1960-11         390\n",
       "143  1960-12         432\n",
       "\n",
       "[144 rows x 2 columns]"
      ]
     },
     "execution_count": 29,
     "metadata": {},
     "output_type": "execute_result"
    }
   ],
   "source": [
    "airpass"
   ]
  },
  {
   "cell_type": "code",
   "execution_count": 30,
   "metadata": {},
   "outputs": [],
   "source": [
    "airpass['D^2'] = airpass.Passengers.diff(2)"
   ]
  },
  {
   "cell_type": "code",
   "execution_count": 31,
   "metadata": {},
   "outputs": [
    {
     "data": {
      "text/html": [
       "<div>\n",
       "<style scoped>\n",
       "    .dataframe tbody tr th:only-of-type {\n",
       "        vertical-align: middle;\n",
       "    }\n",
       "\n",
       "    .dataframe tbody tr th {\n",
       "        vertical-align: top;\n",
       "    }\n",
       "\n",
       "    .dataframe thead th {\n",
       "        text-align: right;\n",
       "    }\n",
       "</style>\n",
       "<table border=\"1\" class=\"dataframe\">\n",
       "  <thead>\n",
       "    <tr style=\"text-align: right;\">\n",
       "      <th></th>\n",
       "      <th>Month</th>\n",
       "      <th>Passengers</th>\n",
       "      <th>D^2</th>\n",
       "    </tr>\n",
       "  </thead>\n",
       "  <tbody>\n",
       "    <tr>\n",
       "      <th>0</th>\n",
       "      <td>1949-01</td>\n",
       "      <td>112</td>\n",
       "      <td>NaN</td>\n",
       "    </tr>\n",
       "    <tr>\n",
       "      <th>1</th>\n",
       "      <td>1949-02</td>\n",
       "      <td>118</td>\n",
       "      <td>NaN</td>\n",
       "    </tr>\n",
       "    <tr>\n",
       "      <th>2</th>\n",
       "      <td>1949-03</td>\n",
       "      <td>132</td>\n",
       "      <td>20.0</td>\n",
       "    </tr>\n",
       "    <tr>\n",
       "      <th>3</th>\n",
       "      <td>1949-04</td>\n",
       "      <td>129</td>\n",
       "      <td>11.0</td>\n",
       "    </tr>\n",
       "    <tr>\n",
       "      <th>4</th>\n",
       "      <td>1949-05</td>\n",
       "      <td>121</td>\n",
       "      <td>-11.0</td>\n",
       "    </tr>\n",
       "    <tr>\n",
       "      <th>...</th>\n",
       "      <td>...</td>\n",
       "      <td>...</td>\n",
       "      <td>...</td>\n",
       "    </tr>\n",
       "    <tr>\n",
       "      <th>139</th>\n",
       "      <td>1960-08</td>\n",
       "      <td>606</td>\n",
       "      <td>71.0</td>\n",
       "    </tr>\n",
       "    <tr>\n",
       "      <th>140</th>\n",
       "      <td>1960-09</td>\n",
       "      <td>508</td>\n",
       "      <td>-114.0</td>\n",
       "    </tr>\n",
       "    <tr>\n",
       "      <th>141</th>\n",
       "      <td>1960-10</td>\n",
       "      <td>461</td>\n",
       "      <td>-145.0</td>\n",
       "    </tr>\n",
       "    <tr>\n",
       "      <th>142</th>\n",
       "      <td>1960-11</td>\n",
       "      <td>390</td>\n",
       "      <td>-118.0</td>\n",
       "    </tr>\n",
       "    <tr>\n",
       "      <th>143</th>\n",
       "      <td>1960-12</td>\n",
       "      <td>432</td>\n",
       "      <td>-29.0</td>\n",
       "    </tr>\n",
       "  </tbody>\n",
       "</table>\n",
       "<p>144 rows × 3 columns</p>\n",
       "</div>"
      ],
      "text/plain": [
       "       Month  Passengers    D^2\n",
       "0    1949-01         112    NaN\n",
       "1    1949-02         118    NaN\n",
       "2    1949-03         132   20.0\n",
       "3    1949-04         129   11.0\n",
       "4    1949-05         121  -11.0\n",
       "..       ...         ...    ...\n",
       "139  1960-08         606   71.0\n",
       "140  1960-09         508 -114.0\n",
       "141  1960-10         461 -145.0\n",
       "142  1960-11         390 -118.0\n",
       "143  1960-12         432  -29.0\n",
       "\n",
       "[144 rows x 3 columns]"
      ]
     },
     "execution_count": 31,
     "metadata": {},
     "output_type": "execute_result"
    }
   ],
   "source": [
    "airpass"
   ]
  },
  {
   "cell_type": "code",
   "execution_count": 32,
   "metadata": {},
   "outputs": [
    {
     "data": {
      "text/plain": [
       "<AxesSubplot:>"
      ]
     },
     "execution_count": 32,
     "metadata": {},
     "output_type": "execute_result"
    },
    {
     "data": {
      "image/png": "[encoded data removed]",
      "text/plain": [
       "<Figure size 432x288 with 1 Axes>"
      ]
     },
     "metadata": {},
     "output_type": "display_data"
    }
   ],
   "source": [
    "airpass.Passengers.plot()"
   ]
  },
  {
   "cell_type": "code",
   "execution_count": 33,
   "metadata": {},
   "outputs": [],
   "source": [
    "airpass['logpass'] = airpass.Passengers.apply(np.log)"
   ]
  },
  {
   "cell_type": "code",
   "execution_count": 34,
   "metadata": {},
   "outputs": [
    {
     "data": {
      "text/plain": [
       "<AxesSubplot:>"
      ]
     },
     "execution_count": 34,
     "metadata": {},
     "output_type": "execute_result"
    },
    {
     "data": {
      "image/png": "[encoded data removed]",
      "text/plain": [
       "<Figure size 432x288 with 1 Axes>"
      ]
     },
     "metadata": {},
     "output_type": "display_data"
    }
   ],
   "source": [
    "airpass.logpass.plot()"
   ]
  },
  {
   "cell_type": "code",
   "execution_count": 35,
   "metadata": {},
   "outputs": [],
   "source": [
    "logpass = airpass.logpass.to_numpy()"
   ]
  },
  {
   "cell_type": "code",
   "execution_count": 36,
   "metadata": {},
   "outputs": [
    {
     "data": {
      "text/plain": [
       "array([4.77068462, 4.74493213, 4.83628191, 4.94875989, 4.90527478,\n",
       "       4.82831374, 5.00394631, 5.13579844, 5.13579844, 5.06259503,\n",
       "       4.89034913, 4.73619845, 4.94164242, 4.97673374, 5.01063529,\n",
       "       5.18178355, 5.0937502 , 5.14749448, 5.18178355, 5.29330482,\n",
       "       5.29330482, 5.21493576, 5.08759634, 4.98360662, 5.11198779,\n",
       "       5.14166356, 5.19295685, 5.26269019, 5.19849703, 5.20948615,\n",
       "       5.38449506, 5.43807931, 5.48893773, 5.34233425, 5.25227343,\n",
       "       5.14749448, 5.26785816, 5.27811466, 5.27811466, 5.46383181,\n",
       "       5.45958551, 5.433722  , 5.49306144, 5.5759491 , 5.60580207,\n",
       "       5.46806014, 5.35185813, 5.19295685, 5.30330491, 5.31811999,\n",
       "       5.23644196, 5.45958551, 5.42495002, 5.45532112, 5.5759491 ,\n",
       "       5.71042702, 5.68017261, 5.55682806, 5.433722  , 5.31320598,\n",
       "       5.433722  , 5.48893773, 5.45103845, 5.58724866, 5.59471138,\n",
       "       5.59842196, 5.75257264, 5.89715387, 5.84932478, 5.74300319,\n",
       "       5.61312811, 5.46806014, 5.62762111, 5.64897424, 5.62401751,\n",
       "       5.75890177, 5.74620319, 5.76205138, 5.9242558 , 6.02344759,\n",
       "       6.00388707, 5.87211779, 5.7235851 , 5.60211882, 5.7235851 ,\n",
       "       5.75257264, 5.70711026, 5.87493073, 5.85220248, 5.87211779,\n",
       "       6.04500531, 6.14203741, 6.14632926, 6.00141488, 5.84932478,\n",
       "       5.72031178, 5.81711116, 5.82894562, 5.76205138, 5.89164421,\n",
       "       5.85220248, 5.89440283, 6.07534603, 6.19644413, 6.22455843,\n",
       "       6.00141488, 5.88332239, 5.7365723 , 5.82008293, 5.88610403,\n",
       "       5.83481074, 6.00635316, 5.98141421, 6.04025471, 6.15697899,\n",
       "       6.30627529, 6.32614947, 6.13772705, 6.00881319, 5.89164421,\n",
       "       6.00388707, 6.03308622, 5.96870756, 6.03787092, 6.13339804,\n",
       "       6.15697899, 6.28226675, 6.43294009, 6.40687999, 6.23048145,\n",
       "       6.13339804, 5.96614674, 6.06842559])"
      ]
     },
     "execution_count": 36,
     "metadata": {},
     "output_type": "execute_result"
    }
   ],
   "source": [
    "logpass[11:]"
   ]
  },
  {
   "cell_type": "code",
   "execution_count": 37,
   "metadata": {},
   "outputs": [],
   "source": [
    "diff_logap = logpass[12:] - logpass[:-12]"
   ]
  },
  {
   "cell_type": "code",
   "execution_count": 38,
   "metadata": {},
   "outputs": [
    {
     "data": {
      "text/plain": [
       "(132,)"
      ]
     },
     "execution_count": 38,
     "metadata": {},
     "output_type": "execute_result"
    }
   ],
   "source": [
    "diff_logap.shape"
   ]
  },
  {
   "cell_type": "code",
   "execution_count": 39,
   "metadata": {},
   "outputs": [
    {
     "data": {
      "text/plain": [
       "[<matplotlib.lines.Line2D at 0x1a0b73f7df0>]"
      ]
     },
     "execution_count": 39,
     "metadata": {},
     "output_type": "execute_result"
    },
    {
     "data": {
      "image/png": "[encoded data removed]",
      "text/plain": [
       "<Figure size 864x576 with 1 Axes>"
      ]
     },
     "metadata": {},
     "output_type": "display_data"
    }
   ],
   "source": [
    "fig, ax = plt.subplots(figsize=(12,8))\n",
    "plt.plot(diff_logap-diff_logap.mean())"
   ]
  },
  {
   "cell_type": "code",
   "execution_count": 40,
   "metadata": {},
   "outputs": [],
   "source": [
    "from statsmodels.graphics.tsaplots import plot_acf,plot_pacf"
   ]
  },
  {
   "cell_type": "code",
   "execution_count": 41,
   "metadata": {},
   "outputs": [
    {
     "data": {
      "image/png": "[encoded data removed]",
      "text/plain": [
       "<Figure size 432x288 with 1 Axes>"
      ]
     },
     "execution_count": 41,
     "metadata": {},
     "output_type": "execute_result"
    },
    {
     "data": {
      "image/png": "[encoded data removed]",
      "text/plain": [
       "<Figure size 432x288 with 1 Axes>"
      ]
     },
     "metadata": {},
     "output_type": "display_data"
    }
   ],
   "source": [
    "plot_acf(diff_logap-diff_logap.mean(), lags = 15) "
   ]
  },
  {
   "cell_type": "code",
   "execution_count": 42,
   "metadata": {},
   "outputs": [
    {
     "name": "stderr",
     "output_type": "stream",
     "text": [
      "c:\\Users\\RedmiBook\\AppData\\Local\\Programs\\Python\\Python39\\lib\\site-packages\\statsmodels\\graphics\\tsaplots.py:348: FutureWarning: The default method 'yw' can produce PACF values outside of the [-1,1] interval. After 0.13, the default will change tounadjusted Yule-Walker ('ywm'). You can use this method now by setting method='ywm'.\n",
      "  warnings.warn(\n"
     ]
    },
    {
     "data": {
      "image/png": "[encoded data removed]",
      "text/plain": [
       "<Figure size 432x288 with 1 Axes>"
      ]
     },
     "execution_count": 42,
     "metadata": {},
     "output_type": "execute_result"
    },
    {
     "data": {
      "image/png": "[encoded data removed]",
      "text/plain": [
       "<Figure size 432x288 with 1 Axes>"
      ]
     },
     "metadata": {},
     "output_type": "display_data"
    }
   ],
   "source": [
    "plot_pacf(diff_logap-diff_logap.mean(), lags=15)"
   ]
  },
  {
   "cell_type": "code",
   "execution_count": 43,
   "metadata": {},
   "outputs": [],
   "source": [
    "from statsmodels.tsa.stattools import adfuller"
   ]
  },
  {
   "cell_type": "code",
   "execution_count": 44,
   "metadata": {},
   "outputs": [
    {
     "name": "stdout",
     "output_type": "stream",
     "text": [
      "(-2.7095768189885647, 0.0723956718176956, 12, 119, {'1%': -3.4865346059036564, '5%': -2.8861509858476264, '10%': -2.579896092790057}, -424.76083484995365)\n"
     ]
    }
   ],
   "source": [
    "res = adfuller(diff_logap-diff_logap.mean())\n",
    "print(res)"
   ]
  },
  {
   "attachments": {},
   "cell_type": "markdown",
   "metadata": {},
   "source": [
    "Choose AR(1), MA(6) model"
   ]
  },
  {
   "cell_type": "code",
   "execution_count": 45,
   "metadata": {},
   "outputs": [],
   "source": [
    "from statsmodels.tsa.arima.model import ARIMA"
   ]
  },
  {
   "cell_type": "code",
   "execution_count": 46,
   "metadata": {},
   "outputs": [],
   "source": [
    "arima_model = ARIMA(diff_logap, order=(1,0,12))"
   ]
  },
  {
   "cell_type": "code",
   "execution_count": 47,
   "metadata": {},
   "outputs": [
    {
     "name": "stderr",
     "output_type": "stream",
     "text": [
      "c:\\Users\\RedmiBook\\AppData\\Local\\Programs\\Python\\Python39\\lib\\site-packages\\statsmodels\\base\\model.py:604: ConvergenceWarning: Maximum Likelihood optimization failed to converge. Check mle_retvals\n",
      "  warnings.warn(\"Maximum Likelihood optimization failed to \"\n"
     ]
    }
   ],
   "source": [
    "model = arima_model.fit()"
   ]
  },
  {
   "cell_type": "code",
   "execution_count": 48,
   "metadata": {},
   "outputs": [
    {
     "data": {
      "text/html": [
       "<table class=\"simpletable\">\n",
       "<caption>SARIMAX Results</caption>\n",
       "<tr>\n",
       "  <th>Dep. Variable:</th>           <td>y</td>        <th>  No. Observations:  </th>    <td>132</td>  \n",
       "</tr>\n",
       "<tr>\n",
       "  <th>Model:</th>            <td>ARIMA(1, 0, 12)</td> <th>  Log Likelihood     </th>  <td>254.326</td>\n",
       "</tr>\n",
       "<tr>\n",
       "  <th>Date:</th>            <td>Wed, 22 Feb 2023</td> <th>  AIC                </th> <td>-478.651</td>\n",
       "</tr>\n",
       "<tr>\n",
       "  <th>Time:</th>                <td>19:37:21</td>     <th>  BIC                </th> <td>-435.409</td>\n",
       "</tr>\n",
       "<tr>\n",
       "  <th>Sample:</th>                  <td>0</td>        <th>  HQIC               </th> <td>-461.080</td>\n",
       "</tr>\n",
       "<tr>\n",
       "  <th></th>                      <td> - 132</td>      <th>                     </th>     <td> </td>   \n",
       "</tr>\n",
       "<tr>\n",
       "  <th>Covariance Type:</th>        <td>opg</td>       <th>                     </th>     <td> </td>   \n",
       "</tr>\n",
       "</table>\n",
       "<table class=\"simpletable\">\n",
       "<tr>\n",
       "     <td></td>       <th>coef</th>     <th>std err</th>      <th>z</th>      <th>P>|z|</th>  <th>[0.025</th>    <th>0.975]</th>  \n",
       "</tr>\n",
       "<tr>\n",
       "  <th>const</th>  <td>    0.1178</td> <td>    0.014</td> <td>    8.279</td> <td> 0.000</td> <td>    0.090</td> <td>    0.146</td>\n",
       "</tr>\n",
       "<tr>\n",
       "  <th>ar.L1</th>  <td>    0.7502</td> <td>    0.319</td> <td>    2.350</td> <td> 0.019</td> <td>    0.125</td> <td>    1.376</td>\n",
       "</tr>\n",
       "<tr>\n",
       "  <th>ma.L1</th>  <td>   -0.0670</td> <td>    0.353</td> <td>   -0.190</td> <td> 0.849</td> <td>   -0.758</td> <td>    0.624</td>\n",
       "</tr>\n",
       "<tr>\n",
       "  <th>ma.L2</th>  <td>    0.1371</td> <td>    0.284</td> <td>    0.484</td> <td> 0.629</td> <td>   -0.419</td> <td>    0.693</td>\n",
       "</tr>\n",
       "<tr>\n",
       "  <th>ma.L3</th>  <td>   -0.0313</td> <td>    0.317</td> <td>   -0.099</td> <td> 0.922</td> <td>   -0.653</td> <td>    0.591</td>\n",
       "</tr>\n",
       "<tr>\n",
       "  <th>ma.L4</th>  <td>   -0.1090</td> <td>    0.249</td> <td>   -0.438</td> <td> 0.661</td> <td>   -0.597</td> <td>    0.379</td>\n",
       "</tr>\n",
       "<tr>\n",
       "  <th>ma.L5</th>  <td>    0.2069</td> <td>    0.180</td> <td>    1.152</td> <td> 0.249</td> <td>   -0.145</td> <td>    0.559</td>\n",
       "</tr>\n",
       "<tr>\n",
       "  <th>ma.L6</th>  <td>    0.0461</td> <td>    0.213</td> <td>    0.217</td> <td> 0.829</td> <td>   -0.372</td> <td>    0.464</td>\n",
       "</tr>\n",
       "<tr>\n",
       "  <th>ma.L7</th>  <td>    0.0810</td> <td>    0.222</td> <td>    0.364</td> <td> 0.716</td> <td>   -0.355</td> <td>    0.517</td>\n",
       "</tr>\n",
       "<tr>\n",
       "  <th>ma.L8</th>  <td>    0.0310</td> <td>    0.200</td> <td>    0.155</td> <td> 0.876</td> <td>   -0.360</td> <td>    0.422</td>\n",
       "</tr>\n",
       "<tr>\n",
       "  <th>ma.L9</th>  <td>    0.1597</td> <td>    0.206</td> <td>    0.774</td> <td> 0.439</td> <td>   -0.245</td> <td>    0.564</td>\n",
       "</tr>\n",
       "<tr>\n",
       "  <th>ma.L10</th> <td>    0.0512</td> <td>    0.194</td> <td>    0.264</td> <td> 0.792</td> <td>   -0.329</td> <td>    0.432</td>\n",
       "</tr>\n",
       "<tr>\n",
       "  <th>ma.L11</th> <td>    0.2173</td> <td>    0.193</td> <td>    1.124</td> <td> 0.261</td> <td>   -0.162</td> <td>    0.596</td>\n",
       "</tr>\n",
       "<tr>\n",
       "  <th>ma.L12</th> <td>   -0.5571</td> <td>    0.212</td> <td>   -2.624</td> <td> 0.009</td> <td>   -0.973</td> <td>   -0.141</td>\n",
       "</tr>\n",
       "<tr>\n",
       "  <th>sigma2</th> <td>    0.0012</td> <td>    0.000</td> <td>    5.094</td> <td> 0.000</td> <td>    0.001</td> <td>    0.002</td>\n",
       "</tr>\n",
       "</table>\n",
       "<table class=\"simpletable\">\n",
       "<tr>\n",
       "  <th>Ljung-Box (L1) (Q):</th>     <td>1.02</td> <th>  Jarque-Bera (JB):  </th> <td>8.26</td>\n",
       "</tr>\n",
       "<tr>\n",
       "  <th>Prob(Q):</th>                <td>0.31</td> <th>  Prob(JB):          </th> <td>0.02</td>\n",
       "</tr>\n",
       "<tr>\n",
       "  <th>Heteroskedasticity (H):</th> <td>0.51</td> <th>  Skew:              </th> <td>0.02</td>\n",
       "</tr>\n",
       "<tr>\n",
       "  <th>Prob(H) (two-sided):</th>    <td>0.03</td> <th>  Kurtosis:          </th> <td>4.22</td>\n",
       "</tr>\n",
       "</table><br/><br/>Warnings:<br/>[1] Covariance matrix calculated using the outer product of gradients (complex-step)."
      ],
      "text/plain": [
       "<class 'statsmodels.iolib.summary.Summary'>\n",
       "\"\"\"\n",
       "                               SARIMAX Results                                \n",
       "==============================================================================\n",
       "Dep. Variable:                      y   No. Observations:                  132\n",
       "Model:                ARIMA(1, 0, 12)   Log Likelihood                 254.326\n",
       "Date:                Wed, 22 Feb 2023   AIC                           -478.651\n",
       "Time:                        19:37:21   BIC                           -435.409\n",
       "Sample:                             0   HQIC                          -461.080\n",
       "                                - 132                                         \n",
       "Covariance Type:                  opg                                         \n",
       "==============================================================================\n",
       "                 coef    std err          z      P>|z|      [0.025      0.975]\n",
       "------------------------------------------------------------------------------\n",
       "const          0.1178      0.014      8.279      0.000       0.090       0.146\n",
       "ar.L1          0.7502      0.319      2.350      0.019       0.125       1.376\n",
       "ma.L1         -0.0670      0.353     -0.190      0.849      -0.758       0.624\n",
       "ma.L2          0.1371      0.284      0.484      0.629      -0.419       0.693\n",
       "ma.L3         -0.0313      0.317     -0.099      0.922      -0.653       0.591\n",
       "ma.L4         -0.1090      0.249     -0.438      0.661      -0.597       0.379\n",
       "ma.L5          0.2069      0.180      1.152      0.249      -0.145       0.559\n",
       "ma.L6          0.0461      0.213      0.217      0.829      -0.372       0.464\n",
       "ma.L7          0.0810      0.222      0.364      0.716      -0.355       0.517\n",
       "ma.L8          0.0310      0.200      0.155      0.876      -0.360       0.422\n",
       "ma.L9          0.1597      0.206      0.774      0.439      -0.245       0.564\n",
       "ma.L10         0.0512      0.194      0.264      0.792      -0.329       0.432\n",
       "ma.L11         0.2173      0.193      1.124      0.261      -0.162       0.596\n",
       "ma.L12        -0.5571      0.212     -2.624      0.009      -0.973      -0.141\n",
       "sigma2         0.0012      0.000      5.094      0.000       0.001       0.002\n",
       "===================================================================================\n",
       "Ljung-Box (L1) (Q):                   1.02   Jarque-Bera (JB):                 8.26\n",
       "Prob(Q):                              0.31   Prob(JB):                         0.02\n",
       "Heteroskedasticity (H):               0.51   Skew:                             0.02\n",
       "Prob(H) (two-sided):                  0.03   Kurtosis:                         4.22\n",
       "===================================================================================\n",
       "\n",
       "Warnings:\n",
       "[1] Covariance matrix calculated using the outer product of gradients (complex-step).\n",
       "\"\"\""
      ]
     },
     "execution_count": 48,
     "metadata": {},
     "output_type": "execute_result"
    }
   ],
   "source": [
    "model.summary()"
   ]
  },
  {
   "cell_type": "code",
   "execution_count": 49,
   "metadata": {},
   "outputs": [],
   "source": [
    "forcast_12 = model.forecast(12)"
   ]
  },
  {
   "cell_type": "code",
   "execution_count": 50,
   "metadata": {},
   "outputs": [
    {
     "data": {
      "text/plain": [
       "array([0.08623998, 0.08634938, 0.14653092, 0.09084711, 0.08978032,\n",
       "       0.11530357, 0.11261845, 0.1145959 , 0.12118791, 0.11180828,\n",
       "       0.1236688 , 0.1218936 ])"
      ]
     },
     "execution_count": 50,
     "metadata": {},
     "output_type": "execute_result"
    }
   ],
   "source": [
    "forcast_12"
   ]
  },
  {
   "cell_type": "code",
   "execution_count": 51,
   "metadata": {},
   "outputs": [],
   "source": [
    "prev_12 = airpass.Passengers.to_numpy()[-24:-12]\n"
   ]
  },
  {
   "cell_type": "code",
   "execution_count": 52,
   "metadata": {},
   "outputs": [
    {
     "name": "stdout",
     "output_type": "stream",
     "text": [
      "[392.42444194 372.84400396 470.07115618 433.66021713 459.4522572\n",
      " 529.68503315 613.32424311 626.87388116 522.65153784 455.14746666\n",
      " 409.65404674 457.50173226]\n"
     ]
    }
   ],
   "source": [
    "predicts = np.exp(forcast_12)*prev_12\n",
    "print(predicts)"
   ]
  },
  {
   "cell_type": "code",
   "execution_count": 53,
   "metadata": {},
   "outputs": [
    {
     "data": {
      "text/plain": [
       "array([ 24.57555806,  18.15599604, -51.07115618,  27.33978287,\n",
       "        12.5477428 ,   5.31496685,   8.67575689, -20.87388116,\n",
       "       -14.65153784,   5.85253334, -19.65404674, -25.50173226])"
      ]
     },
     "execution_count": 53,
     "metadata": {},
     "output_type": "execute_result"
    }
   ],
   "source": [
    "airpass.Passengers.to_numpy()[-12:] - predicts"
   ]
  },
  {
   "cell_type": "code",
   "execution_count": 54,
   "metadata": {},
   "outputs": [
    {
     "data": {
      "text/plain": [
       "-474.5132640299149"
      ]
     },
     "execution_count": 54,
     "metadata": {},
     "output_type": "execute_result"
    }
   ],
   "source": [
    "model.aicc"
   ]
  },
  {
   "cell_type": "code",
   "execution_count": 55,
   "metadata": {},
   "outputs": [],
   "source": [
    "from statsmodels.tsa.api import VAR\n",
    "from statsmodels.tsa.stattools import adfuller\n",
    "from statsmodels.tools.eval_measures import rmse, aic"
   ]
  },
  {
   "cell_type": "code",
   "execution_count": 56,
   "metadata": {},
   "outputs": [
    {
     "name": "stdout",
     "output_type": "stream",
     "text": [
      "(150, 2)\n"
     ]
    },
    {
     "data": {
      "text/html": [
       "<div>\n",
       "<style scoped>\n",
       "    .dataframe tbody tr th:only-of-type {\n",
       "        vertical-align: middle;\n",
       "    }\n",
       "\n",
       "    .dataframe tbody tr th {\n",
       "        vertical-align: top;\n",
       "    }\n",
       "\n",
       "    .dataframe thead th {\n",
       "        text-align: right;\n",
       "    }\n",
       "</style>\n",
       "<table border=\"1\" class=\"dataframe\">\n",
       "  <thead>\n",
       "    <tr style=\"text-align: right;\">\n",
       "      <th></th>\n",
       "      <th>Leads</th>\n",
       "      <th>Sales</th>\n",
       "    </tr>\n",
       "  </thead>\n",
       "  <tbody>\n",
       "    <tr>\n",
       "      <th>145</th>\n",
       "      <td>13.50</td>\n",
       "      <td>263.3</td>\n",
       "    </tr>\n",
       "    <tr>\n",
       "      <th>146</th>\n",
       "      <td>13.58</td>\n",
       "      <td>262.8</td>\n",
       "    </tr>\n",
       "    <tr>\n",
       "      <th>147</th>\n",
       "      <td>13.51</td>\n",
       "      <td>261.8</td>\n",
       "    </tr>\n",
       "    <tr>\n",
       "      <th>148</th>\n",
       "      <td>13.77</td>\n",
       "      <td>262.2</td>\n",
       "    </tr>\n",
       "    <tr>\n",
       "      <th>149</th>\n",
       "      <td>13.40</td>\n",
       "      <td>262.7</td>\n",
       "    </tr>\n",
       "  </tbody>\n",
       "</table>\n",
       "</div>"
      ],
      "text/plain": [
       "     Leads  Sales\n",
       "145  13.50  263.3\n",
       "146  13.58  262.8\n",
       "147  13.51  261.8\n",
       "148  13.77  262.2\n",
       "149  13.40  262.7"
      ]
     },
     "execution_count": 56,
     "metadata": {},
     "output_type": "execute_result"
    }
   ],
   "source": [
    "filepath = 'ls2.csv'\n",
    "df = pd.read_csv(filepath)\n",
    "print(df.shape)  # (123, 8)\n",
    "df.tail()"
   ]
  },
  {
   "cell_type": "code",
   "execution_count": 57,
   "metadata": {},
   "outputs": [
    {
     "data": {
      "image/png": "[encoded data removed]",
      "text/plain": [
       "<Figure size 1440x720 with 2 Axes>"
      ]
     },
     "metadata": {},
     "output_type": "display_data"
    }
   ],
   "source": [
    "# Plot\n",
    "fig, axes = plt.subplots(nrows=1, ncols=2, dpi=120, figsize=(12,6))\n",
    "for i, ax in enumerate(axes.flatten()):\n",
    "    data = df[df.columns[i]]\n",
    "    ax.plot(data, color='red', linewidth=1)\n",
    "    # Decorations\n",
    "    ax.set_title(df.columns[i])\n",
    "    ax.xaxis.set_ticks_position('none')\n",
    "    ax.yaxis.set_ticks_position('none')\n",
    "    ax.spines[\"top\"].set_alpha(0)\n",
    "    ax.tick_params(labelsize=6)\n",
    "\n",
    "plt.tight_layout()"
   ]
  },
  {
   "cell_type": "code",
   "execution_count": 58,
   "metadata": {},
   "outputs": [
    {
     "data": {
      "text/html": [
       "<div>\n",
       "<style scoped>\n",
       "    .dataframe tbody tr th:only-of-type {\n",
       "        vertical-align: middle;\n",
       "    }\n",
       "\n",
       "    .dataframe tbody tr th {\n",
       "        vertical-align: top;\n",
       "    }\n",
       "\n",
       "    .dataframe thead th {\n",
       "        text-align: right;\n",
       "    }\n",
       "</style>\n",
       "<table border=\"1\" class=\"dataframe\">\n",
       "  <thead>\n",
       "    <tr style=\"text-align: right;\">\n",
       "      <th></th>\n",
       "      <th>Leads_x</th>\n",
       "      <th>Sales_x</th>\n",
       "    </tr>\n",
       "  </thead>\n",
       "  <tbody>\n",
       "    <tr>\n",
       "      <th>Leads_y</th>\n",
       "      <td>1.0</td>\n",
       "      <td>0.0002</td>\n",
       "    </tr>\n",
       "    <tr>\n",
       "      <th>Sales_y</th>\n",
       "      <td>0.0</td>\n",
       "      <td>1.0000</td>\n",
       "    </tr>\n",
       "  </tbody>\n",
       "</table>\n",
       "</div>"
      ],
      "text/plain": [
       "         Leads_x  Sales_x\n",
       "Leads_y      1.0   0.0002\n",
       "Sales_y      0.0   1.0000"
      ]
     },
     "execution_count": 58,
     "metadata": {},
     "output_type": "execute_result"
    }
   ],
   "source": [
    "from statsmodels.tsa.stattools import grangercausalitytests\n",
    "maxlag=12\n",
    "test = 'ssr_chi2test'\n",
    "def grangers_causation_matrix(data, variables, test='ssr_chi2test', verbose=False):    \n",
    "    \"\"\"Check Granger Causality of all possible combinations of the Time series.\n",
    "    The rows are the response variable, columns are predictors. The values in the table \n",
    "    are the P-Values. P-Values lesser than the significance level (0.05), implies \n",
    "    the Null Hypothesis that the coefficients of the corresponding past values is \n",
    "    zero, that is, the X does not cause Y can be rejected.\n",
    "\n",
    "    data      : pandas dataframe containing the time series variables\n",
    "    variables : list containing names of the time series variables.\n",
    "    \"\"\"\n",
    "    df = pd.DataFrame(np.zeros((len(variables), len(variables))), columns=variables, index=variables)\n",
    "    for c in df.columns:\n",
    "        for r in df.index:\n",
    "            test_result = grangercausalitytests(data[[r, c]], maxlag=maxlag, verbose=False)\n",
    "            p_values = [round(test_result[i+1][0][test][1],4) for i in range(maxlag)]\n",
    "            if verbose: print(f'Y = {r}, X = {c}, P Values = {p_values}')\n",
    "            min_p_value = np.min(p_values)\n",
    "            df.loc[r, c] = min_p_value\n",
    "    df.columns = [var + '_x' for var in variables]\n",
    "    df.index = [var + '_y' for var in variables]\n",
    "    return df\n",
    "\n",
    "grangers_causation_matrix(df, variables = df.columns) "
   ]
  },
  {
   "cell_type": "code",
   "execution_count": 59,
   "metadata": {},
   "outputs": [
    {
     "name": "stdout",
     "output_type": "stream",
     "text": [
      "Name   ::  Test Stat > C(95%)    =>   Signif  \n",
      " ----------------------------------------\n",
      "Leads  ::  5.73      > 12.3212   =>   False\n",
      "Sales  ::  1.75      > 4.1296    =>   False\n"
     ]
    }
   ],
   "source": [
    "from statsmodels.tsa.vector_ar.vecm import coint_johansen\n",
    "\n",
    "def cointegration_test(df, alpha=0.05): \n",
    "    \"\"\"Perform Johanson's Cointegration Test and Report Summary\"\"\"\n",
    "    out = coint_johansen(df,-1,5)\n",
    "    d = {'0.90':0, '0.95':1, '0.99':2}\n",
    "    traces = out.lr1\n",
    "    cvts = out.cvt[:, d[str(1-alpha)]]\n",
    "    def adjust(val, length= 6): return str(val).ljust(length)\n",
    "\n",
    "    # Summary\n",
    "    print('Name   ::  Test Stat > C(95%)    =>   Signif  \\n', '--'*20)\n",
    "    for col, trace, cvt in zip(df.columns, traces, cvts):\n",
    "        print(adjust(col), ':: ', adjust(round(trace,2), 9), \">\", adjust(cvt, 8), ' =>  ' , trace > cvt)\n",
    "\n",
    "cointegration_test(df)"
   ]
  },
  {
   "cell_type": "code",
   "execution_count": 60,
   "metadata": {},
   "outputs": [
    {
     "name": "stdout",
     "output_type": "stream",
     "text": [
      "(150, 2)\n",
      "(4, 2)\n"
     ]
    }
   ],
   "source": [
    "nobs = 4\n",
    "df_train, df_test = df, df[-nobs:]\n",
    "\n",
    "# Check size\n",
    "print(df_train.shape)  # (119, 8)\n",
    "print(df_test.shape)  # (4, 8)"
   ]
  },
  {
   "cell_type": "code",
   "execution_count": 61,
   "metadata": {},
   "outputs": [],
   "source": [
    "def adfuller_test(series, signif=0.05, name='', verbose=False):\n",
    "    \"\"\"Perform ADFuller to test for Stationarity of given series and print report\"\"\"\n",
    "    r = adfuller(series, autolag='AIC')\n",
    "    output = {'test_statistic':round(r[0], 4), 'pvalue':round(r[1], 4), 'n_lags':round(r[2], 4), 'n_obs':r[3]}\n",
    "    p_value = output['pvalue'] \n",
    "    def adjust(val, length= 6): return str(val).ljust(length)\n",
    "\n",
    "    # Print Summary\n",
    "    print(f'    Augmented Dickey-Fuller Test on \"{name}\"', \"\\n   \", '-'*47)\n",
    "    print(f' Null Hypothesis: Data has unit root. Non-Stationary.')\n",
    "    print(f' Significance Level    = {signif}')\n",
    "    print(f' Test Statistic        = {output[\"test_statistic\"]}')\n",
    "    print(f' No. Lags Chosen       = {output[\"n_lags\"]}')\n",
    "\n",
    "    for key,val in r[4].items():\n",
    "        print(f' Critical value {adjust(key)} = {round(val, 3)}')\n",
    "\n",
    "    if p_value <= signif:\n",
    "        print(f\" => P-Value = {p_value}. Rejecting Null Hypothesis.\")\n",
    "        print(f\" => Series is Stationary.\")\n",
    "    else:\n",
    "        print(f\" => P-Value = {p_value}. Weak evidence to reject the Null Hypothesis.\")\n",
    "        print(f\" => Series is Non-Stationary.\") "
   ]
  },
  {
   "cell_type": "code",
   "execution_count": 62,
   "metadata": {},
   "outputs": [
    {
     "name": "stdout",
     "output_type": "stream",
     "text": [
      "    Augmented Dickey-Fuller Test on \"Leads\" \n",
      "    -----------------------------------------------\n",
      " Null Hypothesis: Data has unit root. Non-Stationary.\n",
      " Significance Level    = 0.05\n",
      " Test Statistic        = -0.9606\n",
      " No. Lags Chosen       = 3\n",
      " Critical value 1%     = -3.476\n",
      " Critical value 5%     = -2.882\n",
      " Critical value 10%    = -2.577\n",
      " => P-Value = 0.7674. Weak evidence to reject the Null Hypothesis.\n",
      " => Series is Non-Stationary.\n",
      "\n",
      "\n",
      "    Augmented Dickey-Fuller Test on \"Sales\" \n",
      "    -----------------------------------------------\n",
      " Null Hypothesis: Data has unit root. Non-Stationary.\n",
      " Significance Level    = 0.05\n",
      " Test Statistic        = -1.01\n",
      " No. Lags Chosen       = 4\n",
      " Critical value 1%     = -3.476\n",
      " Critical value 5%     = -2.882\n",
      " Critical value 10%    = -2.578\n",
      " => P-Value = 0.7496. Weak evidence to reject the Null Hypothesis.\n",
      " => Series is Non-Stationary.\n",
      "\n",
      "\n"
     ]
    }
   ],
   "source": [
    "# ADF Test on each column\n",
    "for name, column in df_train.iteritems():\n",
    "    adfuller_test(column, name=column.name)\n",
    "    print('\\n')"
   ]
  },
  {
   "cell_type": "code",
   "execution_count": 63,
   "metadata": {},
   "outputs": [],
   "source": [
    "df_differenced = df_train.diff().dropna()"
   ]
  },
  {
   "cell_type": "code",
   "execution_count": 64,
   "metadata": {},
   "outputs": [
    {
     "name": "stdout",
     "output_type": "stream",
     "text": [
      "    Augmented Dickey-Fuller Test on \"Leads\" \n",
      "    -----------------------------------------------\n",
      " Null Hypothesis: Data has unit root. Non-Stationary.\n",
      " Significance Level    = 0.05\n",
      " Test Statistic        = -11.8198\n",
      " No. Lags Chosen       = 1\n",
      " Critical value 1%     = -3.476\n",
      " Critical value 5%     = -2.881\n",
      " Critical value 10%    = -2.577\n",
      " => P-Value = 0.0. Rejecting Null Hypothesis.\n",
      " => Series is Stationary.\n",
      "\n",
      "\n",
      "    Augmented Dickey-Fuller Test on \"Sales\" \n",
      "    -----------------------------------------------\n",
      " Null Hypothesis: Data has unit root. Non-Stationary.\n",
      " Significance Level    = 0.05\n",
      " Test Statistic        = -3.7223\n",
      " No. Lags Chosen       = 3\n",
      " Critical value 1%     = -3.476\n",
      " Critical value 5%     = -2.882\n",
      " Critical value 10%    = -2.578\n",
      " => P-Value = 0.0038. Rejecting Null Hypothesis.\n",
      " => Series is Stationary.\n",
      "\n",
      "\n"
     ]
    }
   ],
   "source": [
    "# ADF Test on each column of 1st Differences Dataframe\n",
    "for name, column in df_differenced.iteritems():\n",
    "    adfuller_test(column, name=column.name)\n",
    "    print('\\n')"
   ]
  },
  {
   "cell_type": "code",
   "execution_count": 65,
   "metadata": {},
   "outputs": [],
   "source": [
    "# # Second Differencing\n",
    "# df_differenced = df_differenced.diff().dropna()"
   ]
  },
  {
   "cell_type": "code",
   "execution_count": 66,
   "metadata": {},
   "outputs": [
    {
     "name": "stdout",
     "output_type": "stream",
     "text": [
      "    Augmented Dickey-Fuller Test on \"Leads\" \n",
      "    -----------------------------------------------\n",
      " Null Hypothesis: Data has unit root. Non-Stationary.\n",
      " Significance Level    = 0.05\n",
      " Test Statistic        = -11.8198\n",
      " No. Lags Chosen       = 1\n",
      " Critical value 1%     = -3.476\n",
      " Critical value 5%     = -2.881\n",
      " Critical value 10%    = -2.577\n",
      " => P-Value = 0.0. Rejecting Null Hypothesis.\n",
      " => Series is Stationary.\n",
      "\n",
      "\n",
      "    Augmented Dickey-Fuller Test on \"Sales\" \n",
      "    -----------------------------------------------\n",
      " Null Hypothesis: Data has unit root. Non-Stationary.\n",
      " Significance Level    = 0.05\n",
      " Test Statistic        = -3.7223\n",
      " No. Lags Chosen       = 3\n",
      " Critical value 1%     = -3.476\n",
      " Critical value 5%     = -2.882\n",
      " Critical value 10%    = -2.578\n",
      " => P-Value = 0.0038. Rejecting Null Hypothesis.\n",
      " => Series is Stationary.\n",
      "\n",
      "\n"
     ]
    }
   ],
   "source": [
    "# ADF Test on each column of 2nd Differences Dataframe\n",
    "for name, column in df_differenced.iteritems():\n",
    "    adfuller_test(column, name=column.name)\n",
    "    print('\\n')"
   ]
  },
  {
   "cell_type": "code",
   "execution_count": 67,
   "metadata": {},
   "outputs": [
    {
     "name": "stdout",
     "output_type": "stream",
     "text": [
      "Lag Order = 1\n",
      "AIC :  -1.835786252541649\n",
      "BIC :  -1.7142776468485093\n",
      "FPE :  0.15948982612624096\n",
      "HQIC:  -1.7864175867280727 \n",
      "\n",
      "Lag Order = 2\n",
      "AIC :  -2.075740555605806\n",
      "BIC :  -1.8723097673895657\n",
      "FPE :  0.12547006799547944\n",
      "HQIC:  -1.993084419994483 \n",
      "\n",
      "Lag Order = 3\n",
      "AIC :  -4.465025542602491\n",
      "BIC :  -4.178926277507171\n",
      "FPE :  0.011506094954165647\n",
      "HQIC:  -4.348776859013712 \n",
      "\n",
      "Lag Order = 4\n",
      "AIC :  -4.961942273294545\n",
      "BIC :  -4.592416705269922\n",
      "FPE :  0.007001557168601741\n",
      "HQIC:  -4.811791536534144 \n",
      "\n",
      "Lag Order = 5\n",
      "AIC :  -5.123585634743038\n",
      "BIC :  -4.669864158418926\n",
      "FPE :  0.005958185962731662\n",
      "HQIC:  -4.939218828821427 \n",
      "\n",
      "Lag Order = 6\n",
      "AIC :  -5.144400651325682\n",
      "BIC :  -4.605701627642063\n",
      "FPE :  0.005837842990129327\n",
      "HQIC:  -4.9254991638690475 \n",
      "\n",
      "Lag Order = 7\n",
      "AIC :  -5.194303720024449\n",
      "BIC :  -4.569833214897422\n",
      "FPE :  0.005556863250423944\n",
      "HQIC:  -4.94054425484247 \n",
      "\n",
      "Lag Order = 8\n",
      "AIC :  -5.273128338405879\n",
      "BIC :  -4.562079854201214\n",
      "FPE :  0.005139646855103701\n",
      "HQIC:  -4.984182826180333 \n",
      "\n",
      "Lag Order = 9\n",
      "AIC :  -5.255851734763048\n",
      "BIC :  -4.457405934340522\n",
      "FPE :  0.0052345124886506965\n",
      "HQIC:  -4.931387241821795 \n",
      "\n"
     ]
    },
    {
     "name": "stderr",
     "output_type": "stream",
     "text": [
      "c:\\Users\\RedmiBook\\AppData\\Local\\Programs\\Python\\Python39\\lib\\site-packages\\statsmodels\\tsa\\base\\tsa_model.py:471: ValueWarning: An unsupported index was provided and will be ignored when e.g. forecasting.\n",
      "  self._init_dates(dates, freq)\n"
     ]
    }
   ],
   "source": [
    "model = VAR(df_differenced)\n",
    "for i in [1,2,3,4,5,6,7,8,9]:\n",
    "    result = model.fit(i)\n",
    "    print('Lag Order =', i)\n",
    "    print('AIC : ', result.aic)\n",
    "    print('BIC : ', result.bic)\n",
    "    print('FPE : ', result.fpe)\n",
    "    print('HQIC: ', result.hqic, '\\n')"
   ]
  },
  {
   "cell_type": "code",
   "execution_count": 68,
   "metadata": {},
   "outputs": [
    {
     "data": {
      "text/html": [
       "<table class=\"simpletable\">\n",
       "<caption>VAR Order Selection (* highlights the minimums)</caption>\n",
       "<tr>\n",
       "   <td></td>      <th>AIC</th>         <th>BIC</th>         <th>FPE</th>        <th>HQIC</th>    \n",
       "</tr>\n",
       "<tr>\n",
       "  <th>0</th>  <td>    -1.487</td>  <td>    -1.445</td>  <td>    0.2260</td>  <td>    -1.470</td> \n",
       "</tr>\n",
       "<tr>\n",
       "  <th>1</th>  <td>    -1.776</td>  <td>    -1.648</td>  <td>    0.1694</td>  <td>    -1.724</td> \n",
       "</tr>\n",
       "<tr>\n",
       "  <th>2</th>  <td>    -2.006</td>  <td>    -1.793</td>  <td>    0.1346</td>  <td>    -1.919</td> \n",
       "</tr>\n",
       "<tr>\n",
       "  <th>3</th>  <td>    -4.393</td>  <td>    -4.095</td>  <td>   0.01236</td>  <td>    -4.272</td> \n",
       "</tr>\n",
       "<tr>\n",
       "  <th>4</th>  <td>    -4.913</td>  <td>    -4.529</td>  <td>  0.007354</td>  <td>    -4.757</td> \n",
       "</tr>\n",
       "<tr>\n",
       "  <th>5</th>  <td>    -5.106</td>  <td>    -4.638*</td> <td>  0.006062</td>  <td>    -4.916</td> \n",
       "</tr>\n",
       "<tr>\n",
       "  <th>6</th>  <td>    -5.130</td>  <td>    -4.576</td>  <td>  0.005923</td>  <td>    -4.905</td> \n",
       "</tr>\n",
       "<tr>\n",
       "  <th>7</th>  <td>    -5.191</td>  <td>    -4.551</td>  <td>  0.005579</td>  <td>    -4.931</td> \n",
       "</tr>\n",
       "<tr>\n",
       "  <th>8</th>  <td>    -5.275*</td> <td>    -4.550</td>  <td>  0.005132*</td> <td>    -4.980*</td>\n",
       "</tr>\n",
       "<tr>\n",
       "  <th>9</th>  <td>    -5.267</td>  <td>    -4.457</td>  <td>  0.005176</td>  <td>    -4.938</td> \n",
       "</tr>\n",
       "<tr>\n",
       "  <th>10</th> <td>    -5.241</td>  <td>    -4.346</td>  <td>  0.005322</td>  <td>    -4.877</td> \n",
       "</tr>\n",
       "<tr>\n",
       "  <th>11</th> <td>    -5.190</td>  <td>    -4.210</td>  <td>  0.005606</td>  <td>    -4.792</td> \n",
       "</tr>\n",
       "<tr>\n",
       "  <th>12</th> <td>    -5.173</td>  <td>    -4.107</td>  <td>  0.005717</td>  <td>    -4.739</td> \n",
       "</tr>\n",
       "</table>"
      ],
      "text/plain": [
       "<class 'statsmodels.iolib.table.SimpleTable'>"
      ]
     },
     "execution_count": 68,
     "metadata": {},
     "output_type": "execute_result"
    }
   ],
   "source": [
    "x = model.select_order(maxlags=12)\n",
    "x.summary()"
   ]
  },
  {
   "cell_type": "code",
   "execution_count": 69,
   "metadata": {},
   "outputs": [
    {
     "data": {
      "text/plain": [
       "  Summary of Regression Results   \n",
       "==================================\n",
       "Model:                         VAR\n",
       "Method:                        OLS\n",
       "Date:           Wed, 22, Feb, 2023\n",
       "Time:                     19:37:23\n",
       "--------------------------------------------------------------------\n",
       "No. of Equations:         2.00000    BIC:                   -4.56208\n",
       "Nobs:                     141.000    HQIC:                  -4.98418\n",
       "Log likelihood:           5.61488    FPE:                 0.00513965\n",
       "AIC:                     -5.27313    Det(Omega_mle):      0.00409315\n",
       "--------------------------------------------------------------------\n",
       "Results for equation Leads\n",
       "===========================================================================\n",
       "              coefficient       std. error           t-stat            prob\n",
       "---------------------------------------------------------------------------\n",
       "const            0.028722         0.028299            1.015           0.310\n",
       "L1.Leads        -0.481981         0.088671           -5.436           0.000\n",
       "L1.Sales         0.105031         0.109512            0.959           0.338\n",
       "L2.Leads        -0.160758         0.098901           -1.625           0.104\n",
       "L2.Sales        -0.008883         0.112874           -0.079           0.937\n",
       "L3.Leads        -0.061184         0.099204           -0.617           0.537\n",
       "L3.Sales         0.064439         0.106132            0.607           0.544\n",
       "L4.Leads        -0.398102         0.530431           -0.751           0.453\n",
       "L4.Sales         0.079989         0.092339            0.866           0.386\n",
       "L5.Leads        -0.294343         0.778687           -0.378           0.705\n",
       "L5.Sales         0.044108         0.076236            0.579           0.563\n",
       "L6.Leads        -0.455450         0.850551           -0.535           0.592\n",
       "L6.Sales        -0.126971         0.079085           -1.606           0.108\n",
       "L7.Leads        -0.772396         0.774669           -0.997           0.319\n",
       "L7.Sales        -0.015914         0.019509           -0.816           0.415\n",
       "L8.Leads        -0.690609         0.524175           -1.318           0.188\n",
       "L8.Sales         0.025386         0.019001            1.336           0.182\n",
       "===========================================================================\n",
       "\n",
       "Results for equation Sales\n",
       "===========================================================================\n",
       "              coefficient       std. error           t-stat            prob\n",
       "---------------------------------------------------------------------------\n",
       "const            0.046621         0.021991            2.120           0.034\n",
       "L1.Leads        -0.043787         0.068904           -0.635           0.525\n",
       "L1.Sales        -0.508836         0.085099           -5.979           0.000\n",
       "L2.Leads         0.000667         0.076854            0.009           0.993\n",
       "L2.Sales        -0.219433         0.087712           -2.502           0.012\n",
       "L3.Leads         4.741684         0.077090           61.509           0.000\n",
       "L3.Sales        -0.105476         0.082473           -1.279           0.201\n",
       "L4.Leads         5.895962         0.412188           14.304           0.000\n",
       "L4.Sales        -0.060047         0.071755           -0.837           0.403\n",
       "L5.Leads         5.178438         0.605103            8.558           0.000\n",
       "L5.Sales         0.200175         0.059242            3.379           0.001\n",
       "L6.Leads         4.265803         0.660947            6.454           0.000\n",
       "L6.Sales         0.239701         0.061455            3.900           0.000\n",
       "L7.Leads         3.329748         0.601980            5.531           0.000\n",
       "L7.Sales        -0.004996         0.015160           -0.330           0.742\n",
       "L8.Leads         1.574760         0.407326            3.866           0.000\n",
       "L8.Sales         0.012230         0.014765            0.828           0.407\n",
       "===========================================================================\n",
       "\n",
       "Correlation matrix of residuals\n",
       "            Leads     Sales\n",
       "Leads    1.000000 -0.038998\n",
       "Sales   -0.038998  1.000000\n",
       "\n"
      ]
     },
     "execution_count": 69,
     "metadata": {},
     "output_type": "execute_result"
    }
   ],
   "source": [
    "model_fitted = model.fit(8)\n",
    "model_fitted.summary()"
   ]
  },
  {
   "cell_type": "code",
   "execution_count": 70,
   "metadata": {},
   "outputs": [
    {
     "name": "stdout",
     "output_type": "stream",
     "text": [
      "Leads  : 1.94\n",
      "Sales  : 2.07\n"
     ]
    }
   ],
   "source": [
    "from statsmodels.stats.stattools import durbin_watson\n",
    "out = durbin_watson(model_fitted.resid)\n",
    "def adjust(val, length= 6): return str(val).ljust(length)\n",
    "for col, val in zip(df.columns, out):\n",
    "    print(adjust(col), ':', round(val, 2))"
   ]
  },
  {
   "cell_type": "code",
   "execution_count": 71,
   "metadata": {},
   "outputs": [
    {
     "name": "stdout",
     "output_type": "stream",
     "text": [
      "8\n"
     ]
    },
    {
     "data": {
      "text/plain": [
       "array([[-0.34,  2.1 ],\n",
       "       [-0.12,  1.5 ],\n",
       "       [-0.16,  1.8 ],\n",
       "       [ 0.25,  0.4 ],\n",
       "       [ 0.08, -0.5 ],\n",
       "       [-0.07, -1.  ],\n",
       "       [ 0.26,  0.4 ],\n",
       "       [-0.37,  0.5 ]])"
      ]
     },
     "execution_count": 71,
     "metadata": {},
     "output_type": "execute_result"
    }
   ],
   "source": [
    "# Get the lag order\n",
    "lag_order = model_fitted.k_ar\n",
    "print(lag_order)  #> 4\n",
    "\n",
    "# Input data for forecasting\n",
    "forecast_input = df_differenced.values[-lag_order:]\n",
    "forecast_input"
   ]
  },
  {
   "cell_type": "code",
   "execution_count": 72,
   "metadata": {},
   "outputs": [
    {
     "data": {
      "text/html": [
       "<div>\n",
       "<style scoped>\n",
       "    .dataframe tbody tr th:only-of-type {\n",
       "        vertical-align: middle;\n",
       "    }\n",
       "\n",
       "    .dataframe tbody tr th {\n",
       "        vertical-align: top;\n",
       "    }\n",
       "\n",
       "    .dataframe thead th {\n",
       "        text-align: right;\n",
       "    }\n",
       "</style>\n",
       "<table border=\"1\" class=\"dataframe\">\n",
       "  <thead>\n",
       "    <tr style=\"text-align: right;\">\n",
       "      <th></th>\n",
       "      <th>Leads_1d</th>\n",
       "      <th>Sales_1d</th>\n",
       "    </tr>\n",
       "  </thead>\n",
       "  <tbody>\n",
       "    <tr>\n",
       "      <th>146</th>\n",
       "      <td>0.227536</td>\n",
       "      <td>0.202879</td>\n",
       "    </tr>\n",
       "    <tr>\n",
       "      <th>147</th>\n",
       "      <td>-0.041214</td>\n",
       "      <td>1.425581</td>\n",
       "    </tr>\n",
       "    <tr>\n",
       "      <th>148</th>\n",
       "      <td>0.103557</td>\n",
       "      <td>-0.760317</td>\n",
       "    </tr>\n",
       "    <tr>\n",
       "      <th>149</th>\n",
       "      <td>-0.037006</td>\n",
       "      <td>0.517709</td>\n",
       "    </tr>\n",
       "  </tbody>\n",
       "</table>\n",
       "</div>"
      ],
      "text/plain": [
       "     Leads_1d  Sales_1d\n",
       "146  0.227536  0.202879\n",
       "147 -0.041214  1.425581\n",
       "148  0.103557 -0.760317\n",
       "149 -0.037006  0.517709"
      ]
     },
     "execution_count": 72,
     "metadata": {},
     "output_type": "execute_result"
    }
   ],
   "source": [
    "fc = model_fitted.forecast(y=forecast_input, steps=nobs)\n",
    "df_forecast = pd.DataFrame(fc, index=df.index[-nobs:], columns=df.columns + '_1d')\n",
    "df_forecast"
   ]
  },
  {
   "cell_type": "code",
   "execution_count": 73,
   "metadata": {},
   "outputs": [],
   "source": [
    "def invert_transformation(df_train, df_forecast, second_diff=False):\n",
    "    \"\"\"Revert back the differencing to get the forecast to original scale.\"\"\"\n",
    "    df_fc = df_forecast.copy()\n",
    "    columns = df_train.columns\n",
    "    for col in columns:        \n",
    "        # Roll back 2nd Diff\n",
    "        if second_diff:\n",
    "            df_fc[str(col)+'_1d'] = (df_train[col].iloc[-1]-df_train[col].iloc[-2]) + df_fc[str(col)+'_2d']\n",
    "        # Roll back 1st Diff\n",
    "        df_fc[str(col)+'_forecast'] = df_train[col].iloc[-1] + df_fc[str(col)+'_1d']\n",
    "    return df_fc"
   ]
  },
  {
   "cell_type": "code",
   "execution_count": 74,
   "metadata": {},
   "outputs": [
    {
     "data": {
      "text/html": [
       "<div>\n",
       "<style scoped>\n",
       "    .dataframe tbody tr th:only-of-type {\n",
       "        vertical-align: middle;\n",
       "    }\n",
       "\n",
       "    .dataframe tbody tr th {\n",
       "        vertical-align: top;\n",
       "    }\n",
       "\n",
       "    .dataframe thead th {\n",
       "        text-align: right;\n",
       "    }\n",
       "</style>\n",
       "<table border=\"1\" class=\"dataframe\">\n",
       "  <thead>\n",
       "    <tr style=\"text-align: right;\">\n",
       "      <th></th>\n",
       "      <th>Leads_forecast</th>\n",
       "      <th>Sales_forecast</th>\n",
       "    </tr>\n",
       "  </thead>\n",
       "  <tbody>\n",
       "    <tr>\n",
       "      <th>146</th>\n",
       "      <td>13.627536</td>\n",
       "      <td>262.902879</td>\n",
       "    </tr>\n",
       "    <tr>\n",
       "      <th>147</th>\n",
       "      <td>13.358786</td>\n",
       "      <td>264.125581</td>\n",
       "    </tr>\n",
       "    <tr>\n",
       "      <th>148</th>\n",
       "      <td>13.503557</td>\n",
       "      <td>261.939683</td>\n",
       "    </tr>\n",
       "    <tr>\n",
       "      <th>149</th>\n",
       "      <td>13.362994</td>\n",
       "      <td>263.217709</td>\n",
       "    </tr>\n",
       "  </tbody>\n",
       "</table>\n",
       "</div>"
      ],
      "text/plain": [
       "     Leads_forecast  Sales_forecast\n",
       "146       13.627536      262.902879\n",
       "147       13.358786      264.125581\n",
       "148       13.503557      261.939683\n",
       "149       13.362994      263.217709"
      ]
     },
     "execution_count": 74,
     "metadata": {},
     "output_type": "execute_result"
    }
   ],
   "source": [
    "df_results = invert_transformation(df_train, df_forecast, second_diff=False)        \n",
    "df_results.loc[:, ['Leads_forecast', 'Sales_forecast']]"
   ]
  },
  {
   "cell_type": "code",
   "execution_count": 75,
   "metadata": {},
   "outputs": [
    {
     "data": {
      "text/html": [
       "<div>\n",
       "<style scoped>\n",
       "    .dataframe tbody tr th:only-of-type {\n",
       "        vertical-align: middle;\n",
       "    }\n",
       "\n",
       "    .dataframe tbody tr th {\n",
       "        vertical-align: top;\n",
       "    }\n",
       "\n",
       "    .dataframe thead th {\n",
       "        text-align: right;\n",
       "    }\n",
       "</style>\n",
       "<table border=\"1\" class=\"dataframe\">\n",
       "  <thead>\n",
       "    <tr style=\"text-align: right;\">\n",
       "      <th></th>\n",
       "      <th>Leads</th>\n",
       "      <th>Sales</th>\n",
       "    </tr>\n",
       "  </thead>\n",
       "  <tbody>\n",
       "    <tr>\n",
       "      <th>145</th>\n",
       "      <td>13.50</td>\n",
       "      <td>263.3</td>\n",
       "    </tr>\n",
       "    <tr>\n",
       "      <th>146</th>\n",
       "      <td>13.58</td>\n",
       "      <td>262.8</td>\n",
       "    </tr>\n",
       "    <tr>\n",
       "      <th>147</th>\n",
       "      <td>13.51</td>\n",
       "      <td>261.8</td>\n",
       "    </tr>\n",
       "    <tr>\n",
       "      <th>148</th>\n",
       "      <td>13.77</td>\n",
       "      <td>262.2</td>\n",
       "    </tr>\n",
       "    <tr>\n",
       "      <th>149</th>\n",
       "      <td>13.40</td>\n",
       "      <td>262.7</td>\n",
       "    </tr>\n",
       "  </tbody>\n",
       "</table>\n",
       "</div>"
      ],
      "text/plain": [
       "     Leads  Sales\n",
       "145  13.50  263.3\n",
       "146  13.58  262.8\n",
       "147  13.51  261.8\n",
       "148  13.77  262.2\n",
       "149  13.40  262.7"
      ]
     },
     "execution_count": 75,
     "metadata": {},
     "output_type": "execute_result"
    }
   ],
   "source": [
    "df.tail()"
   ]
  },
  {
   "cell_type": "code",
   "execution_count": 76,
   "metadata": {},
   "outputs": [
    {
     "data": {
      "image/png": "[encoded data removed]",
      "text/plain": [
       "<Figure size 1500x1500 with 2 Axes>"
      ]
     },
     "metadata": {},
     "output_type": "display_data"
    }
   ],
   "source": [
    "fig, axes = plt.subplots(nrows=int(len(df.columns)/2), ncols=2, dpi=150, figsize=(10,10))\n",
    "for i, (col,ax) in enumerate(zip(df.columns, axes.flatten())):\n",
    "    df_results[col+'_forecast'].plot(legend=True, ax=ax).autoscale(axis='x',tight=True)\n",
    "    df_test[col][-nobs:].plot(legend=True, ax=ax);\n",
    "    ax.set_title(col + \": Forecast vs Actuals\")\n",
    "    ax.xaxis.set_ticks_position('none')\n",
    "    ax.yaxis.set_ticks_position('none')\n",
    "    ax.spines[\"top\"].set_alpha(0)\n",
    "    ax.tick_params(labelsize=6)\n",
    "\n",
    "plt.tight_layout()"
   ]
  },
  {
   "cell_type": "code",
   "execution_count": 77,
   "metadata": {},
   "outputs": [],
   "source": [
    "from statsmodels.tsa.stattools import levinson_durbin"
   ]
  },
  {
   "cell_type": "code",
   "execution_count": 86,
   "metadata": {},
   "outputs": [],
   "source": [
    "res = levinson_durbin([ 0.9**2,1+0.9**2, 0, 0, 0], 4, True)"
   ]
  },
  {
   "cell_type": "code",
   "execution_count": 87,
   "metadata": {},
   "outputs": [
    {
     "data": {
      "text/plain": [
       "array([-1.83337485,  1.82046057,  1.0186936 , -2.27634003])"
      ]
     },
     "execution_count": 87,
     "metadata": {},
     "output_type": "execute_result"
    }
   ],
   "source": [
    "res[1]"
   ]
  },
  {
   "attachments": {},
   "cell_type": "markdown",
   "metadata": {},
   "source": [
    "# Durbin-Levinson"
   ]
  },
  {
   "cell_type": "code",
   "execution_count": 88,
   "metadata": {},
   "outputs": [
    {
     "name": "stdout",
     "output_type": "stream",
     "text": [
      "[-0.78161192 -0.57669292 -0.38131148 -0.19349129]\n"
     ]
    }
   ],
   "source": [
    "from statsmodels.tsa.arima_process import ArmaProcess\n",
    "from statsmodels.tsa.stattools import levinson_durbin\n",
    "\n",
    "\n",
    "np.random.seed(0)\n",
    "Ariel = ArmaProcess.from_coeffs([], [-0.9]).generate_sample(nsample=100000)\n",
    "\n",
    "Belle = levinson_durbin(Ariel, nlags=4, isacov=False)\n",
    "print(Belle[1])"
   ]
  },
  {
   "cell_type": "code",
   "execution_count": 89,
   "metadata": {},
   "outputs": [
    {
     "name": "stdout",
     "output_type": "stream",
     "text": [
      "ACVF: [ 1.79611334e+00 -8.90469605e-01 -2.16083916e-04  1.11587877e-03\n",
      " -8.73356956e-03]\n",
      "[[-0.49577584  0.          0.          0.        ]\n",
      " [-0.65742686 -0.32605666  0.          0.        ]\n",
      " [-0.73536262 -0.48319826 -0.23902522  0.        ]\n",
      " [-0.78161192 -0.57669292 -0.38131148 -0.19349129]]\n"
     ]
    }
   ],
   "source": [
    "from statsmodels.tsa.stattools import acovf\n",
    "\n",
    "# assuming you have a time series called 'y'\n",
    "# and a chosen AR order of p = 3\n",
    "y = Ariel\n",
    "p = 4\n",
    "\n",
    "# initialize the algorithm with the first p autocorrelations\n",
    "acvf = acovf(y, fft=False, missing='drop', nlag=p)\n",
    "print(\"ACVF:\",acvf)\n",
    "\n",
    "# initialize the coefficients and the recursion variables\n",
    "phi = np.zeros((p+1, p+1))\n",
    "mse = np.zeros(p+1)\n",
    "\n",
    "\n",
    "phi[1, 1] = acvf[1] / acvf[0]\n",
    "mse[0]    = acvf[0]\n",
    "mse[1]    = mse[0] * (1 - phi[1, 1]**2)\n",
    "\n",
    "# run the Levinson-Durbin algorithm\n",
    "for n in range(2, p+1):\n",
    "    phi[n, n] = acvf[n];\n",
    "    for j in range(1, n):\n",
    "        phi[n, n] -= phi[n-1, j] * acvf[n-j]\n",
    "    phi[n, n] /= mse[n-1];\n",
    "\n",
    "    for j in range(1, n):\n",
    "        phi[n, j] = phi[n-1, j] - phi[n, n] * phi[n-1, n-j]\n",
    "    \n",
    "    mse[n] = mse[n-1] * (1 - phi[n, n]**2)\n",
    "\n",
    "Belle = phi;\n",
    "print(Belle[1:,1:])"
   ]
  },
  {
   "attachments": {},
   "cell_type": "markdown",
   "metadata": {},
   "source": [
    "# Innovations"
   ]
  },
  {
   "cell_type": "code",
   "execution_count": 90,
   "metadata": {},
   "outputs": [
    {
     "name": "stdout",
     "output_type": "stream",
     "text": [
      "[[ 0.00000000e+00  0.00000000e+00  0.00000000e+00  0.00000000e+00]\n",
      " [-4.95775843e-01  0.00000000e+00  0.00000000e+00  0.00000000e+00]\n",
      " [-6.57426859e-01 -1.20306392e-04  0.00000000e+00  0.00000000e+00]\n",
      " [-7.35362625e-01  2.48879273e-04  6.21274142e-04  0.00000000e+00]\n",
      " [-7.81611923e-01 -1.92472088e-03 -2.37259640e-03 -4.86248243e-03]]\n"
     ]
    },
    {
     "name": "stderr",
     "output_type": "stream",
     "text": [
      "C:\\Users\\RedmiBook\\AppData\\Local\\Temp\\ipykernel_13456\\492049804.py:5: FutureWarning: the 'unbiased'' keyword is deprecated, use 'adjusted' instead\n",
      "  Cindy = acovf(Ariel, unbiased=False)\n"
     ]
    }
   ],
   "source": [
    "from statsmodels.tsa.stattools import innovations_algo, acovf\n",
    "\n",
    "\n",
    "# Ariel = np.random.randn(100)\n",
    "Cindy = acovf(Ariel, unbiased=False)\n",
    "Belle = innovations_algo(Cindy[:5])\n",
    "print(Belle[0])"
   ]
  },
  {
   "cell_type": "code",
   "execution_count": null,
   "metadata": {},
   "outputs": [],
   "source": []
  }
 ],
 "metadata": {
  "kernelspec": {
   "display_name": "Python 3",
   "language": "python",
   "name": "python3"
  },
  "language_info": {
   "codemirror_mode": {
    "name": "ipython",
    "version": 3
   },
   "file_extension": ".py",
   "mimetype": "text/x-python",
   "name": "python",
   "nbconvert_exporter": "python",
   "pygments_lexer": "ipython3",
   "version": "3.9.1"
  },
  "orig_nbformat": 4,
  "vscode": {
   "interpreter": {
    "hash": "df8a48ca9e685d22343965aa2cdf0372bb61bcf27b5655933b4ffe34f0a0b741"
   }
  }
 },
 "nbformat": 4,
 "nbformat_minor": 2
}
