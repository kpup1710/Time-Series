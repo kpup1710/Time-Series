{
 "cells": [
  {
   "cell_type": "code",
   "execution_count": 184,
   "metadata": {},
   "outputs": [],
   "source": [
    "import numpy as np\n",
    "import pandas as pd\n",
    "import seaborn as sns\n",
    "import matplotlib\n",
    "import matplotlib.pyplot as plt\n",
    "import statsmodels.api as sm"
   ]
  },
  {
   "cell_type": "code",
<<<<<<< HEAD
   "execution_count": 185,
=======
   "execution_count": 2,
>>>>>>> 31896946ba6d8f8c1c806038af4523779a99ff5b
   "metadata": {},
   "outputs": [],
   "source": [
    "sns.set(style=\"whitegrid\", font_scale=1.2, context=\"talk\", palette=sns.color_palette(\"bright\"), color_codes=False)\n",
    "matplotlib.rcParams['mathtext.fontset'] = 'cm'"
   ]
  },
  {
   "cell_type": "code",
<<<<<<< HEAD
   "execution_count": 186,
=======
   "execution_count": 3,
>>>>>>> 31896946ba6d8f8c1c806038af4523779a99ff5b
   "metadata": {},
   "outputs": [],
   "source": [
    "df = pd.read_csv('data.csv')"
   ]
  },
  {
   "cell_type": "code",
<<<<<<< HEAD
   "execution_count": 187,
=======
   "execution_count": 4,
>>>>>>> 31896946ba6d8f8c1c806038af4523779a99ff5b
   "metadata": {},
   "outputs": [],
   "source": [
    "df.drop(df.columns[df.columns.str.contains('unnamed',case = False)],axis = 1, inplace = True)"
   ]
  },
  {
   "cell_type": "code",
<<<<<<< HEAD
   "execution_count": 188,
=======
   "execution_count": 5,
>>>>>>> 31896946ba6d8f8c1c806038af4523779a99ff5b
   "metadata": {},
   "outputs": [
    {
     "data": {
      "text/html": [
       "<div>\n",
       "<style scoped>\n",
       "    .dataframe tbody tr th:only-of-type {\n",
       "        vertical-align: middle;\n",
       "    }\n",
       "\n",
       "    .dataframe tbody tr th {\n",
       "        vertical-align: top;\n",
       "    }\n",
       "\n",
       "    .dataframe thead th {\n",
       "        text-align: right;\n",
       "    }\n",
       "</style>\n",
       "<table border=\"1\" class=\"dataframe\">\n",
       "  <thead>\n",
       "    <tr style=\"text-align: right;\">\n",
       "      <th></th>\n",
       "      <th>x</th>\n",
       "    </tr>\n",
       "  </thead>\n",
       "  <tbody>\n",
       "    <tr>\n",
       "      <th>0</th>\n",
       "      <td>580.38</td>\n",
       "    </tr>\n",
       "    <tr>\n",
       "      <th>1</th>\n",
       "      <td>581.86</td>\n",
       "    </tr>\n",
       "    <tr>\n",
       "      <th>2</th>\n",
       "      <td>580.97</td>\n",
       "    </tr>\n",
       "    <tr>\n",
       "      <th>3</th>\n",
       "      <td>580.80</td>\n",
       "    </tr>\n",
       "    <tr>\n",
       "      <th>4</th>\n",
       "      <td>579.79</td>\n",
       "    </tr>\n",
       "    <tr>\n",
       "      <th>...</th>\n",
       "      <td>...</td>\n",
       "    </tr>\n",
       "    <tr>\n",
       "      <th>93</th>\n",
       "      <td>578.52</td>\n",
       "    </tr>\n",
       "    <tr>\n",
       "      <th>94</th>\n",
       "      <td>579.74</td>\n",
       "    </tr>\n",
       "    <tr>\n",
       "      <th>95</th>\n",
       "      <td>579.31</td>\n",
       "    </tr>\n",
       "    <tr>\n",
       "      <th>96</th>\n",
       "      <td>579.89</td>\n",
       "    </tr>\n",
       "    <tr>\n",
       "      <th>97</th>\n",
       "      <td>579.96</td>\n",
       "    </tr>\n",
       "  </tbody>\n",
       "</table>\n",
       "<p>98 rows × 1 columns</p>\n",
       "</div>"
      ],
      "text/plain": [
       "         x\n",
       "0   580.38\n",
       "1   581.86\n",
       "2   580.97\n",
       "3   580.80\n",
       "4   579.79\n",
       "..     ...\n",
       "93  578.52\n",
       "94  579.74\n",
       "95  579.31\n",
       "96  579.89\n",
       "97  579.96\n",
       "\n",
       "[98 rows x 1 columns]"
      ]
     },
<<<<<<< HEAD
     "execution_count": 188,
=======
     "execution_count": 5,
>>>>>>> 31896946ba6d8f8c1c806038af4523779a99ff5b
     "metadata": {},
     "output_type": "execute_result"
    }
   ],
   "source": [
    "df"
   ]
  },
  {
   "attachments": {},
   "cell_type": "markdown",
   "metadata": {},
   "source": [
    "# create data for AR($p$) in Dickey-Fuller test"
   ]
  },
  {
   "cell_type": "code",
<<<<<<< HEAD
   "execution_count": 189,
=======
   "execution_count": 6,
>>>>>>> 31896946ba6d8f8c1c806038af4523779a99ff5b
   "metadata": {},
   "outputs": [],
   "source": [
    "def xyArray(df, p):\n",
    "    dt = df.copy()\n",
    "    dt.x = dt.x - dt.x.mean()\n",
    "    X = np.ones((dt.shape[0] - p - 2 + 1, 1))\n",
    "    X = np.concatenate([X, dt[p:-1]], axis=1)\n",
    "    for i in range(1, p):\n",
    "        X = np.concatenate([X, dt[p-i+1:-i].to_numpy() - dt[p-i:-i-1].to_numpy()], axis=1)\n",
    "    y = dt[p+1:].to_numpy() - dt[p:-1].to_numpy()\n",
    "    # print(y)\n",
    "    return X, y\n"
   ]
  },
  {
   "cell_type": "code",
<<<<<<< HEAD
   "execution_count": 190,
=======
   "execution_count": 7,
>>>>>>> 31896946ba6d8f8c1c806038af4523779a99ff5b
   "metadata": {},
   "outputs": [],
   "source": [
    "def AR(df, p):\n",
    "    X,y = xyArray(df, p)\n",
    "    beta = np.linalg.inv(X.T@X)@X.T@y\n",
    "    S = np.sum((y - X@beta)**2)\n",
    "    xbar = df[:-1].to_numpy().mean()\n",
    "    e = np.sum((df[:-1].to_numpy() - xbar)**2)\n",
    "    return beta, np.sqrt(S*e) / (df.shape[0] - p-2)"
   ]
  },
  {
   "cell_type": "code",
<<<<<<< HEAD
   "execution_count": 191,
=======
   "execution_count": 8,
>>>>>>> 31896946ba6d8f8c1c806038af4523779a99ff5b
   "metadata": {},
   "outputs": [],
   "source": [
    "a = AR(df, 1)"
   ]
  },
  {
   "cell_type": "code",
<<<<<<< HEAD
   "execution_count": 192,
=======
   "execution_count": 9,
>>>>>>> 31896946ba6d8f8c1c806038af4523779a99ff5b
   "metadata": {},
   "outputs": [
    {
     "data": {
      "text/plain": [
       "array([[-0.0241164],\n",
       "       [-0.1780461]])"
      ]
     },
<<<<<<< HEAD
     "execution_count": 192,
=======
     "execution_count": 9,
>>>>>>> 31896946ba6d8f8c1c806038af4523779a99ff5b
     "metadata": {},
     "output_type": "execute_result"
    }
   ],
   "source": [
    "a[0]"
   ]
  },
  {
   "cell_type": "code",
<<<<<<< HEAD
   "execution_count": 193,
=======
   "execution_count": 10,
>>>>>>> 31896946ba6d8f8c1c806038af4523779a99ff5b
   "metadata": {},
   "outputs": [
    {
     "data": {
      "text/plain": [
       "0.928253791874368"
      ]
     },
<<<<<<< HEAD
     "execution_count": 193,
=======
     "execution_count": 10,
>>>>>>> 31896946ba6d8f8c1c806038af4523779a99ff5b
     "metadata": {},
     "output_type": "execute_result"
    }
   ],
   "source": [
    "a[1]"
   ]
  },
  {
   "cell_type": "code",
<<<<<<< HEAD
   "execution_count": 194,
=======
   "execution_count": 11,
>>>>>>> 31896946ba6d8f8c1c806038af4523779a99ff5b
   "metadata": {},
   "outputs": [],
   "source": [
    "djao = pd.read_csv('djao2.csv')"
   ]
  },
  {
   "cell_type": "code",
<<<<<<< HEAD
   "execution_count": 195,
=======
   "execution_count": 12,
>>>>>>> 31896946ba6d8f8c1c806038af4523779a99ff5b
   "metadata": {},
   "outputs": [],
   "source": [
    "djao.drop(djao.columns[djao.columns.str.contains('Unnamed',case = True)],axis = 1, inplace = True)"
   ]
  },
  {
   "cell_type": "code",
<<<<<<< HEAD
   "execution_count": 196,
=======
   "execution_count": 13,
>>>>>>> 31896946ba6d8f8c1c806038af4523779a99ff5b
   "metadata": {},
   "outputs": [
    {
     "data": {
      "text/html": [
       "<div>\n",
       "<style scoped>\n",
       "    .dataframe tbody tr th:only-of-type {\n",
       "        vertical-align: middle;\n",
       "    }\n",
       "\n",
       "    .dataframe tbody tr th {\n",
       "        vertical-align: top;\n",
       "    }\n",
       "\n",
       "    .dataframe thead th {\n",
       "        text-align: right;\n",
       "    }\n",
       "</style>\n",
       "<table border=\"1\" class=\"dataframe\">\n",
       "  <thead>\n",
       "    <tr style=\"text-align: right;\">\n",
       "      <th></th>\n",
       "      <th>DJ</th>\n",
       "      <th>AO</th>\n",
       "    </tr>\n",
       "  </thead>\n",
       "  <tbody>\n",
       "    <tr>\n",
       "      <th>0</th>\n",
       "      <td>3621.63</td>\n",
       "      <td>1941.5</td>\n",
       "    </tr>\n",
       "    <tr>\n",
       "      <th>1</th>\n",
       "      <td>3634.21</td>\n",
       "      <td>1938.3</td>\n",
       "    </tr>\n",
       "    <tr>\n",
       "      <th>2</th>\n",
       "      <td>3615.76</td>\n",
       "      <td>1912.9</td>\n",
       "    </tr>\n",
       "    <tr>\n",
       "      <th>3</th>\n",
       "      <td>3633.65</td>\n",
       "      <td>1903.6</td>\n",
       "    </tr>\n",
       "    <tr>\n",
       "      <th>4</th>\n",
       "      <td>3630.85</td>\n",
       "      <td>1902.6</td>\n",
       "    </tr>\n",
       "    <tr>\n",
       "      <th>...</th>\n",
       "      <td>...</td>\n",
       "      <td>...</td>\n",
       "    </tr>\n",
       "    <tr>\n",
       "      <th>246</th>\n",
       "      <td>3751.22</td>\n",
       "      <td>2063.6</td>\n",
       "    </tr>\n",
       "    <tr>\n",
       "      <th>247</th>\n",
       "      <td>3775.83</td>\n",
       "      <td>2051.6</td>\n",
       "    </tr>\n",
       "    <tr>\n",
       "      <th>248</th>\n",
       "      <td>3846.73</td>\n",
       "      <td>2061.1</td>\n",
       "    </tr>\n",
       "    <tr>\n",
       "      <th>249</th>\n",
       "      <td>3829.89</td>\n",
       "      <td>2077.8</td>\n",
       "    </tr>\n",
       "    <tr>\n",
       "      <th>250</th>\n",
       "      <td>3881.05</td>\n",
       "      <td>2077.2</td>\n",
       "    </tr>\n",
       "  </tbody>\n",
       "</table>\n",
       "<p>251 rows × 2 columns</p>\n",
       "</div>"
      ],
      "text/plain": [
       "          DJ      AO\n",
       "0    3621.63  1941.5\n",
       "1    3634.21  1938.3\n",
       "2    3615.76  1912.9\n",
       "3    3633.65  1903.6\n",
       "4    3630.85  1902.6\n",
       "..       ...     ...\n",
       "246  3751.22  2063.6\n",
       "247  3775.83  2051.6\n",
       "248  3846.73  2061.1\n",
       "249  3829.89  2077.8\n",
       "250  3881.05  2077.2\n",
       "\n",
       "[251 rows x 2 columns]"
      ]
     },
<<<<<<< HEAD
     "execution_count": 196,
=======
     "execution_count": 13,
>>>>>>> 31896946ba6d8f8c1c806038af4523779a99ff5b
     "metadata": {},
     "output_type": "execute_result"
    }
   ],
   "source": [
    "djao"
   ]
  },
  {
   "cell_type": "code",
<<<<<<< HEAD
   "execution_count": 197,
=======
   "execution_count": 14,
>>>>>>> 31896946ba6d8f8c1c806038af4523779a99ff5b
   "metadata": {},
   "outputs": [],
   "source": [
    "d1 = djao.to_numpy()"
   ]
  },
  {
   "cell_type": "code",
<<<<<<< HEAD
   "execution_count": 198,
=======
   "execution_count": 15,
>>>>>>> 31896946ba6d8f8c1c806038af4523779a99ff5b
   "metadata": {},
   "outputs": [],
   "source": [
    "d2 = d1.copy()"
   ]
  },
  {
   "cell_type": "code",
<<<<<<< HEAD
   "execution_count": 199,
=======
   "execution_count": 16,
>>>>>>> 31896946ba6d8f8c1c806038af4523779a99ff5b
   "metadata": {},
   "outputs": [],
   "source": [
    "d = (d2[1:] - d1[:-1]) / d1[:-1]"
   ]
  },
  {
   "cell_type": "code",
<<<<<<< HEAD
   "execution_count": 200,
=======
   "execution_count": 17,
>>>>>>> 31896946ba6d8f8c1c806038af4523779a99ff5b
   "metadata": {},
   "outputs": [],
   "source": [
    "d *= 100"
   ]
  },
  {
   "cell_type": "code",
<<<<<<< HEAD
   "execution_count": 201,
=======
   "execution_count": 18,
>>>>>>> 31896946ba6d8f8c1c806038af4523779a99ff5b
   "metadata": {},
   "outputs": [
    {
     "data": {
      "text/plain": [
       "array([[ 0.34735741, -0.16482101],\n",
       "       [-0.50767567, -1.31042666],\n",
       "       [ 0.49477841, -0.48617283],\n",
       "       [-0.0770575 , -0.05253204],\n",
       "       [-0.48473498,  1.2036161 ],\n",
       "       [-1.03646302, -0.07270839],\n",
       "       [-1.07836009,  0.05716959],\n",
       "       [ 0.27648675, -0.30646167],\n",
       "       [-0.20496078,  0.48455166],\n",
       "       [ 0.09492196,  0.9281344 ],\n",
       "       [ 0.69402305, -0.17980992],\n",
       "       [-0.04708916, -0.03602676],\n",
       "       [ 0.00785189,  0.46851671],\n",
       "       [-0.31349017,  0.66618838],\n",
       "       [ 0.7310583 ,  0.42252087],\n",
       "       [-0.09354641,  0.21797536],\n",
       "       [ 0.26552927,  1.08750632],\n",
       "       [ 0.32699052,  1.01576182],\n",
       "       [-0.4267864 ,  0.18327719],\n",
       "       [ 0.03097418,  0.1829419 ],\n",
       "       [ 0.24185854,  0.67120719],\n",
       "       [-0.00779204, -0.57848809],\n",
       "       [ 0.27997874,  0.52268245],\n",
       "       [ 0.51176874,  1.14784656],\n",
       "       [ 0.2236562 ,  0.58680892],\n",
       "       [ 0.34658225,  0.54963599],\n",
       "       [-0.19191118, -0.47950132],\n",
       "       [ 0.26902721, -1.14671164],\n",
       "       [-0.24526076,  0.4240386 ],\n",
       "       [ 0.36137024,  0.04853427],\n",
       "       [ 0.66615515, -0.70340545],\n",
       "       [-0.03048772,  0.42991841],\n",
       "       [-0.21320684,  0.6129299 ],\n",
       "       [ 0.63307374,  0.38679108],\n",
       "       [-0.1971333 ,  1.72903723],\n",
       "       [ 0.32657808,  0.95634883],\n",
       "       [ 0.13621801, -0.33295817],\n",
       "       [-0.96737378, -0.79518186],\n",
       "       [-1.00740878, -0.32251945],\n",
       "       [ 0.50896833, -1.03254663],\n",
       "       [ 0.12268659, -1.23563633],\n",
       "       [-0.21464404, -0.16551456],\n",
       "       [ 0.64504254, -0.38521553],\n",
       "       [-0.03057144,  0.46502521],\n",
       "       [ 0.60287842,  1.05242643],\n",
       "       [-0.18971315,  0.42912247],\n",
       "       [ 0.90414192,  0.04320899],\n",
       "       [-0.17300991,  0.98377963],\n",
       "       [-0.51318045,  0.17583044],\n",
       "       [ 0.23525645, -1.17647059],\n",
       "       [-0.64320346, -1.62730415],\n",
       "       [ 0.10680471, -1.93724686],\n",
       "       [ 0.36498039,  1.13455414],\n",
       "       [ 0.        ,  0.47234796],\n",
       "       [-0.09843854,  0.05386876],\n",
       "       [-0.16694038, -1.60540355],\n",
       "       [ 0.16721953, -0.04476944],\n",
       "       [ 0.35641092, -0.1990644 ],\n",
       "       [ 0.13605332,  2.08935873],\n",
       "       [ 0.05294278,  0.00488448],\n",
       "       [ 0.16576361,  0.30770734],\n",
       "       [ 0.2336795 ,  0.98359059],\n",
       "       [ 0.42082562,  1.06562515],\n",
       "       [-0.12719137, -0.01431298],\n",
       "       [ 0.29197433, -0.51534094],\n",
       "       [ 0.63518033,  0.46045374],\n",
       "       [-0.57910494, -0.37717832],\n",
       "       [-0.68695009, -0.80034506],\n",
       "       [ 0.24805484,  0.23672641],\n",
       "       [ 0.6824757 ,  0.26026605],\n",
       "       [ 0.09702605, -0.20190366],\n",
       "       [-0.26789447, -0.43352601],\n",
       "       [ 0.45498845, -0.66763425],\n",
       "       [-0.11881378,  0.7597896 ],\n",
       "       [ 0.        ,  0.98607889],\n",
       "       [ 0.93700435,  0.        ],\n",
       "       [ 0.02214647,  0.        ],\n",
       "       [ 0.01476104,  1.80451848],\n",
       "       [-0.48625185,  1.29766327],\n",
       "       [-0.57708402,  0.88651659],\n",
       "       [ 0.06686041,  0.        ],\n",
       "       [ 0.72672097,  0.03220464],\n",
       "       [ 0.39430218,  0.87844364],\n",
       "       [ 0.13319926,  0.3145801 ],\n",
       "       [ 0.44402032, -0.64991138],\n",
       "       [ 1.17096816,  0.57639524],\n",
       "       [-0.39322108,  0.36841626],\n",
       "       [-0.04363285, -0.50301355],\n",
       "       [-0.16109629, -0.82437602],\n",
       "       [ 0.64464414,  1.3272101 ],\n",
       "       [ 0.07990277,  1.44126178],\n",
       "       [ 0.        , -0.27254043],\n",
       "       [ 0.36379703,  0.72129385],\n",
       "       [ 0.19539848,  0.80064051],\n",
       "       [ 0.57862876, -0.70161504],\n",
       "       [-0.04317304, -1.1465138 ],\n",
       "       [-0.44597333, -0.1168802 ],\n",
       "       [ 0.32500372,  0.        ],\n",
       "       [ 0.46827021,  1.29618795],\n",
       "       [ 0.48722716,  0.40876172],\n",
       "       [ 0.83463653,  2.25231205],\n",
       "       [-0.36070139, -0.03029254],\n",
       "       [ 0.29086708,  0.08657634],\n",
       "       [-0.19821207,  1.23264565],\n",
       "       [-2.42561107, -0.33324789],\n",
       "       [ 0.90147801, -2.21622085],\n",
       "       [-0.00742387,  1.06527552],\n",
       "       [ 0.66282133, -1.49648651],\n",
       "       [-0.93033429, -1.6116958 ],\n",
       "       [-0.01437615,  0.3177729 ],\n",
       "       [ 0.23826763, -0.12492192],\n",
       "       [ 0.62012367, -0.20548557],\n",
       "       [ 0.22910849,  0.67144136],\n",
       "       [-0.37157726, -0.36016007],\n",
       "       [-0.89684498, -0.78986122],\n",
       "       [ 0.        , -2.01061533],\n",
       "       [ 0.62251444,  1.10167546],\n",
       "       [-0.51078059,  0.7446084 ],\n",
       "       [-1.33053077, -0.98697553],\n",
       "       [-0.02916743, -2.19390077],\n",
       "       [-0.17609761,  1.45662695],\n",
       "       [-0.5947255 ,  0.07339113],\n",
       "       [ 0.59093308, -1.26965211],\n",
       "       [-0.19103593, -0.12070566],\n",
       "       [ 0.20604432, -1.60825509],\n",
       "       [ 0.62416825,  1.31802721],\n",
       "       [-0.11669459,  1.25891733],\n",
       "       [ 0.0438765 , -1.14656721],\n",
       "       [-0.59142422,  0.38662195],\n",
       "       [ 0.83746234, -0.09280312],\n",
       "       [ 0.00724882,  1.21685012],\n",
       "       [-0.34662359, -0.3120268 ],\n",
       "       [-0.03740658,  0.04602992],\n",
       "       [ 0.44151086, -0.41867955],\n",
       "       [ 0.78936339, -0.04158196],\n",
       "       [-0.79062544, -1.06309221],\n",
       "       [-0.05951072,  0.01401542],\n",
       "       [ 0.17889736,  1.87313154],\n",
       "       [-1.25004523, -0.50896419],\n",
       "       [-1.21326637, -0.83878698],\n",
       "       [-0.32797048, -1.98456962],\n",
       "       [-1.68325648, -0.38408649],\n",
       "       [-1.95376073, -0.39984768],\n",
       "       [ 0.25394637, -1.87822596],\n",
       "       [ 0.        ,  0.        ],\n",
       "       [-1.17190508,  0.        ],\n",
       "       [ 2.28366288, -0.15099118],\n",
       "       [ 0.11753791,  1.66341463],\n",
       "       [ 0.36769002,  0.15834173],\n",
       "       [-0.51445065, -0.25869503],\n",
       "       [ 0.39654243, -0.28818444],\n",
       "       [-0.19355731,  0.92003854],\n",
       "       [-0.54920431,  0.76845974],\n",
       "       [ 0.04861435, -0.76733611],\n",
       "       [-0.04859073, -0.68735084],\n",
       "       [-1.12113441,  0.7353648 ],\n",
       "       [-0.01657266, -1.6460709 ],\n",
       "       [-0.58317817, -0.71795867],\n",
       "       [ 1.49581378, -0.83064595],\n",
       "       [-0.10567988,  0.63559322],\n",
       "       [ 1.56494952,  0.        ],\n",
       "       [-0.1683856 ,  1.31701346],\n",
       "       [ 0.        , -0.4687349 ],\n",
       "       [-0.844159  ,  0.45637714],\n",
       "       [ 0.36474562, -0.14499058],\n",
       "       [ 0.52503062, -0.88088669],\n",
       "       [ 0.36179215, -0.18067288],\n",
       "       [-0.44852345, -1.26210743],\n",
       "       [-0.04813738, -1.50118906],\n",
       "       [-0.71618547,  0.81484835],\n",
       "       [-1.10260253,  0.24946365],\n",
       "       [ 0.75419395, -0.05474543],\n",
       "       [-0.74854844,  1.3146101 ],\n",
       "       [ 0.65582082,  0.33421803],\n",
       "       [ 0.18725156,  1.40099931],\n",
       "       [ 0.32297906,  1.97584541],\n",
       "       [ 1.33760044, -0.70586006],\n",
       "       [ 0.33005341,  0.5629771 ],\n",
       "       [ 0.69892228, -0.66894392],\n",
       "       [ 0.19606383,  0.48717581],\n",
       "       [-0.63562866,  0.81277627],\n",
       "       [ 0.07374927,  0.53748232],\n",
       "       [ 0.27048171, -1.24273119],\n",
       "       [-0.04899742, -0.42737072],\n",
       "       [ 0.09804287,  0.25275407],\n",
       "       [ 0.        , -0.49471982],\n",
       "       [ 0.03273767, -0.47805718],\n",
       "       [ 0.06545391,  0.73974445],\n",
       "       [-0.04892537, -0.96318901],\n",
       "       [ 0.35195624,  0.07703418],\n",
       "       [-0.09808548, -0.29346676],\n",
       "       [-0.33461412, -0.11097708],\n",
       "       [-0.1719956 ,  0.45889286],\n",
       "       [ 0.09841443, -0.14425157],\n",
       "       [ 0.54114688, -0.35151924],\n",
       "       [ 0.25626416,  0.        ],\n",
       "       [ 0.83819704,  0.34792694],\n",
       "       [-0.64013337, -0.10594241],\n",
       "       [ 0.55218301, -0.88700347],\n",
       "       [-0.9067677 , -0.23346304],\n",
       "       [-0.92353804, -1.30655226],\n",
       "       [-0.9067586 , -1.52143845],\n",
       "       [ 0.4530781 ,  0.86777689],\n",
       "       [-0.68943854,  0.57685613],\n",
       "       [-1.68014295, -0.22744129],\n",
       "       [ 1.33518837, -2.99816641],\n",
       "       [-0.4303351 ,  0.86849903],\n",
       "       [-0.07057913,  0.03545381],\n",
       "       [-1.14778909,  0.70882487],\n",
       "       [ 0.59835143, -1.17138404],\n",
       "       [ 0.        ,  1.08352833],\n",
       "       [ 0.15987276,  0.82029088],\n",
       "       [ 0.60287804, -0.60896476],\n",
       "       [ 0.37882705, -1.4564082 ],\n",
       "       [ 0.56175815,  0.13760065],\n",
       "       [-0.16580663, -0.18830475],\n",
       "       [-0.00891172,  0.59657353],\n",
       "       [ 0.04375233,  0.2889148 ],\n",
       "       [ 0.94404311,  1.47073688],\n",
       "       [ 0.3893829 ,  2.50535439],\n",
       "       [ 0.04315615,  0.69484937],\n",
       "       [-0.18959214,  0.24610336],\n",
       "       [-0.56131963,  0.05776451],\n",
       "       [ 0.13897571, -1.41441355],\n",
       "       [ 0.06939142,  0.16103845],\n",
       "       [ 0.18205963, -0.2046285 ],\n",
       "       [-0.16462489, -0.34174681],\n",
       "       [-0.40715479,  0.01959536],\n",
       "       [ 0.27845944,  0.01959152],\n",
       "       [ 0.90248015,  0.95000245],\n",
       "       [ 0.89440829,  0.99927237],\n",
       "       [-0.05134051,  0.23053648],\n",
       "       [-0.10694849, -0.69960228],\n",
       "       [-0.69538205,  0.54046229],\n",
       "       [-0.49843459,  0.40316775],\n",
       "       [ 0.18121067, -0.51627707],\n",
       "       [ 0.05194722,  0.27389361],\n",
       "       [ 0.29288346, -0.49357869],\n",
       "       [-0.42105151, -0.65976403],\n",
       "       [ 0.47481938, -0.52840799],\n",
       "       [-0.22341862,  0.18519421],\n",
       "       [ 0.64569488, -0.76373012],\n",
       "       [-0.21376273,  0.95588235],\n",
       "       [-0.55739736,  0.35445496],\n",
       "       [-0.00852099, -0.26611186],\n",
       "       [-0.10359217,  0.11158007],\n",
       "       [ 0.65605323, -0.58150804],\n",
       "       [ 1.87773284,  0.46305323],\n",
       "       [-0.43777442,  0.81024696],\n",
       "       [ 1.3358086 , -0.0288767 ]])"
      ]
     },
<<<<<<< HEAD
     "execution_count": 201,
=======
     "execution_count": 18,
>>>>>>> 31896946ba6d8f8c1c806038af4523779a99ff5b
     "metadata": {},
     "output_type": "execute_result"
    }
   ],
   "source": [
    "d"
   ]
  },
  {
   "cell_type": "code",
<<<<<<< HEAD
   "execution_count": 202,
=======
   "execution_count": 19,
>>>>>>> 31896946ba6d8f8c1c806038af4523779a99ff5b
   "metadata": {},
   "outputs": [],
   "source": [
    "all = np.concatenate([np.ones((250,1)), d], axis=1)"
   ]
  },
  {
   "cell_type": "code",
<<<<<<< HEAD
   "execution_count": 203,
=======
   "execution_count": 20,
>>>>>>> 31896946ba6d8f8c1c806038af4523779a99ff5b
   "metadata": {},
   "outputs": [],
   "source": [
    "X = all[0:-1]"
   ]
  },
  {
   "cell_type": "code",
<<<<<<< HEAD
   "execution_count": 204,
=======
   "execution_count": 21,
>>>>>>> 31896946ba6d8f8c1c806038af4523779a99ff5b
   "metadata": {},
   "outputs": [
    {
     "data": {
      "text/plain": [
       "(249, 3)"
      ]
     },
<<<<<<< HEAD
     "execution_count": 204,
=======
     "execution_count": 21,
>>>>>>> 31896946ba6d8f8c1c806038af4523779a99ff5b
     "metadata": {},
     "output_type": "execute_result"
    }
   ],
   "source": [
    "X.shape"
   ]
  },
  {
   "cell_type": "code",
<<<<<<< HEAD
   "execution_count": 205,
=======
   "execution_count": 22,
>>>>>>> 31896946ba6d8f8c1c806038af4523779a99ff5b
   "metadata": {},
   "outputs": [],
   "source": [
    "y = all[1:,1:]"
   ]
  },
  {
   "cell_type": "code",
<<<<<<< HEAD
   "execution_count": 206,
=======
   "execution_count": 23,
>>>>>>> 31896946ba6d8f8c1c806038af4523779a99ff5b
   "metadata": {},
   "outputs": [
    {
     "data": {
      "text/plain": [
       "(249, 2)"
      ]
     },
<<<<<<< HEAD
     "execution_count": 206,
=======
     "execution_count": 23,
>>>>>>> 31896946ba6d8f8c1c806038af4523779a99ff5b
     "metadata": {},
     "output_type": "execute_result"
    }
   ],
   "source": [
    "y.shape"
   ]
  },
  {
   "cell_type": "code",
<<<<<<< HEAD
   "execution_count": 207,
=======
   "execution_count": 24,
>>>>>>> 31896946ba6d8f8c1c806038af4523779a99ff5b
   "metadata": {},
   "outputs": [],
   "source": [
    "beta = np.linalg.inv(X.T@X)@X.T@y"
   ]
  },
  {
   "cell_type": "code",
<<<<<<< HEAD
   "execution_count": 208,
=======
   "execution_count": 25,
>>>>>>> 31896946ba6d8f8c1c806038af4523779a99ff5b
   "metadata": {},
   "outputs": [
    {
     "data": {
      "text/plain": [
       "array([[ 0.02748849,  0.01229704],\n",
       "       [-0.01517162,  0.67142411],\n",
       "       [ 0.03574866,  0.0991333 ]])"
      ]
     },
<<<<<<< HEAD
     "execution_count": 208,
=======
     "execution_count": 25,
>>>>>>> 31896946ba6d8f8c1c806038af4523779a99ff5b
     "metadata": {},
     "output_type": "execute_result"
    }
   ],
   "source": [
    "beta"
   ]
  },
  {
   "cell_type": "code",
<<<<<<< HEAD
   "execution_count": 209,
=======
   "execution_count": 26,
>>>>>>> 31896946ba6d8f8c1c806038af4523779a99ff5b
   "metadata": {},
   "outputs": [],
   "source": [
    "import statsmodels.api as sm"
   ]
  },
  {
   "cell_type": "code",
<<<<<<< HEAD
   "execution_count": 210,
=======
   "execution_count": 27,
>>>>>>> 31896946ba6d8f8c1c806038af4523779a99ff5b
   "metadata": {},
   "outputs": [],
   "source": [
    "def var(X):\n",
    "    N, T = X.shape\n",
    "    temp1 = np.zeros((N, N))\n",
    "    temp2 = np.zeros((N, N))\n",
    "    for t in range(1, T):\n",
    "        temp1 += np.outer(X[:, t], X[:, t - 1])\n",
    "        temp2 += np.outer(X[:, t - 1], X[:, t - 1])\n",
    "    A = temp1 @ np.linalg.inv(temp2)\n",
    "    # mat = np.append(X, np.zeros((N, pred_step)), axis = 1)\n",
    "    # for s in range(pred_step):\n",
    "    #     mat[:, T + s] = A @ mat[:, T + s - 1]\n",
    "    return A"
   ]
  },
  {
   "cell_type": "code",
<<<<<<< HEAD
   "execution_count": 211,
   "metadata": {},
   "outputs": [],
   "source": [
    "airpass = pd.read_csv(\"airpass.txt\", delimiter=';')"
   ]
  },
  {
   "cell_type": "code",
   "execution_count": 212,
   "metadata": {},
   "outputs": [
    {
     "data": {
      "text/html": [
       "<div>\n",
       "<style scoped>\n",
       "    .dataframe tbody tr th:only-of-type {\n",
       "        vertical-align: middle;\n",
       "    }\n",
       "\n",
       "    .dataframe tbody tr th {\n",
       "        vertical-align: top;\n",
       "    }\n",
       "\n",
       "    .dataframe thead th {\n",
       "        text-align: right;\n",
       "    }\n",
       "</style>\n",
       "<table border=\"1\" class=\"dataframe\">\n",
       "  <thead>\n",
       "    <tr style=\"text-align: right;\">\n",
       "      <th></th>\n",
       "      <th>Month</th>\n",
       "      <th>Passengers</th>\n",
       "    </tr>\n",
       "  </thead>\n",
       "  <tbody>\n",
       "    <tr>\n",
       "      <th>0</th>\n",
       "      <td>1949-01</td>\n",
       "      <td>112</td>\n",
       "    </tr>\n",
       "    <tr>\n",
       "      <th>1</th>\n",
       "      <td>1949-02</td>\n",
       "      <td>118</td>\n",
       "    </tr>\n",
       "    <tr>\n",
       "      <th>2</th>\n",
       "      <td>1949-03</td>\n",
       "      <td>132</td>\n",
       "    </tr>\n",
       "    <tr>\n",
       "      <th>3</th>\n",
       "      <td>1949-04</td>\n",
       "      <td>129</td>\n",
       "    </tr>\n",
       "    <tr>\n",
       "      <th>4</th>\n",
       "      <td>1949-05</td>\n",
       "      <td>121</td>\n",
       "    </tr>\n",
       "    <tr>\n",
       "      <th>...</th>\n",
       "      <td>...</td>\n",
       "      <td>...</td>\n",
       "    </tr>\n",
       "    <tr>\n",
       "      <th>139</th>\n",
       "      <td>1960-08</td>\n",
       "      <td>606</td>\n",
       "    </tr>\n",
       "    <tr>\n",
       "      <th>140</th>\n",
       "      <td>1960-09</td>\n",
       "      <td>508</td>\n",
       "    </tr>\n",
       "    <tr>\n",
       "      <th>141</th>\n",
       "      <td>1960-10</td>\n",
       "      <td>461</td>\n",
       "    </tr>\n",
       "    <tr>\n",
       "      <th>142</th>\n",
       "      <td>1960-11</td>\n",
       "      <td>390</td>\n",
       "    </tr>\n",
       "    <tr>\n",
       "      <th>143</th>\n",
       "      <td>1960-12</td>\n",
       "      <td>432</td>\n",
       "    </tr>\n",
       "  </tbody>\n",
       "</table>\n",
       "<p>144 rows × 2 columns</p>\n",
       "</div>"
      ],
      "text/plain": [
       "       Month  Passengers\n",
       "0    1949-01         112\n",
       "1    1949-02         118\n",
       "2    1949-03         132\n",
       "3    1949-04         129\n",
       "4    1949-05         121\n",
       "..       ...         ...\n",
       "139  1960-08         606\n",
       "140  1960-09         508\n",
       "141  1960-10         461\n",
       "142  1960-11         390\n",
       "143  1960-12         432\n",
       "\n",
       "[144 rows x 2 columns]"
      ]
     },
     "execution_count": 212,
     "metadata": {},
     "output_type": "execute_result"
    }
   ],
   "source": [
    "airpass"
   ]
  },
  {
   "cell_type": "code",
   "execution_count": 213,
   "metadata": {},
   "outputs": [],
   "source": [
    "airpass['D^2'] = airpass.Passengers.diff(2)"
   ]
  },
  {
   "cell_type": "code",
   "execution_count": 214,
   "metadata": {},
   "outputs": [
    {
     "data": {
      "text/html": [
       "<div>\n",
       "<style scoped>\n",
       "    .dataframe tbody tr th:only-of-type {\n",
       "        vertical-align: middle;\n",
       "    }\n",
       "\n",
       "    .dataframe tbody tr th {\n",
       "        vertical-align: top;\n",
       "    }\n",
       "\n",
       "    .dataframe thead th {\n",
       "        text-align: right;\n",
       "    }\n",
       "</style>\n",
       "<table border=\"1\" class=\"dataframe\">\n",
       "  <thead>\n",
       "    <tr style=\"text-align: right;\">\n",
       "      <th></th>\n",
       "      <th>Month</th>\n",
       "      <th>Passengers</th>\n",
       "      <th>D^2</th>\n",
       "    </tr>\n",
       "  </thead>\n",
       "  <tbody>\n",
       "    <tr>\n",
       "      <th>0</th>\n",
       "      <td>1949-01</td>\n",
       "      <td>112</td>\n",
       "      <td>NaN</td>\n",
       "    </tr>\n",
       "    <tr>\n",
       "      <th>1</th>\n",
       "      <td>1949-02</td>\n",
       "      <td>118</td>\n",
       "      <td>NaN</td>\n",
       "    </tr>\n",
       "    <tr>\n",
       "      <th>2</th>\n",
       "      <td>1949-03</td>\n",
       "      <td>132</td>\n",
       "      <td>20.0</td>\n",
       "    </tr>\n",
       "    <tr>\n",
       "      <th>3</th>\n",
       "      <td>1949-04</td>\n",
       "      <td>129</td>\n",
       "      <td>11.0</td>\n",
       "    </tr>\n",
       "    <tr>\n",
       "      <th>4</th>\n",
       "      <td>1949-05</td>\n",
       "      <td>121</td>\n",
       "      <td>-11.0</td>\n",
       "    </tr>\n",
       "    <tr>\n",
       "      <th>...</th>\n",
       "      <td>...</td>\n",
       "      <td>...</td>\n",
       "      <td>...</td>\n",
       "    </tr>\n",
       "    <tr>\n",
       "      <th>139</th>\n",
       "      <td>1960-08</td>\n",
       "      <td>606</td>\n",
       "      <td>71.0</td>\n",
       "    </tr>\n",
       "    <tr>\n",
       "      <th>140</th>\n",
       "      <td>1960-09</td>\n",
       "      <td>508</td>\n",
       "      <td>-114.0</td>\n",
       "    </tr>\n",
       "    <tr>\n",
       "      <th>141</th>\n",
       "      <td>1960-10</td>\n",
       "      <td>461</td>\n",
       "      <td>-145.0</td>\n",
       "    </tr>\n",
       "    <tr>\n",
       "      <th>142</th>\n",
       "      <td>1960-11</td>\n",
       "      <td>390</td>\n",
       "      <td>-118.0</td>\n",
       "    </tr>\n",
       "    <tr>\n",
       "      <th>143</th>\n",
       "      <td>1960-12</td>\n",
       "      <td>432</td>\n",
       "      <td>-29.0</td>\n",
       "    </tr>\n",
       "  </tbody>\n",
       "</table>\n",
       "<p>144 rows × 3 columns</p>\n",
       "</div>"
      ],
      "text/plain": [
       "       Month  Passengers    D^2\n",
       "0    1949-01         112    NaN\n",
       "1    1949-02         118    NaN\n",
       "2    1949-03         132   20.0\n",
       "3    1949-04         129   11.0\n",
       "4    1949-05         121  -11.0\n",
       "..       ...         ...    ...\n",
       "139  1960-08         606   71.0\n",
       "140  1960-09         508 -114.0\n",
       "141  1960-10         461 -145.0\n",
       "142  1960-11         390 -118.0\n",
       "143  1960-12         432  -29.0\n",
       "\n",
       "[144 rows x 3 columns]"
      ]
     },
     "execution_count": 214,
     "metadata": {},
     "output_type": "execute_result"
    }
   ],
   "source": [
    "airpass"
   ]
  },
  {
   "cell_type": "code",
   "execution_count": 215,
   "metadata": {},
   "outputs": [
    {
     "data": {
      "text/plain": [
       "<AxesSubplot:>"
      ]
     },
     "execution_count": 215,
     "metadata": {},
     "output_type": "execute_result"
    },
    {
     "data": {
      "image/png": "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",
      "text/plain": [
       "<Figure size 432x288 with 1 Axes>"
      ]
     },
     "metadata": {},
     "output_type": "display_data"
    }
   ],
   "source": [
    "airpass.Passengers.plot()"
   ]
  },
  {
   "cell_type": "code",
   "execution_count": 216,
   "metadata": {},
   "outputs": [],
   "source": [
    "airpass['logpass'] = airpass.Passengers.apply(np.log)"
   ]
  },
  {
   "cell_type": "code",
   "execution_count": 217,
   "metadata": {},
   "outputs": [
    {
     "data": {
      "text/plain": [
       "<AxesSubplot:>"
      ]
     },
     "execution_count": 217,
     "metadata": {},
     "output_type": "execute_result"
    },
    {
     "data": {
      "image/png": "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",
      "text/plain": [
       "<Figure size 432x288 with 1 Axes>"
      ]
     },
     "metadata": {},
     "output_type": "display_data"
    }
   ],
   "source": [
    "airpass.logpass.plot()"
   ]
  },
  {
   "cell_type": "code",
   "execution_count": 218,
   "metadata": {},
   "outputs": [],
   "source": [
    "logpass = airpass.logpass.to_numpy()"
   ]
  },
  {
   "cell_type": "code",
   "execution_count": 219,
   "metadata": {},
   "outputs": [
    {
     "data": {
      "text/plain": [
       "array([4.77068462, 4.74493213, 4.83628191, 4.94875989, 4.90527478,\n",
       "       4.82831374, 5.00394631, 5.13579844, 5.13579844, 5.06259503,\n",
       "       4.89034913, 4.73619845, 4.94164242, 4.97673374, 5.01063529,\n",
       "       5.18178355, 5.0937502 , 5.14749448, 5.18178355, 5.29330482,\n",
       "       5.29330482, 5.21493576, 5.08759634, 4.98360662, 5.11198779,\n",
       "       5.14166356, 5.19295685, 5.26269019, 5.19849703, 5.20948615,\n",
       "       5.38449506, 5.43807931, 5.48893773, 5.34233425, 5.25227343,\n",
       "       5.14749448, 5.26785816, 5.27811466, 5.27811466, 5.46383181,\n",
       "       5.45958551, 5.433722  , 5.49306144, 5.5759491 , 5.60580207,\n",
       "       5.46806014, 5.35185813, 5.19295685, 5.30330491, 5.31811999,\n",
       "       5.23644196, 5.45958551, 5.42495002, 5.45532112, 5.5759491 ,\n",
       "       5.71042702, 5.68017261, 5.55682806, 5.433722  , 5.31320598,\n",
       "       5.433722  , 5.48893773, 5.45103845, 5.58724866, 5.59471138,\n",
       "       5.59842196, 5.75257264, 5.89715387, 5.84932478, 5.74300319,\n",
       "       5.61312811, 5.46806014, 5.62762111, 5.64897424, 5.62401751,\n",
       "       5.75890177, 5.74620319, 5.76205138, 5.9242558 , 6.02344759,\n",
       "       6.00388707, 5.87211779, 5.7235851 , 5.60211882, 5.7235851 ,\n",
       "       5.75257264, 5.70711026, 5.87493073, 5.85220248, 5.87211779,\n",
       "       6.04500531, 6.14203741, 6.14632926, 6.00141488, 5.84932478,\n",
       "       5.72031178, 5.81711116, 5.82894562, 5.76205138, 5.89164421,\n",
       "       5.85220248, 5.89440283, 6.07534603, 6.19644413, 6.22455843,\n",
       "       6.00141488, 5.88332239, 5.7365723 , 5.82008293, 5.88610403,\n",
       "       5.83481074, 6.00635316, 5.98141421, 6.04025471, 6.15697899,\n",
       "       6.30627529, 6.32614947, 6.13772705, 6.00881319, 5.89164421,\n",
       "       6.00388707, 6.03308622, 5.96870756, 6.03787092, 6.13339804,\n",
       "       6.15697899, 6.28226675, 6.43294009, 6.40687999, 6.23048145,\n",
       "       6.13339804, 5.96614674, 6.06842559])"
      ]
     },
     "execution_count": 219,
     "metadata": {},
     "output_type": "execute_result"
    }
   ],
   "source": [
    "logpass[11:]"
   ]
  },
  {
   "cell_type": "code",
   "execution_count": 220,
   "metadata": {},
   "outputs": [],
   "source": [
    "diff_logap = logpass[12:] - logpass[:-12]"
   ]
  },
  {
   "cell_type": "code",
   "execution_count": 221,
   "metadata": {},
   "outputs": [
    {
     "data": {
      "text/plain": [
       "(132,)"
      ]
     },
     "execution_count": 221,
     "metadata": {},
     "output_type": "execute_result"
    }
   ],
   "source": [
    "diff_logap.shape"
   ]
  },
  {
   "cell_type": "code",
   "execution_count": 222,
   "metadata": {},
   "outputs": [
    {
     "data": {
      "text/plain": [
       "[<matplotlib.lines.Line2D at 0x24daf1c1d30>]"
      ]
     },
     "execution_count": 222,
     "metadata": {},
     "output_type": "execute_result"
    },
    {
     "data": {
      "image/png": "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",
      "text/plain": [
       "<Figure size 864x576 with 1 Axes>"
      ]
     },
     "metadata": {},
     "output_type": "display_data"
    }
   ],
   "source": [
    "fig, ax = plt.subplots(figsize=(12,8))\n",
    "plt.plot(diff_logap-diff_logap.mean())"
   ]
  },
  {
   "cell_type": "code",
   "execution_count": 223,
   "metadata": {},
   "outputs": [],
   "source": [
    "from statsmodels.graphics.tsaplots import plot_acf,plot_pacf"
   ]
  },
  {
   "cell_type": "code",
   "execution_count": 224,
   "metadata": {},
   "outputs": [
    {
     "data": {
      "image/png": "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",
      "text/plain": [
       "<Figure size 432x288 with 1 Axes>"
      ]
     },
     "execution_count": 224,
     "metadata": {},
     "output_type": "execute_result"
    },
    {
     "data": {
      "image/png": "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",
      "text/plain": [
       "<Figure size 432x288 with 1 Axes>"
      ]
     },
     "metadata": {},
     "output_type": "display_data"
    }
   ],
   "source": [
    "plot_acf(diff_logap-diff_logap.mean(), lags = 15) "
   ]
  },
  {
   "cell_type": "code",
   "execution_count": 225,
   "metadata": {},
   "outputs": [
    {
     "name": "stderr",
     "output_type": "stream",
     "text": [
      "c:\\Users\\RedmiBook\\AppData\\Local\\Programs\\Python\\Python39\\lib\\site-packages\\statsmodels\\graphics\\tsaplots.py:348: FutureWarning: The default method 'yw' can produce PACF values outside of the [-1,1] interval. After 0.13, the default will change tounadjusted Yule-Walker ('ywm'). You can use this method now by setting method='ywm'.\n",
      "  warnings.warn(\n"
     ]
    },
    {
     "data": {
      "image/png": "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",
      "text/plain": [
       "<Figure size 432x288 with 1 Axes>"
      ]
     },
     "execution_count": 225,
     "metadata": {},
     "output_type": "execute_result"
    },
    {
     "data": {
      "image/png": "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",
      "text/plain": [
       "<Figure size 432x288 with 1 Axes>"
      ]
     },
     "metadata": {},
     "output_type": "display_data"
    }
   ],
   "source": [
    "plot_pacf(diff_logap-diff_logap.mean(), lags=15)"
   ]
  },
  {
   "cell_type": "code",
   "execution_count": 226,
   "metadata": {},
   "outputs": [],
   "source": [
    "from statsmodels.tsa.stattools import adfuller"
   ]
  },
  {
   "cell_type": "code",
   "execution_count": 227,
   "metadata": {},
   "outputs": [
    {
     "name": "stdout",
     "output_type": "stream",
     "text": [
      "(-2.7095768189885647, 0.0723956718176956, 12, 119, {'1%': -3.4865346059036564, '5%': -2.8861509858476264, '10%': -2.579896092790057}, -424.76083484995365)\n"
     ]
    }
   ],
   "source": [
    "res = adfuller(diff_logap-diff_logap.mean())\n",
    "print(res)"
   ]
  },
  {
   "attachments": {},
   "cell_type": "markdown",
   "metadata": {},
   "source": [
    "Choose AR(1), MA(6) model"
   ]
  },
  {
   "cell_type": "code",
   "execution_count": 228,
   "metadata": {},
   "outputs": [],
   "source": [
    "from statsmodels.tsa.arima.model import ARIMA"
   ]
  },
  {
   "cell_type": "code",
   "execution_count": 229,
   "metadata": {},
   "outputs": [],
   "source": [
    "arima_model = ARIMA(diff_logap, order=(1,0,5))"
   ]
  },
  {
   "cell_type": "code",
   "execution_count": 230,
   "metadata": {},
   "outputs": [
    {
     "name": "stderr",
     "output_type": "stream",
     "text": [
      "c:\\Users\\RedmiBook\\AppData\\Local\\Programs\\Python\\Python39\\lib\\site-packages\\statsmodels\\base\\model.py:604: ConvergenceWarning: Maximum Likelihood optimization failed to converge. Check mle_retvals\n",
      "  warnings.warn(\"Maximum Likelihood optimization failed to \"\n"
     ]
    }
   ],
   "source": [
    "model = arima_model.fit()"
   ]
  },
  {
   "cell_type": "code",
   "execution_count": 231,
   "metadata": {},
   "outputs": [
    {
     "data": {
      "text/html": [
       "<table class=\"simpletable\">\n",
       "<caption>SARIMAX Results</caption>\n",
       "<tr>\n",
       "  <th>Dep. Variable:</th>           <td>y</td>        <th>  No. Observations:  </th>    <td>132</td>  \n",
       "</tr>\n",
       "<tr>\n",
       "  <th>Model:</th>            <td>ARIMA(1, 0, 5)</td>  <th>  Log Likelihood     </th>  <td>235.965</td>\n",
       "</tr>\n",
       "<tr>\n",
       "  <th>Date:</th>            <td>Wed, 22 Feb 2023</td> <th>  AIC                </th> <td>-455.930</td>\n",
       "</tr>\n",
       "<tr>\n",
       "  <th>Time:</th>                <td>11:40:46</td>     <th>  BIC                </th> <td>-432.868</td>\n",
       "</tr>\n",
       "<tr>\n",
       "  <th>Sample:</th>                  <td>0</td>        <th>  HQIC               </th> <td>-446.559</td>\n",
       "</tr>\n",
       "<tr>\n",
       "  <th></th>                      <td> - 132</td>      <th>                     </th>     <td> </td>   \n",
       "</tr>\n",
       "<tr>\n",
       "  <th>Covariance Type:</th>        <td>opg</td>       <th>                     </th>     <td> </td>   \n",
       "</tr>\n",
       "</table>\n",
       "<table class=\"simpletable\">\n",
       "<tr>\n",
       "     <td></td>       <th>coef</th>     <th>std err</th>      <th>z</th>      <th>P>|z|</th>  <th>[0.025</th>    <th>0.975]</th>  \n",
       "</tr>\n",
       "<tr>\n",
       "  <th>const</th>  <td>    0.1145</td> <td>    0.018</td> <td>    6.223</td> <td> 0.000</td> <td>    0.078</td> <td>    0.151</td>\n",
       "</tr>\n",
       "<tr>\n",
       "  <th>ar.L1</th>  <td>    0.8423</td> <td>    0.098</td> <td>    8.630</td> <td> 0.000</td> <td>    0.651</td> <td>    1.034</td>\n",
       "</tr>\n",
       "<tr>\n",
       "  <th>ma.L1</th>  <td>   -0.2976</td> <td>    0.114</td> <td>   -2.614</td> <td> 0.009</td> <td>   -0.521</td> <td>   -0.074</td>\n",
       "</tr>\n",
       "<tr>\n",
       "  <th>ma.L2</th>  <td>    0.0984</td> <td>    0.096</td> <td>    1.027</td> <td> 0.305</td> <td>   -0.089</td> <td>    0.286</td>\n",
       "</tr>\n",
       "<tr>\n",
       "  <th>ma.L3</th>  <td>   -0.1676</td> <td>    0.139</td> <td>   -1.208</td> <td> 0.227</td> <td>   -0.439</td> <td>    0.104</td>\n",
       "</tr>\n",
       "<tr>\n",
       "  <th>ma.L4</th>  <td>    0.0420</td> <td>    0.085</td> <td>    0.497</td> <td> 0.619</td> <td>   -0.124</td> <td>    0.208</td>\n",
       "</tr>\n",
       "<tr>\n",
       "  <th>ma.L5</th>  <td>    0.1493</td> <td>    0.102</td> <td>    1.458</td> <td> 0.145</td> <td>   -0.051</td> <td>    0.350</td>\n",
       "</tr>\n",
       "<tr>\n",
       "  <th>sigma2</th> <td>    0.0016</td> <td>    0.000</td> <td>    7.840</td> <td> 0.000</td> <td>    0.001</td> <td>    0.002</td>\n",
       "</tr>\n",
       "</table>\n",
       "<table class=\"simpletable\">\n",
       "<tr>\n",
       "  <th>Ljung-Box (L1) (Q):</th>     <td>0.00</td> <th>  Jarque-Bera (JB):  </th> <td>4.31</td>\n",
       "</tr>\n",
       "<tr>\n",
       "  <th>Prob(Q):</th>                <td>0.95</td> <th>  Prob(JB):          </th> <td>0.12</td>\n",
       "</tr>\n",
       "<tr>\n",
       "  <th>Heteroskedasticity (H):</th> <td>0.41</td> <th>  Skew:              </th> <td>0.31</td>\n",
       "</tr>\n",
       "<tr>\n",
       "  <th>Prob(H) (two-sided):</th>    <td>0.00</td> <th>  Kurtosis:          </th> <td>3.63</td>\n",
       "</tr>\n",
       "</table><br/><br/>Warnings:<br/>[1] Covariance matrix calculated using the outer product of gradients (complex-step)."
      ],
      "text/plain": [
       "<class 'statsmodels.iolib.summary.Summary'>\n",
       "\"\"\"\n",
       "                               SARIMAX Results                                \n",
       "==============================================================================\n",
       "Dep. Variable:                      y   No. Observations:                  132\n",
       "Model:                 ARIMA(1, 0, 5)   Log Likelihood                 235.965\n",
       "Date:                Wed, 22 Feb 2023   AIC                           -455.930\n",
       "Time:                        11:40:46   BIC                           -432.868\n",
       "Sample:                             0   HQIC                          -446.559\n",
       "                                - 132                                         \n",
       "Covariance Type:                  opg                                         \n",
       "==============================================================================\n",
       "                 coef    std err          z      P>|z|      [0.025      0.975]\n",
       "------------------------------------------------------------------------------\n",
       "const          0.1145      0.018      6.223      0.000       0.078       0.151\n",
       "ar.L1          0.8423      0.098      8.630      0.000       0.651       1.034\n",
       "ma.L1         -0.2976      0.114     -2.614      0.009      -0.521      -0.074\n",
       "ma.L2          0.0984      0.096      1.027      0.305      -0.089       0.286\n",
       "ma.L3         -0.1676      0.139     -1.208      0.227      -0.439       0.104\n",
       "ma.L4          0.0420      0.085      0.497      0.619      -0.124       0.208\n",
       "ma.L5          0.1493      0.102      1.458      0.145      -0.051       0.350\n",
       "sigma2         0.0016      0.000      7.840      0.000       0.001       0.002\n",
       "===================================================================================\n",
       "Ljung-Box (L1) (Q):                   0.00   Jarque-Bera (JB):                 4.31\n",
       "Prob(Q):                              0.95   Prob(JB):                         0.12\n",
       "Heteroskedasticity (H):               0.41   Skew:                             0.31\n",
       "Prob(H) (two-sided):                  0.00   Kurtosis:                         3.63\n",
       "===================================================================================\n",
       "\n",
       "Warnings:\n",
       "[1] Covariance matrix calculated using the outer product of gradients (complex-step).\n",
       "\"\"\""
      ]
     },
     "execution_count": 231,
     "metadata": {},
     "output_type": "execute_result"
    }
   ],
   "source": [
    "model.summary()"
   ]
  },
  {
   "cell_type": "code",
   "execution_count": 232,
   "metadata": {},
   "outputs": [],
   "source": [
    "forcast_12 = model.forecast(12)"
   ]
  },
  {
   "cell_type": "code",
   "execution_count": 233,
   "metadata": {},
   "outputs": [
    {
     "data": {
      "text/plain": [
       "array([0.06898911, 0.07849902, 0.09307896, 0.08882404, 0.08754331,\n",
       "       0.09179123, 0.09536936, 0.0983833 , 0.10092201, 0.10306044,\n",
       "       0.10486168, 0.10637891])"
      ]
     },
     "execution_count": 233,
     "metadata": {},
     "output_type": "execute_result"
    }
   ],
   "source": [
    "forcast_12"
   ]
  },
  {
   "cell_type": "code",
   "execution_count": 234,
   "metadata": {},
   "outputs": [],
   "source": [
    "prev_12 = airpass.Passengers.to_numpy()[-24:-12]\n"
   ]
  },
  {
   "cell_type": "code",
   "execution_count": 235,
   "metadata": {},
   "outputs": [
    {
     "name": "stdout",
     "output_type": "stream",
     "text": [
      "[385.71283319 369.92850413 445.6046482  432.7837796  458.42560464\n",
      " 517.37617204 602.83567256 616.79256721 512.16614225 451.18327088\n",
      " 402.02163021 450.4585126 ]\n"
     ]
    }
   ],
   "source": [
    "predicts = np.exp(forcast_12)*prev_12\n",
    "print(predicts)"
   ]
  },
  {
   "cell_type": "code",
   "execution_count": 236,
   "metadata": {},
   "outputs": [
    {
     "data": {
      "text/plain": [
       "array([ 31.28716681,  21.07149587, -26.6046482 ,  28.2162204 ,\n",
       "        13.57439536,  17.62382796,  19.16432744, -10.79256721,\n",
       "        -4.16614225,   9.81672912, -12.02163021, -18.4585126 ])"
      ]
     },
     "execution_count": 236,
     "metadata": {},
     "output_type": "execute_result"
    }
   ],
   "source": [
    "airpass.Passengers.to_numpy()[-12:] - predicts"
   ]
  },
  {
   "cell_type": "code",
   "execution_count": 237,
   "metadata": {},
   "outputs": [
    {
     "data": {
      "text/plain": [
       "-454.7597245316006"
      ]
     },
     "execution_count": 237,
     "metadata": {},
     "output_type": "execute_result"
    }
   ],
   "source": [
    "model.aicc"
   ]
  },
  {
   "cell_type": "code",
   "execution_count": 238,
   "metadata": {},
   "outputs": [],
   "source": [
    "from statsmodels.tsa.api import VAR\n",
    "from statsmodels.tsa.stattools import adfuller\n",
    "from statsmodels.tools.eval_measures import rmse, aic"
   ]
  },
  {
   "cell_type": "code",
   "execution_count": 239,
   "metadata": {},
   "outputs": [
    {
     "name": "stdout",
     "output_type": "stream",
     "text": [
      "(150, 2)\n"
     ]
    },
    {
     "data": {
      "text/html": [
       "<div>\n",
       "<style scoped>\n",
       "    .dataframe tbody tr th:only-of-type {\n",
       "        vertical-align: middle;\n",
       "    }\n",
       "\n",
       "    .dataframe tbody tr th {\n",
       "        vertical-align: top;\n",
       "    }\n",
       "\n",
       "    .dataframe thead th {\n",
       "        text-align: right;\n",
       "    }\n",
       "</style>\n",
       "<table border=\"1\" class=\"dataframe\">\n",
       "  <thead>\n",
       "    <tr style=\"text-align: right;\">\n",
       "      <th></th>\n",
       "      <th>Leads</th>\n",
       "      <th>Sales</th>\n",
       "    </tr>\n",
       "  </thead>\n",
       "  <tbody>\n",
       "    <tr>\n",
       "      <th>145</th>\n",
       "      <td>13.50</td>\n",
       "      <td>263.3</td>\n",
       "    </tr>\n",
       "    <tr>\n",
       "      <th>146</th>\n",
       "      <td>13.58</td>\n",
       "      <td>262.8</td>\n",
       "    </tr>\n",
       "    <tr>\n",
       "      <th>147</th>\n",
       "      <td>13.51</td>\n",
       "      <td>261.8</td>\n",
       "    </tr>\n",
       "    <tr>\n",
       "      <th>148</th>\n",
       "      <td>13.77</td>\n",
       "      <td>262.2</td>\n",
       "    </tr>\n",
       "    <tr>\n",
       "      <th>149</th>\n",
       "      <td>13.40</td>\n",
       "      <td>262.7</td>\n",
       "    </tr>\n",
       "  </tbody>\n",
       "</table>\n",
       "</div>"
      ],
      "text/plain": [
       "     Leads  Sales\n",
       "145  13.50  263.3\n",
       "146  13.58  262.8\n",
       "147  13.51  261.8\n",
       "148  13.77  262.2\n",
       "149  13.40  262.7"
      ]
     },
     "execution_count": 239,
     "metadata": {},
     "output_type": "execute_result"
    }
   ],
   "source": [
    "filepath = 'ls2.csv'\n",
    "df = pd.read_csv(filepath)\n",
    "print(df.shape)  # (123, 8)\n",
    "df.tail()"
   ]
  },
  {
   "cell_type": "code",
   "execution_count": 240,
   "metadata": {},
   "outputs": [
    {
     "data": {
      "image/png": "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",
      "text/plain": [
       "<Figure size 1440x720 with 2 Axes>"
      ]
     },
     "metadata": {},
     "output_type": "display_data"
    }
   ],
   "source": [
    "# Plot\n",
    "fig, axes = plt.subplots(nrows=1, ncols=2, dpi=120, figsize=(12,6))\n",
    "for i, ax in enumerate(axes.flatten()):\n",
    "    data = df[df.columns[i]]\n",
    "    ax.plot(data, color='red', linewidth=1)\n",
    "    # Decorations\n",
    "    ax.set_title(df.columns[i])\n",
    "    ax.xaxis.set_ticks_position('none')\n",
    "    ax.yaxis.set_ticks_position('none')\n",
    "    ax.spines[\"top\"].set_alpha(0)\n",
    "    ax.tick_params(labelsize=6)\n",
    "\n",
    "plt.tight_layout()"
   ]
  },
  {
   "cell_type": "code",
   "execution_count": 241,
   "metadata": {},
   "outputs": [
    {
     "data": {
      "text/html": [
       "<div>\n",
       "<style scoped>\n",
       "    .dataframe tbody tr th:only-of-type {\n",
       "        vertical-align: middle;\n",
       "    }\n",
       "\n",
       "    .dataframe tbody tr th {\n",
       "        vertical-align: top;\n",
       "    }\n",
       "\n",
       "    .dataframe thead th {\n",
       "        text-align: right;\n",
       "    }\n",
       "</style>\n",
       "<table border=\"1\" class=\"dataframe\">\n",
       "  <thead>\n",
       "    <tr style=\"text-align: right;\">\n",
       "      <th></th>\n",
       "      <th>Leads_x</th>\n",
       "      <th>Sales_x</th>\n",
       "    </tr>\n",
       "  </thead>\n",
       "  <tbody>\n",
       "    <tr>\n",
       "      <th>Leads_y</th>\n",
       "      <td>1.0</td>\n",
       "      <td>0.0002</td>\n",
       "    </tr>\n",
       "    <tr>\n",
       "      <th>Sales_y</th>\n",
       "      <td>0.0</td>\n",
       "      <td>1.0000</td>\n",
       "    </tr>\n",
       "  </tbody>\n",
       "</table>\n",
       "</div>"
      ],
      "text/plain": [
       "         Leads_x  Sales_x\n",
       "Leads_y      1.0   0.0002\n",
       "Sales_y      0.0   1.0000"
      ]
     },
     "execution_count": 241,
     "metadata": {},
     "output_type": "execute_result"
    }
   ],
   "source": [
    "from statsmodels.tsa.stattools import grangercausalitytests\n",
    "maxlag=12\n",
    "test = 'ssr_chi2test'\n",
    "def grangers_causation_matrix(data, variables, test='ssr_chi2test', verbose=False):    \n",
    "    \"\"\"Check Granger Causality of all possible combinations of the Time series.\n",
    "    The rows are the response variable, columns are predictors. The values in the table \n",
    "    are the P-Values. P-Values lesser than the significance level (0.05), implies \n",
    "    the Null Hypothesis that the coefficients of the corresponding past values is \n",
    "    zero, that is, the X does not cause Y can be rejected.\n",
    "\n",
    "    data      : pandas dataframe containing the time series variables\n",
    "    variables : list containing names of the time series variables.\n",
    "    \"\"\"\n",
    "    df = pd.DataFrame(np.zeros((len(variables), len(variables))), columns=variables, index=variables)\n",
    "    for c in df.columns:\n",
    "        for r in df.index:\n",
    "            test_result = grangercausalitytests(data[[r, c]], maxlag=maxlag, verbose=False)\n",
    "            p_values = [round(test_result[i+1][0][test][1],4) for i in range(maxlag)]\n",
    "            if verbose: print(f'Y = {r}, X = {c}, P Values = {p_values}')\n",
    "            min_p_value = np.min(p_values)\n",
    "            df.loc[r, c] = min_p_value\n",
    "    df.columns = [var + '_x' for var in variables]\n",
    "    df.index = [var + '_y' for var in variables]\n",
    "    return df\n",
    "\n",
    "grangers_causation_matrix(df, variables = df.columns) "
   ]
  },
  {
   "cell_type": "code",
   "execution_count": 242,
   "metadata": {},
   "outputs": [
    {
     "name": "stdout",
     "output_type": "stream",
     "text": [
      "Name   ::  Test Stat > C(95%)    =>   Signif  \n",
      " ----------------------------------------\n",
      "Leads  ::  5.73      > 12.3212   =>   False\n",
      "Sales  ::  1.75      > 4.1296    =>   False\n"
     ]
    }
   ],
   "source": [
    "from statsmodels.tsa.vector_ar.vecm import coint_johansen\n",
    "\n",
    "def cointegration_test(df, alpha=0.05): \n",
    "    \"\"\"Perform Johanson's Cointegration Test and Report Summary\"\"\"\n",
    "    out = coint_johansen(df,-1,5)\n",
    "    d = {'0.90':0, '0.95':1, '0.99':2}\n",
    "    traces = out.lr1\n",
    "    cvts = out.cvt[:, d[str(1-alpha)]]\n",
    "    def adjust(val, length= 6): return str(val).ljust(length)\n",
    "\n",
    "    # Summary\n",
    "    print('Name   ::  Test Stat > C(95%)    =>   Signif  \\n', '--'*20)\n",
    "    for col, trace, cvt in zip(df.columns, traces, cvts):\n",
    "        print(adjust(col), ':: ', adjust(round(trace,2), 9), \">\", adjust(cvt, 8), ' =>  ' , trace > cvt)\n",
    "\n",
    "cointegration_test(df)"
   ]
  },
  {
   "cell_type": "code",
   "execution_count": 243,
   "metadata": {},
   "outputs": [
    {
     "name": "stdout",
     "output_type": "stream",
     "text": [
      "(150, 2)\n",
      "(4, 2)\n"
     ]
    }
   ],
   "source": [
    "nobs = 4\n",
    "df_train, df_test = df, df[-nobs:]\n",
    "\n",
    "# Check size\n",
    "print(df_train.shape)  # (119, 8)\n",
    "print(df_test.shape)  # (4, 8)"
   ]
  },
  {
   "cell_type": "code",
   "execution_count": 244,
   "metadata": {},
   "outputs": [],
   "source": [
    "def adfuller_test(series, signif=0.05, name='', verbose=False):\n",
    "    \"\"\"Perform ADFuller to test for Stationarity of given series and print report\"\"\"\n",
    "    r = adfuller(series, autolag='AIC')\n",
    "    output = {'test_statistic':round(r[0], 4), 'pvalue':round(r[1], 4), 'n_lags':round(r[2], 4), 'n_obs':r[3]}\n",
    "    p_value = output['pvalue'] \n",
    "    def adjust(val, length= 6): return str(val).ljust(length)\n",
    "\n",
    "    # Print Summary\n",
    "    print(f'    Augmented Dickey-Fuller Test on \"{name}\"', \"\\n   \", '-'*47)\n",
    "    print(f' Null Hypothesis: Data has unit root. Non-Stationary.')\n",
    "    print(f' Significance Level    = {signif}')\n",
    "    print(f' Test Statistic        = {output[\"test_statistic\"]}')\n",
    "    print(f' No. Lags Chosen       = {output[\"n_lags\"]}')\n",
    "\n",
    "    for key,val in r[4].items():\n",
    "        print(f' Critical value {adjust(key)} = {round(val, 3)}')\n",
    "\n",
    "    if p_value <= signif:\n",
    "        print(f\" => P-Value = {p_value}. Rejecting Null Hypothesis.\")\n",
    "        print(f\" => Series is Stationary.\")\n",
    "    else:\n",
    "        print(f\" => P-Value = {p_value}. Weak evidence to reject the Null Hypothesis.\")\n",
    "        print(f\" => Series is Non-Stationary.\") "
   ]
  },
  {
   "cell_type": "code",
   "execution_count": 245,
   "metadata": {},
   "outputs": [
    {
     "name": "stdout",
     "output_type": "stream",
     "text": [
      "    Augmented Dickey-Fuller Test on \"Leads\" \n",
      "    -----------------------------------------------\n",
      " Null Hypothesis: Data has unit root. Non-Stationary.\n",
      " Significance Level    = 0.05\n",
      " Test Statistic        = -0.9606\n",
      " No. Lags Chosen       = 3\n",
      " Critical value 1%     = -3.476\n",
      " Critical value 5%     = -2.882\n",
      " Critical value 10%    = -2.577\n",
      " => P-Value = 0.7674. Weak evidence to reject the Null Hypothesis.\n",
      " => Series is Non-Stationary.\n",
      "\n",
      "\n",
      "    Augmented Dickey-Fuller Test on \"Sales\" \n",
      "    -----------------------------------------------\n",
      " Null Hypothesis: Data has unit root. Non-Stationary.\n",
      " Significance Level    = 0.05\n",
      " Test Statistic        = -1.01\n",
      " No. Lags Chosen       = 4\n",
      " Critical value 1%     = -3.476\n",
      " Critical value 5%     = -2.882\n",
      " Critical value 10%    = -2.578\n",
      " => P-Value = 0.7496. Weak evidence to reject the Null Hypothesis.\n",
      " => Series is Non-Stationary.\n",
      "\n",
      "\n"
     ]
    }
   ],
   "source": [
    "# ADF Test on each column\n",
    "for name, column in df_train.iteritems():\n",
    "    adfuller_test(column, name=column.name)\n",
    "    print('\\n')"
   ]
  },
  {
   "cell_type": "code",
   "execution_count": 246,
   "metadata": {},
   "outputs": [],
   "source": [
    "df_differenced = df_train.diff().dropna()"
   ]
  },
  {
   "cell_type": "code",
   "execution_count": 247,
   "metadata": {},
   "outputs": [
    {
     "name": "stdout",
     "output_type": "stream",
     "text": [
      "    Augmented Dickey-Fuller Test on \"Leads\" \n",
      "    -----------------------------------------------\n",
      " Null Hypothesis: Data has unit root. Non-Stationary.\n",
      " Significance Level    = 0.05\n",
      " Test Statistic        = -11.8198\n",
      " No. Lags Chosen       = 1\n",
      " Critical value 1%     = -3.476\n",
      " Critical value 5%     = -2.881\n",
      " Critical value 10%    = -2.577\n",
      " => P-Value = 0.0. Rejecting Null Hypothesis.\n",
      " => Series is Stationary.\n",
      "\n",
      "\n",
      "    Augmented Dickey-Fuller Test on \"Sales\" \n",
      "    -----------------------------------------------\n",
      " Null Hypothesis: Data has unit root. Non-Stationary.\n",
      " Significance Level    = 0.05\n",
      " Test Statistic        = -3.7223\n",
      " No. Lags Chosen       = 3\n",
      " Critical value 1%     = -3.476\n",
      " Critical value 5%     = -2.882\n",
      " Critical value 10%    = -2.578\n",
      " => P-Value = 0.0038. Rejecting Null Hypothesis.\n",
      " => Series is Stationary.\n",
      "\n",
      "\n"
     ]
    }
   ],
   "source": [
    "# ADF Test on each column of 1st Differences Dataframe\n",
    "for name, column in df_differenced.iteritems():\n",
    "    adfuller_test(column, name=column.name)\n",
    "    print('\\n')"
   ]
  },
  {
   "cell_type": "code",
   "execution_count": 248,
   "metadata": {},
   "outputs": [],
   "source": [
    "# # Second Differencing\n",
    "# df_differenced = df_differenced.diff().dropna()"
   ]
  },
  {
   "cell_type": "code",
   "execution_count": 249,
   "metadata": {},
   "outputs": [
    {
     "name": "stdout",
     "output_type": "stream",
     "text": [
      "    Augmented Dickey-Fuller Test on \"Leads\" \n",
      "    -----------------------------------------------\n",
      " Null Hypothesis: Data has unit root. Non-Stationary.\n",
      " Significance Level    = 0.05\n",
      " Test Statistic        = -11.8198\n",
      " No. Lags Chosen       = 1\n",
      " Critical value 1%     = -3.476\n",
      " Critical value 5%     = -2.881\n",
      " Critical value 10%    = -2.577\n",
      " => P-Value = 0.0. Rejecting Null Hypothesis.\n",
      " => Series is Stationary.\n",
      "\n",
      "\n",
      "    Augmented Dickey-Fuller Test on \"Sales\" \n",
      "    -----------------------------------------------\n",
      " Null Hypothesis: Data has unit root. Non-Stationary.\n",
      " Significance Level    = 0.05\n",
      " Test Statistic        = -3.7223\n",
      " No. Lags Chosen       = 3\n",
      " Critical value 1%     = -3.476\n",
      " Critical value 5%     = -2.882\n",
      " Critical value 10%    = -2.578\n",
      " => P-Value = 0.0038. Rejecting Null Hypothesis.\n",
      " => Series is Stationary.\n",
      "\n",
      "\n"
     ]
    }
   ],
   "source": [
    "# ADF Test on each column of 2nd Differences Dataframe\n",
    "for name, column in df_differenced.iteritems():\n",
    "    adfuller_test(column, name=column.name)\n",
    "    print('\\n')"
   ]
  },
  {
   "cell_type": "code",
   "execution_count": 250,
   "metadata": {},
   "outputs": [
    {
     "name": "stdout",
     "output_type": "stream",
     "text": [
      "Lag Order = 1\n",
      "AIC :  -1.835786252541649\n",
      "BIC :  -1.7142776468485093\n",
      "FPE :  0.15948982612624096\n",
      "HQIC:  -1.7864175867280727 \n",
      "\n",
      "Lag Order = 2\n",
      "AIC :  -2.075740555605806\n",
      "BIC :  -1.8723097673895657\n",
      "FPE :  0.12547006799547944\n",
      "HQIC:  -1.993084419994483 \n",
      "\n",
      "Lag Order = 3\n",
      "AIC :  -4.465025542602491\n",
      "BIC :  -4.178926277507171\n",
      "FPE :  0.011506094954165647\n",
      "HQIC:  -4.348776859013712 \n",
      "\n",
      "Lag Order = 4\n",
      "AIC :  -4.961942273294545\n",
      "BIC :  -4.592416705269922\n",
      "FPE :  0.007001557168601741\n",
      "HQIC:  -4.811791536534144 \n",
      "\n",
      "Lag Order = 5\n",
      "AIC :  -5.123585634743038\n",
      "BIC :  -4.669864158418926\n",
      "FPE :  0.005958185962731662\n",
      "HQIC:  -4.939218828821427 \n",
      "\n",
      "Lag Order = 6\n",
      "AIC :  -5.144400651325682\n",
      "BIC :  -4.605701627642063\n",
      "FPE :  0.005837842990129327\n",
      "HQIC:  -4.9254991638690475 \n",
      "\n",
      "Lag Order = 7\n",
      "AIC :  -5.194303720024449\n",
      "BIC :  -4.569833214897422\n",
      "FPE :  0.005556863250423944\n",
      "HQIC:  -4.94054425484247 \n",
      "\n",
      "Lag Order = 8\n",
      "AIC :  -5.273128338405879\n",
      "BIC :  -4.562079854201214\n",
      "FPE :  0.005139646855103701\n",
      "HQIC:  -4.984182826180333 \n",
      "\n",
      "Lag Order = 9\n",
      "AIC :  -5.255851734763048\n",
      "BIC :  -4.457405934340522\n",
      "FPE :  0.0052345124886506965\n",
      "HQIC:  -4.931387241821795 \n",
      "\n"
     ]
    },
    {
     "name": "stderr",
     "output_type": "stream",
     "text": [
      "c:\\Users\\RedmiBook\\AppData\\Local\\Programs\\Python\\Python39\\lib\\site-packages\\statsmodels\\tsa\\base\\tsa_model.py:471: ValueWarning: An unsupported index was provided and will be ignored when e.g. forecasting.\n",
      "  self._init_dates(dates, freq)\n"
     ]
    }
   ],
   "source": [
    "model = VAR(df_differenced)\n",
    "for i in [1,2,3,4,5,6,7,8,9]:\n",
    "    result = model.fit(i)\n",
    "    print('Lag Order =', i)\n",
    "    print('AIC : ', result.aic)\n",
    "    print('BIC : ', result.bic)\n",
    "    print('FPE : ', result.fpe)\n",
    "    print('HQIC: ', result.hqic, '\\n')"
   ]
  },
  {
   "cell_type": "code",
   "execution_count": 251,
   "metadata": {},
   "outputs": [
    {
     "data": {
      "text/html": [
       "<table class=\"simpletable\">\n",
       "<caption>VAR Order Selection (* highlights the minimums)</caption>\n",
       "<tr>\n",
       "   <td></td>      <th>AIC</th>         <th>BIC</th>         <th>FPE</th>        <th>HQIC</th>    \n",
       "</tr>\n",
       "<tr>\n",
       "  <th>0</th>  <td>    -1.487</td>  <td>    -1.445</td>  <td>    0.2260</td>  <td>    -1.470</td> \n",
       "</tr>\n",
       "<tr>\n",
       "  <th>1</th>  <td>    -1.776</td>  <td>    -1.648</td>  <td>    0.1694</td>  <td>    -1.724</td> \n",
       "</tr>\n",
       "<tr>\n",
       "  <th>2</th>  <td>    -2.006</td>  <td>    -1.793</td>  <td>    0.1346</td>  <td>    -1.919</td> \n",
       "</tr>\n",
       "<tr>\n",
       "  <th>3</th>  <td>    -4.393</td>  <td>    -4.095</td>  <td>   0.01236</td>  <td>    -4.272</td> \n",
       "</tr>\n",
       "<tr>\n",
       "  <th>4</th>  <td>    -4.913</td>  <td>    -4.529</td>  <td>  0.007354</td>  <td>    -4.757</td> \n",
       "</tr>\n",
       "<tr>\n",
       "  <th>5</th>  <td>    -5.106</td>  <td>    -4.638*</td> <td>  0.006062</td>  <td>    -4.916</td> \n",
       "</tr>\n",
       "<tr>\n",
       "  <th>6</th>  <td>    -5.130</td>  <td>    -4.576</td>  <td>  0.005923</td>  <td>    -4.905</td> \n",
       "</tr>\n",
       "<tr>\n",
       "  <th>7</th>  <td>    -5.191</td>  <td>    -4.551</td>  <td>  0.005579</td>  <td>    -4.931</td> \n",
       "</tr>\n",
       "<tr>\n",
       "  <th>8</th>  <td>    -5.275*</td> <td>    -4.550</td>  <td>  0.005132*</td> <td>    -4.980*</td>\n",
       "</tr>\n",
       "<tr>\n",
       "  <th>9</th>  <td>    -5.267</td>  <td>    -4.457</td>  <td>  0.005176</td>  <td>    -4.938</td> \n",
       "</tr>\n",
       "<tr>\n",
       "  <th>10</th> <td>    -5.241</td>  <td>    -4.346</td>  <td>  0.005322</td>  <td>    -4.877</td> \n",
       "</tr>\n",
       "<tr>\n",
       "  <th>11</th> <td>    -5.190</td>  <td>    -4.210</td>  <td>  0.005606</td>  <td>    -4.792</td> \n",
       "</tr>\n",
       "<tr>\n",
       "  <th>12</th> <td>    -5.173</td>  <td>    -4.107</td>  <td>  0.005717</td>  <td>    -4.739</td> \n",
       "</tr>\n",
       "</table>"
      ],
      "text/plain": [
       "<class 'statsmodels.iolib.table.SimpleTable'>"
      ]
     },
     "execution_count": 251,
     "metadata": {},
     "output_type": "execute_result"
    }
   ],
   "source": [
    "x = model.select_order(maxlags=12)\n",
    "x.summary()"
   ]
  },
  {
   "cell_type": "code",
   "execution_count": 252,
   "metadata": {},
   "outputs": [
    {
     "data": {
      "text/plain": [
       "  Summary of Regression Results   \n",
       "==================================\n",
       "Model:                         VAR\n",
       "Method:                        OLS\n",
       "Date:           Wed, 22, Feb, 2023\n",
       "Time:                     11:40:48\n",
       "--------------------------------------------------------------------\n",
       "No. of Equations:         2.00000    BIC:                   -4.66986\n",
       "Nobs:                     144.000    HQIC:                  -4.93922\n",
       "Log likelihood:          -17.7561    FPE:                 0.00595819\n",
       "AIC:                     -5.12359    Det(Omega_mle):      0.00514252\n",
       "--------------------------------------------------------------------\n",
       "Results for equation Leads\n",
       "===========================================================================\n",
       "              coefficient       std. error           t-stat            prob\n",
       "---------------------------------------------------------------------------\n",
       "const            0.033323         0.026824            1.242           0.214\n",
       "L1.Leads        -0.493757         0.086899           -5.682           0.000\n",
       "L1.Sales         0.041748         0.088173            0.473           0.636\n",
       "L2.Leads        -0.188777         0.096596           -1.954           0.051\n",
       "L2.Sales        -0.054297         0.067116           -0.809           0.419\n",
       "L3.Leads        -0.073049         0.097697           -0.748           0.455\n",
       "L3.Sales         0.028132         0.062781            0.448           0.654\n",
       "L4.Leads        -0.110613         0.428077           -0.258           0.796\n",
       "L4.Sales        -0.011735         0.018585           -0.631           0.528\n",
       "L5.Leads         0.133424         0.421457            0.317           0.752\n",
       "L5.Sales         0.012850         0.018088            0.710           0.477\n",
       "===========================================================================\n",
       "\n",
       "Results for equation Sales\n",
       "===========================================================================\n",
       "              coefficient       std. error           t-stat            prob\n",
       "---------------------------------------------------------------------------\n",
       "const            0.019865         0.023639            0.840           0.401\n",
       "L1.Leads        -0.005763         0.076580           -0.075           0.940\n",
       "L1.Sales        -0.210220         0.077702           -2.705           0.007\n",
       "L2.Leads         0.050392         0.085125            0.592           0.554\n",
       "L2.Sales         0.206142         0.059147            3.485           0.000\n",
       "L3.Leads         4.758093         0.086096           55.265           0.000\n",
       "L3.Sales         0.314517         0.055326            5.685           0.000\n",
       "L4.Leads         4.465773         0.377245           11.838           0.000\n",
       "L4.Sales        -0.000746         0.016378           -0.046           0.964\n",
       "L5.Leads         2.066887         0.371411            5.565           0.000\n",
       "L5.Sales         0.037752         0.015940            2.368           0.018\n",
       "===========================================================================\n",
       "\n",
       "Correlation matrix of residuals\n",
       "            Leads     Sales\n",
       "Leads    1.000000 -0.047601\n",
       "Sales   -0.047601  1.000000\n",
       "\n"
      ]
     },
     "execution_count": 252,
     "metadata": {},
     "output_type": "execute_result"
    }
   ],
   "source": [
    "model_fitted = model.fit(5)\n",
    "model_fitted.summary()"
   ]
  },
  {
   "cell_type": "code",
   "execution_count": 253,
   "metadata": {},
   "outputs": [
    {
     "name": "stdout",
     "output_type": "stream",
     "text": [
      "Leads  : 1.97\n",
      "Sales  : 2.2\n"
     ]
    }
   ],
   "source": [
    "from statsmodels.stats.stattools import durbin_watson\n",
    "out = durbin_watson(model_fitted.resid)\n",
    "def adjust(val, length= 6): return str(val).ljust(length)\n",
    "for col, val in zip(df.columns, out):\n",
    "    print(adjust(col), ':', round(val, 2))"
   ]
  },
  {
   "cell_type": "code",
   "execution_count": 254,
   "metadata": {},
   "outputs": [
    {
     "name": "stdout",
     "output_type": "stream",
     "text": [
      "5\n"
     ]
    },
    {
     "data": {
      "text/plain": [
       "array([[ 0.25,  0.4 ],\n",
       "       [ 0.08, -0.5 ],\n",
       "       [-0.07, -1.  ],\n",
       "       [ 0.26,  0.4 ],\n",
       "       [-0.37,  0.5 ]])"
      ]
     },
     "execution_count": 254,
     "metadata": {},
     "output_type": "execute_result"
    }
   ],
   "source": [
    "# Get the lag order\n",
    "lag_order = model_fitted.k_ar\n",
    "print(lag_order)  #> 4\n",
    "\n",
    "# Input data for forecasting\n",
    "forecast_input = df_differenced.values[-lag_order:]\n",
    "forecast_input"
   ]
  },
  {
   "cell_type": "code",
   "execution_count": 255,
   "metadata": {},
   "outputs": [
    {
     "data": {
      "text/html": [
       "<div>\n",
       "<style scoped>\n",
       "    .dataframe tbody tr th:only-of-type {\n",
       "        vertical-align: middle;\n",
       "    }\n",
       "\n",
       "    .dataframe tbody tr th {\n",
       "        vertical-align: top;\n",
       "    }\n",
       "\n",
       "    .dataframe thead th {\n",
       "        text-align: right;\n",
       "    }\n",
       "</style>\n",
       "<table border=\"1\" class=\"dataframe\">\n",
       "  <thead>\n",
       "    <tr style=\"text-align: right;\">\n",
       "      <th></th>\n",
       "      <th>Leads_2d</th>\n",
       "      <th>Sales_2d</th>\n",
       "    </tr>\n",
       "  </thead>\n",
       "  <tbody>\n",
       "    <tr>\n",
       "      <th>146</th>\n",
       "      <td>0.178582</td>\n",
       "      <td>0.254321</td>\n",
       "    </tr>\n",
       "    <tr>\n",
       "      <th>147</th>\n",
       "      <td>0.014451</td>\n",
       "      <td>1.247327</td>\n",
       "    </tr>\n",
       "    <tr>\n",
       "      <th>148</th>\n",
       "      <td>0.016192</td>\n",
       "      <td>-0.805873</td>\n",
       "    </tr>\n",
       "    <tr>\n",
       "      <th>149</th>\n",
       "      <td>-0.009771</td>\n",
       "      <td>0.276516</td>\n",
       "    </tr>\n",
       "  </tbody>\n",
       "</table>\n",
       "</div>"
      ],
      "text/plain": [
       "     Leads_2d  Sales_2d\n",
       "146  0.178582  0.254321\n",
       "147  0.014451  1.247327\n",
       "148  0.016192 -0.805873\n",
       "149 -0.009771  0.276516"
      ]
     },
     "execution_count": 255,
     "metadata": {},
     "output_type": "execute_result"
    }
   ],
   "source": [
    "fc = model_fitted.forecast(y=forecast_input, steps=nobs)\n",
    "df_forecast = pd.DataFrame(fc, index=df.index[-nobs:], columns=df.columns + '_2d')\n",
    "df_forecast"
   ]
  },
  {
   "cell_type": "code",
   "execution_count": 264,
   "metadata": {},
   "outputs": [],
   "source": [
    "def invert_transformation(df_train, df_forecast, second_diff=False):\n",
    "    \"\"\"Revert back the differencing to get the forecast to original scale.\"\"\"\n",
    "    df_fc = df_forecast.copy()\n",
    "    columns = df_train.columns\n",
    "    for col in columns:        \n",
    "        # Roll back 2nd Diff\n",
    "        if second_diff:\n",
    "            df_fc[str(col)+'_1d'] = (df_train[col].iloc[-1]-df_train[col].iloc[-2]) + df_fc[str(col)+'_2d']\n",
    "        # Roll back 1st Diff\n",
    "        df_fc[str(col)+'_forecast'] = df_train[col].iloc[-1] + df_fc[str(col)+'_1d']\n",
    "    return df_fc"
   ]
  },
  {
   "cell_type": "code",
   "execution_count": 265,
   "metadata": {},
   "outputs": [
    {
     "data": {
      "text/html": [
       "<div>\n",
       "<style scoped>\n",
       "    .dataframe tbody tr th:only-of-type {\n",
       "        vertical-align: middle;\n",
       "    }\n",
       "\n",
       "    .dataframe tbody tr th {\n",
       "        vertical-align: top;\n",
       "    }\n",
       "\n",
       "    .dataframe thead th {\n",
       "        text-align: right;\n",
       "    }\n",
       "</style>\n",
       "<table border=\"1\" class=\"dataframe\">\n",
       "  <thead>\n",
       "    <tr style=\"text-align: right;\">\n",
       "      <th></th>\n",
       "      <th>Leads_forecast</th>\n",
       "      <th>Sales_forecast</th>\n",
       "    </tr>\n",
       "  </thead>\n",
       "  <tbody>\n",
       "    <tr>\n",
       "      <th>146</th>\n",
       "      <td>13.208582</td>\n",
       "      <td>263.454321</td>\n",
       "    </tr>\n",
       "    <tr>\n",
       "      <th>147</th>\n",
       "      <td>13.044451</td>\n",
       "      <td>264.447327</td>\n",
       "    </tr>\n",
       "    <tr>\n",
       "      <th>148</th>\n",
       "      <td>13.046192</td>\n",
       "      <td>262.394127</td>\n",
       "    </tr>\n",
       "    <tr>\n",
       "      <th>149</th>\n",
       "      <td>13.020229</td>\n",
       "      <td>263.476516</td>\n",
       "    </tr>\n",
       "  </tbody>\n",
       "</table>\n",
       "</div>"
      ],
      "text/plain": [
       "     Leads_forecast  Sales_forecast\n",
       "146       13.208582      263.454321\n",
       "147       13.044451      264.447327\n",
       "148       13.046192      262.394127\n",
       "149       13.020229      263.476516"
      ]
     },
     "execution_count": 265,
     "metadata": {},
     "output_type": "execute_result"
    }
   ],
   "source": [
    "df_results = invert_transformation(df_train, df_forecast, second_diff=True)        \n",
    "df_results.loc[:, ['Leads_forecast', 'Sales_forecast']]"
   ]
  },
  {
   "cell_type": "code",
   "execution_count": 266,
   "metadata": {},
   "outputs": [
    {
     "data": {
      "text/html": [
       "<div>\n",
       "<style scoped>\n",
       "    .dataframe tbody tr th:only-of-type {\n",
       "        vertical-align: middle;\n",
       "    }\n",
       "\n",
       "    .dataframe tbody tr th {\n",
       "        vertical-align: top;\n",
       "    }\n",
       "\n",
       "    .dataframe thead th {\n",
       "        text-align: right;\n",
       "    }\n",
       "</style>\n",
       "<table border=\"1\" class=\"dataframe\">\n",
       "  <thead>\n",
       "    <tr style=\"text-align: right;\">\n",
       "      <th></th>\n",
       "      <th>Leads</th>\n",
       "      <th>Sales</th>\n",
       "    </tr>\n",
       "  </thead>\n",
       "  <tbody>\n",
       "    <tr>\n",
       "      <th>145</th>\n",
       "      <td>13.50</td>\n",
       "      <td>263.3</td>\n",
       "    </tr>\n",
       "    <tr>\n",
       "      <th>146</th>\n",
       "      <td>13.58</td>\n",
       "      <td>262.8</td>\n",
       "    </tr>\n",
       "    <tr>\n",
       "      <th>147</th>\n",
       "      <td>13.51</td>\n",
       "      <td>261.8</td>\n",
       "    </tr>\n",
       "    <tr>\n",
       "      <th>148</th>\n",
       "      <td>13.77</td>\n",
       "      <td>262.2</td>\n",
       "    </tr>\n",
       "    <tr>\n",
       "      <th>149</th>\n",
       "      <td>13.40</td>\n",
       "      <td>262.7</td>\n",
       "    </tr>\n",
       "  </tbody>\n",
       "</table>\n",
       "</div>"
      ],
      "text/plain": [
       "     Leads  Sales\n",
       "145  13.50  263.3\n",
       "146  13.58  262.8\n",
       "147  13.51  261.8\n",
       "148  13.77  262.2\n",
       "149  13.40  262.7"
      ]
     },
     "execution_count": 266,
     "metadata": {},
     "output_type": "execute_result"
    }
   ],
   "source": [
    "df.tail()"
   ]
  },
  {
   "cell_type": "code",
   "execution_count": 263,
   "metadata": {},
   "outputs": [
    {
     "data": {
      "image/png": "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",
      "text/plain": [
       "<Figure size 1500x1500 with 2 Axes>"
      ]
     },
     "metadata": {},
     "output_type": "display_data"
    }
   ],
   "source": [
    "fig, axes = plt.subplots(nrows=int(len(df.columns)/2), ncols=2, dpi=150, figsize=(10,10))\n",
    "for i, (col,ax) in enumerate(zip(df.columns, axes.flatten())):\n",
    "    df_results[col+'_forecast'].plot(legend=True, ax=ax).autoscale(axis='x',tight=True)\n",
    "    df_test[col][-nobs:].plot(legend=True, ax=ax);\n",
    "    ax.set_title(col + \": Forecast vs Actuals\")\n",
    "    ax.xaxis.set_ticks_position('none')\n",
    "    ax.yaxis.set_ticks_position('none')\n",
    "    ax.spines[\"top\"].set_alpha(0)\n",
    "    ax.tick_params(labelsize=6)\n",
    "\n",
    "plt.tight_layout()"
   ]
  },
  {
   "cell_type": "code",
   "execution_count": null,
=======
   "execution_count": 28,
>>>>>>> 31896946ba6d8f8c1c806038af4523779a99ff5b
   "metadata": {},
   "outputs": [],
   "source": [
    "airpass = pd.read_csv(\"airpass.txt\", delimiter=';')"
   ]
  },
  {
   "cell_type": "code",
   "execution_count": 29,
   "metadata": {},
   "outputs": [
    {
     "data": {
      "text/html": [
       "<div>\n",
       "<style scoped>\n",
       "    .dataframe tbody tr th:only-of-type {\n",
       "        vertical-align: middle;\n",
       "    }\n",
       "\n",
       "    .dataframe tbody tr th {\n",
       "        vertical-align: top;\n",
       "    }\n",
       "\n",
       "    .dataframe thead th {\n",
       "        text-align: right;\n",
       "    }\n",
       "</style>\n",
       "<table border=\"1\" class=\"dataframe\">\n",
       "  <thead>\n",
       "    <tr style=\"text-align: right;\">\n",
       "      <th></th>\n",
       "      <th>Month</th>\n",
       "      <th>Passengers</th>\n",
       "    </tr>\n",
       "  </thead>\n",
       "  <tbody>\n",
       "    <tr>\n",
       "      <th>0</th>\n",
       "      <td>1949-01</td>\n",
       "      <td>112</td>\n",
       "    </tr>\n",
       "    <tr>\n",
       "      <th>1</th>\n",
       "      <td>1949-02</td>\n",
       "      <td>118</td>\n",
       "    </tr>\n",
       "    <tr>\n",
       "      <th>2</th>\n",
       "      <td>1949-03</td>\n",
       "      <td>132</td>\n",
       "    </tr>\n",
       "    <tr>\n",
       "      <th>3</th>\n",
       "      <td>1949-04</td>\n",
       "      <td>129</td>\n",
       "    </tr>\n",
       "    <tr>\n",
       "      <th>4</th>\n",
       "      <td>1949-05</td>\n",
       "      <td>121</td>\n",
       "    </tr>\n",
       "    <tr>\n",
       "      <th>...</th>\n",
       "      <td>...</td>\n",
       "      <td>...</td>\n",
       "    </tr>\n",
       "    <tr>\n",
       "      <th>139</th>\n",
       "      <td>1960-08</td>\n",
       "      <td>606</td>\n",
       "    </tr>\n",
       "    <tr>\n",
       "      <th>140</th>\n",
       "      <td>1960-09</td>\n",
       "      <td>508</td>\n",
       "    </tr>\n",
       "    <tr>\n",
       "      <th>141</th>\n",
       "      <td>1960-10</td>\n",
       "      <td>461</td>\n",
       "    </tr>\n",
       "    <tr>\n",
       "      <th>142</th>\n",
       "      <td>1960-11</td>\n",
       "      <td>390</td>\n",
       "    </tr>\n",
       "    <tr>\n",
       "      <th>143</th>\n",
       "      <td>1960-12</td>\n",
       "      <td>432</td>\n",
       "    </tr>\n",
       "  </tbody>\n",
       "</table>\n",
       "<p>144 rows × 2 columns</p>\n",
       "</div>"
      ],
      "text/plain": [
       "       Month  Passengers\n",
       "0    1949-01         112\n",
       "1    1949-02         118\n",
       "2    1949-03         132\n",
       "3    1949-04         129\n",
       "4    1949-05         121\n",
       "..       ...         ...\n",
       "139  1960-08         606\n",
       "140  1960-09         508\n",
       "141  1960-10         461\n",
       "142  1960-11         390\n",
       "143  1960-12         432\n",
       "\n",
       "[144 rows x 2 columns]"
      ]
     },
     "execution_count": 29,
     "metadata": {},
     "output_type": "execute_result"
    }
   ],
   "source": [
    "airpass"
   ]
  },
  {
   "cell_type": "code",
   "execution_count": 56,
   "metadata": {},
   "outputs": [],
   "source": [
    "airpass['D^2'] = airpass.Passengers.diff(2)"
   ]
  },
  {
   "cell_type": "code",
   "execution_count": 57,
   "metadata": {},
   "outputs": [
    {
     "data": {
      "text/html": [
       "<div>\n",
       "<style scoped>\n",
       "    .dataframe tbody tr th:only-of-type {\n",
       "        vertical-align: middle;\n",
       "    }\n",
       "\n",
       "    .dataframe tbody tr th {\n",
       "        vertical-align: top;\n",
       "    }\n",
       "\n",
       "    .dataframe thead th {\n",
       "        text-align: right;\n",
       "    }\n",
       "</style>\n",
       "<table border=\"1\" class=\"dataframe\">\n",
       "  <thead>\n",
       "    <tr style=\"text-align: right;\">\n",
       "      <th></th>\n",
       "      <th>Month</th>\n",
       "      <th>Passengers</th>\n",
       "      <th>logpass</th>\n",
       "      <th>D1</th>\n",
       "      <th>D2</th>\n",
       "      <th>D^2</th>\n",
       "    </tr>\n",
       "  </thead>\n",
       "  <tbody>\n",
       "    <tr>\n",
       "      <th>0</th>\n",
       "      <td>1949-01</td>\n",
       "      <td>112</td>\n",
       "      <td>4.718499</td>\n",
       "      <td>NaN</td>\n",
       "      <td>NaN</td>\n",
       "      <td>NaN</td>\n",
       "    </tr>\n",
       "    <tr>\n",
       "      <th>1</th>\n",
       "      <td>1949-02</td>\n",
       "      <td>118</td>\n",
       "      <td>4.770685</td>\n",
       "      <td>6.0</td>\n",
       "      <td>NaN</td>\n",
       "      <td>NaN</td>\n",
       "    </tr>\n",
       "    <tr>\n",
       "      <th>2</th>\n",
       "      <td>1949-03</td>\n",
       "      <td>132</td>\n",
       "      <td>4.882802</td>\n",
       "      <td>14.0</td>\n",
       "      <td>8.0</td>\n",
       "      <td>20.0</td>\n",
       "    </tr>\n",
       "    <tr>\n",
       "      <th>3</th>\n",
       "      <td>1949-04</td>\n",
       "      <td>129</td>\n",
       "      <td>4.859812</td>\n",
       "      <td>-3.0</td>\n",
       "      <td>-17.0</td>\n",
       "      <td>11.0</td>\n",
       "    </tr>\n",
       "    <tr>\n",
       "      <th>4</th>\n",
       "      <td>1949-05</td>\n",
       "      <td>121</td>\n",
       "      <td>4.795791</td>\n",
       "      <td>-8.0</td>\n",
       "      <td>-5.0</td>\n",
       "      <td>-11.0</td>\n",
       "    </tr>\n",
       "    <tr>\n",
       "      <th>...</th>\n",
       "      <td>...</td>\n",
       "      <td>...</td>\n",
       "      <td>...</td>\n",
       "      <td>...</td>\n",
       "      <td>...</td>\n",
       "      <td>...</td>\n",
       "    </tr>\n",
       "    <tr>\n",
       "      <th>139</th>\n",
       "      <td>1960-08</td>\n",
       "      <td>606</td>\n",
       "      <td>6.406880</td>\n",
       "      <td>-16.0</td>\n",
       "      <td>-103.0</td>\n",
       "      <td>71.0</td>\n",
       "    </tr>\n",
       "    <tr>\n",
       "      <th>140</th>\n",
       "      <td>1960-09</td>\n",
       "      <td>508</td>\n",
       "      <td>6.230481</td>\n",
       "      <td>-98.0</td>\n",
       "      <td>-82.0</td>\n",
       "      <td>-114.0</td>\n",
       "    </tr>\n",
       "    <tr>\n",
       "      <th>141</th>\n",
       "      <td>1960-10</td>\n",
       "      <td>461</td>\n",
       "      <td>6.133398</td>\n",
       "      <td>-47.0</td>\n",
       "      <td>51.0</td>\n",
       "      <td>-145.0</td>\n",
       "    </tr>\n",
       "    <tr>\n",
       "      <th>142</th>\n",
       "      <td>1960-11</td>\n",
       "      <td>390</td>\n",
       "      <td>5.966147</td>\n",
       "      <td>-71.0</td>\n",
       "      <td>-24.0</td>\n",
       "      <td>-118.0</td>\n",
       "    </tr>\n",
       "    <tr>\n",
       "      <th>143</th>\n",
       "      <td>1960-12</td>\n",
       "      <td>432</td>\n",
       "      <td>6.068426</td>\n",
       "      <td>42.0</td>\n",
       "      <td>113.0</td>\n",
       "      <td>-29.0</td>\n",
       "    </tr>\n",
       "  </tbody>\n",
       "</table>\n",
       "<p>144 rows × 6 columns</p>\n",
       "</div>"
      ],
      "text/plain": [
       "       Month  Passengers   logpass    D1     D2    D^2\n",
       "0    1949-01         112  4.718499   NaN    NaN    NaN\n",
       "1    1949-02         118  4.770685   6.0    NaN    NaN\n",
       "2    1949-03         132  4.882802  14.0    8.0   20.0\n",
       "3    1949-04         129  4.859812  -3.0  -17.0   11.0\n",
       "4    1949-05         121  4.795791  -8.0   -5.0  -11.0\n",
       "..       ...         ...       ...   ...    ...    ...\n",
       "139  1960-08         606  6.406880 -16.0 -103.0   71.0\n",
       "140  1960-09         508  6.230481 -98.0  -82.0 -114.0\n",
       "141  1960-10         461  6.133398 -47.0   51.0 -145.0\n",
       "142  1960-11         390  5.966147 -71.0  -24.0 -118.0\n",
       "143  1960-12         432  6.068426  42.0  113.0  -29.0\n",
       "\n",
       "[144 rows x 6 columns]"
      ]
     },
     "execution_count": 57,
     "metadata": {},
     "output_type": "execute_result"
    }
   ],
   "source": [
    "airpass"
   ]
  },
  {
   "cell_type": "code",
   "execution_count": 30,
   "metadata": {},
   "outputs": [
    {
     "data": {
      "text/plain": [
       "<AxesSubplot:>"
      ]
     },
     "execution_count": 30,
     "metadata": {},
     "output_type": "execute_result"
    },
    {
     "data": {
      "image/png": "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",
      "text/plain": [
       "<Figure size 432x288 with 1 Axes>"
      ]
     },
     "metadata": {},
     "output_type": "display_data"
    }
   ],
   "source": [
    "airpass.Passengers.plot()"
   ]
  },
  {
   "cell_type": "code",
   "execution_count": 31,
   "metadata": {},
   "outputs": [],
   "source": [
    "airpass['logpass'] = airpass.Passengers.apply(np.log)"
   ]
  },
  {
   "cell_type": "code",
   "execution_count": 32,
   "metadata": {},
   "outputs": [
    {
     "data": {
      "text/plain": [
       "<AxesSubplot:>"
      ]
     },
     "execution_count": 32,
     "metadata": {},
     "output_type": "execute_result"
    },
    {
     "data": {
      "image/png": "iVBORw0KGgoAAAANSUhEUgAAAZUAAAEMCAYAAAAMMiuwAAAAOXRFWHRTb2Z0d2FyZQBNYXRwbG90bGliIHZlcnNpb24zLjMuMywgaHR0cHM6Ly9tYXRwbG90bGliLm9yZy/Il7ecAAAACXBIWXMAAAsTAAALEwEAmpwYAABFp0lEQVR4nO2deXwU9f3/X7ub2xBCIAnkIgk5OELAhFOhKEhAFEVUEAqi2CIV+f7qbdG23wooFhEPrC2g9qtRtEKDipZaoFopdxQCBJIACbnIJiEJJOTYZLO/Pz7zycxu9pjdmSQb9v18PHjMMMdnZhl2Xvv+vC+NyWQygSAIgiBUQNvTN0AQBEFcP5CoEARBEKpBokIQBEGoBokKQRAEoRokKgRBEIRqkKgQBEEQquHlzME7d+7Ehx9+iPPnzyMoKAhjxozBk08+iejoaLvn1dbWYsKECTb3nz59Gl5eTt0KQRAE4YbIfpO/9tpr2LJlC+Lj47Fw4UKUl5dj9+7dOHLkCLKyshAWFmbz3Pz8fADA9OnTkZyc3Gm/VksGE0EQxPWALFE5fvw4tm7diokTJ2Lz5s3w8fEBAHzxxRd49tlnsWXLFrzwwgs2z+ei8tBDD2HMmDEq3DZBEAThjsgSlY8//hharRZr1qzpEBQAmD17No4cOYKIiAi753NRSUpKUnCrBEEQhLsjS1R++OEHjBgxAlFRUWbbtVot1q5d6/D8/Px8hIeHIygoyLW7tEJ2djYAQKfTqTYmQRDE9Y7RaAQApKend8n4Dp0Z1dXVqK2tRUJCAgoKCrB8+XKkp6dj7NixeOqpp1BRUWH3fJPJhPz8fISGhmLdunWYNm0aUlNTMWfOHHzxxReqfRBnMRqNHf+4hPtCz6l3QM+J4Di0VKqqqgAAZWVlmDdvHuLi4nDffffh3Llz2LVrF44dO4bt27cjNDTU6vmlpaVobGzEqVOn0NjYiIyMDNTV1WHfvn149tlnUVpaihUrVjh94zqdDkajEf7+/k6fCwCNjY0A4PL5RPdAz6l3QM+p99DQ0NClMzwORYX/Zzl8+DDmzp2LtWvXdkRrbd26FevXr8eGDRuwbt06q+dzK2fkyJFYs2ZNR+iwXq/HggULsGnTJsyYMQMJCQlqfSaCIAiih9A4Kn3/008/4YEHHoC3tzcOHDhg5hcxGo2YOnUq6uvrcfToUafVb8eOHVi1ahVWrlyJxx9/3Klzjx8/DgAYPXq0U+dx8vLyAMBqiDPhPtBz6h3Qc+o9ZGdnQ6fTufzudIRDn0qfPn0AAFFRUZ0c7TqdDomJibh27RpqamqcvviIESMAsCkygiAIovfjUFSio6Oh0+nQ2tpqdX9bWxsA23Op5eXlOHToEK5evdppX3NzMwCYhSkTBEEQvReHouLr64uUlBSUlpaipKTEbJ/BYEB+fj4iIiIQGBho9fzMzEwsWbIEu3fv7rSPhwWnpKS4cu8EQRCEmyGrPsq8efMAAC+//HKHZQIAmzdvxuXLlzFnzhyb586YMQMAsGXLFjNrpbCwEJs3b0ZwcDBuv/12V+6dIAiCcDNkJT/ee++92LdvH/bu3Yt77rkHkyZNQn5+Pvbv34/k5GQsW7YMAPONZGVlITIyEnPnzgUAjBo1CosXL8ZHH32EO++8ExkZGWhoaMC3336LlpYWvPPOOx1+G4IgCE+l4jJwthiYMhrQaHr6blxHlqWi0Wjw1ltv4bnnnoPRaERmZiYKCgrw4IMP4uOPP+7wp5SVlWHTpk3IysoyO//FF1/EmjVrEBISgs8++wx79uzBmDFjsG3bNtxyyy2qfyiCIIjexvzfA9N+DbyS2dN3ogyHIcXuCoUUewb0nHoH9JyUYTIBgRlAswHQaoF9bwCTR3XNtXo8pJggCILoWipqmKAAQHs7sGg1cPlKz96Tq5CoEARB9DCFl8T1G/yB0ipg85c9dz9KIFEhCILoYYoEURnQF7jrZrZ+rqzn7kcJJCoEQRA9TJFQ7D1uEBAl1OYtreq5+1ECiQpBEEQPw6e/YiWiUkaiQhAEQbjCRYmlEkmWCkEQBKEEbqkMHihaKvWNwNVrPXdPrkKiQhAE0YMYjUCxnq3HDQKiwsR9vdFaIVEhCILoQUqrgDahE3PcICAsGPDSift6GyQqBEEQMmhtA97eDuw5pu64PPILAGLCAJ0OiBjA/l5aqe61ugNZBSUJgiA8mbY2luW+/TugbyBweZd6RR+5PyViAODny9ajQtmUWG+MACNLhSAIwg7t7cAjrzJBAYArDeqWUOGJj3GDxG29OQKMRIUgCMIOO/cDmd+abyurVm98Pv01eKC4rTcnQJKoEARB2OF4AVuOSQZ8vNl6uZqiYsVS6c0JkCQqBEEQduA+j6GDgUH92Xr5ZfXHj5VYKnz6S02LqLsgUSEIgrCD1JKIEETlkkov++YWUTisWSo1V4HGZnWu1V2QqBAEQdhBWpdrkBDqq9b0V0Epa9AFAEnR4nZpAmRvs1ZIVAiCIGzQ1AJcEqa6pJaKWtNfeSVsGegv5qYAwMAQ1gES6H25KiQqBEEQNrgoSUyMGyS++NWyVPIFUUmOMc978fYCwvux9d4WAUaiQhAEYQM+9eXtBUQOUF9Uzl5kS+nUF6e3RoCRqBAE0eupbwT257BERTXhTvrB4eblU/S1LMteKdxSGRrTeR+PACuh6S+CIIjuo6kFuPkxYMpK4Iv96o5dKEx/xQqRWdyn0t4OVNYpG9tkEn0q1iyV+Ai2zCtWdp3uhkSFIIhezYtbgNOFbP3EOXXHLrRITJQ605VOgVXUiP1Skq1YKjcmsuWPBWKEWG+ARIUgiF7L98eBN7eLf6+sVXd8y2z3oBuAAD+2rjQCjFsgGg2QGNV5f1oSW15pAM6XKbtWd0KiQhBEr+Xxjea/4pVOSVlyoZwt+fSXRiNOgSl1oJ8VRCUmXBQqKUnRLNQYAH7MV3at7oREhSCIXkldPZBbxNZvGc2WVSpaKnX1QF0DW5dmu/MpsEsKLZV8O/4UgOWpdEyBkagQBEF0LWclDuzbxrClmpYK96cA1kVFqU+FT39Zi/zipCWzJYkKQRBEF3NGyPEIDwGShBezmj4VHvl1gz8woK+4XW1RSbZhqQDmlkpvcdaTqBAE0SvhL+VhMayvO8Cmqwyt6ozf4aQfaJ7t3lFUUsH0V32j2EclyY6lki5YKrX15paTO0OiQhBEl3DsLLDhU+Chl4Gv/qv++NxSGToYCOsnbq+qU2f8c6VsGR9pvl1pUUmTCVi2ni29dEDqENvHJkczSwnoPVNgJCoEQajOtj3A+EeBZ98FPvon8KsN6l+DlzgZZiEqepWmwHgQwPDB5tv59Ff1FaDF4Py46zKBv+1j6+sfA0KDbR+r0wGjE9g6iQpBEB7LP4+wJQ+VvXQZaGhUb/zmFuCCMB2UHAMEB7Jf/YA6fhWTCThdxNaHxZrvi5QkQDpbQiWvGPjte2z94VnAynsdn8PzVUhUCILwWPgL8Bd3itvU9AmcKxPrfA0bzHwe3FpRQ1Sq6liDLAAYHmu+b3C4KGAFpc6N+91xJljhIcA7T5j7amzBs+0Ly527Vk9BokIQhKo0Nov+jtsnAH4+bL2wwvY5zsLH7xMgFl7kzno1fCp86kuj6Rzy6+UFDBH8LM6Kyo95bDluGODrI++cmHC2LKnqHRFgJCoEQajKiXOiFZGeJPZeL1LRUuH+lKGSPiShKloqZ4rYMnag7Wx3QExglEu2ICrpSfLPiRa6QLYY1AtC6EpIVAiCUBU+9TV4INC/r1jiRM3pL574KC3EyJtaqZEAacufwnFFVJpbgJMX2Hr6UPnnxUhaCxfr5Z/XU5CoEAShKvzXOHcw8xLuqoqKJPKLo6ZPhVsqI2Kt7+cFIJ0RlZMXgDYjW3fGUukbKNYA6w29VUhUCIJQFW6p8BcnL3GilqO5vV3sQzJUKirBbKmKT4WLVqz1/dxSKalkPiQ5HBPENiqUOerlotGIU2BcVNrbAaNR/hjdCYkKQRCq0dQivpB53aqO6a8KdRzNly6z6wDmxRjV8qlU14ljWOaocKSlVc7JLEvPxZb/uzhDNHfWV7KotMH3A7c94fw43YFTorJz507MnTsXo0aNwuTJk/HEE0+gpESe/Zefn4/ly5dj/PjxSE9Px7Jly3D27FmXbpogCPck57z4C7rDUhEc9deaWMKgUkolJeejJf6GMIlPRYl48cgywNwSkhIewiLPAPlTYHxacIwroiJEuBXrgX0/smz+bDetByZbVF577TU899xzaGpqwsKFC5GWlobdu3fjgQceQGWl/Ym+goICLFiwANnZ2bjjjjtwxx134OjRo1iwYAHy83tJRg9BEA7hIbMx4cCAYLbOfSqAOn6VMqE8Sp8A8cUOiNNfLQZWW8tVuJM+Jtx8fCkajXPO+qYW4JTQnTLdBVHhYcWllWJ3y9R4eXku3Y0sUTl+/Di2bt2KiRMn4osvvsBzzz2HN998E+vWrUN1dTW2bNli9/y1a9eipaUF27Ztw+9+9zu89NJL+Pjjj9HW1oY1a9ao8kEIguh5Tpxny9GJ4ra+gUC/PmxdDVEpFywVaWY7oF6pFu6kH2bDSuE4ctaXV4uWhJkF54KoRAkWWXEl8FMBWx+V4Pw43YEsUfn444+h1WqxZs0a+PiIGTuzZ8/Gfffdh4iICJvnFhUV4eDBg5g5cyYSEsR/heHDh2PWrFk4fPgwSkudzCAiCMJljEbRJ6E2F4WQV8v2uGo667mlwpMeOdIaWkr8Knuz2TLNQYQWt1QKrIjKb/4CRN8LvPE39vf/nmTLmHD7tb5swS2VS5fFaTSpcLsTskTlhx9+wIgRIxAVZf4/RavVYu3atXj44Ydtnnv06FEAwPjx4zvt49v4MQRBdC3t7cDEX7EX3v4c9cfnLXajLF74auaq8GtYioq/rzhd5aqo5BaJPpU5k+0f2zH9ZfGb+IcTwB8/Yevvfc2WvBbatHTX7ov7jkwm8bON7q2WSnV1NWpra5GQkICCggIsX74c6enpGDt2LJ566ilUVNivvcAd+TExnZsGREayWgdFRUUu3DpBEM5yvpz90q2tB+54Fjh4St3xecir5Qs/ritEZUDnfa4kQDa3MF8FAOz4ji0HD3Q8TcVFpeYqcFkIQGhsBn7xqnjMmYvAqQvAD4KAZ4yVf19SLEVaqwVS4l0bq6txKCpVVewJlpWVYd68eaisrMR9992H1NRU7Nq1C/Pnz+84xhp1dXUAgKCgoE77+vRhE6319fWu3DtBEE4irXTb0ATc/gxwUaWaXA1NWly9xtalUVmAKCpFKlyrY/rLiqhwv4ozvepnPQvEPwB8/m/g7/9h2+b+zLETXDrFxzP8X/6IhRh7ezFfEsDK/7cYmBDwtsfO4u9rPm02NIZtc0e8HB3Q2MjCKA4fPoy5c+di7dq10GqZFm3duhXr16/Hhg0bsG7dOqvnt7ayNmxSXwyHb2tpcW2C12g0Ii8vz6Vz+edy9Xyie6DnpC57Dw0A0B/xg1pQfcULVxt1eH+nHgtvrVM0bmNjI4oqxCJZLVfPIS9PzM7zNgYAiMbFSybknsmHzsUMOZMJKK1MBKCFyVCGvLwGs/0B3hEA+uBUQR3y8hzXNDG2A/tzkmBs1+Chte1obmU3NjbuIvLyHGc1hgfHQ1/nje8OV2CAzxV8tjcWgC+W3HYZl696IetA346pr5TBTai6VIwqF6210KDBqKpj/8ZxYVeRl+eerSAdPlouIN7e3vjNb37T8XcAePjhhzFw4EB8++23MNpI7/TzY/8IXFykGAysw42/v7/zd04QhNOcKWbfx5uGNSI1jr00L1Z6qzK2vpaN46U1oX+Q+fsgagD7/re1a1BR6/C3rE3qm7RoMrB30MB+nd8pseHsnVJYIa8EcPUVLxjbmUnCBSU8uLXj38YRQwax652/5ANDqwYX9ey645MbcUuqueBNGnFN1pi2GBQift5hMTLT+HsAh0+XT1FFRUV1msLS6XRITEzEDz/8gJqaGoSGhnY6n59jbYqLb+PXcBadTofkZBfi8yD+8nX1fKJ7oOekHiYTkCdEX00d3w8/5gH7TwPV10KQnOxE3RAr5OXloa6JzfdEhGowfJj58xocK65r/YfA1cd5ulBcvyk9FgP7m++flAZs3Q1crAqQ9X+mLldc99Kx2lz3T/XGsGHybnBsCnDgDHDpaghM/iEwCtWZZ0yORtANwDPvAQZBCxbePgDJyVbm7GQyLB7Ye5ytT58YhuTkMLvH2yI7O9vle5CDQ0slOjoaOp3OqqUBAG1tbQBsWxtxcXEAYDVsmG/jxxAE0XWUVIoO5bRE0SdgLSTWFS7VsN+olv4UAPDzFdvwKnHW82x6L515XgqH55ZU1cmrAcYDC/oGAp/8nkV8Pfdz+ffDr5dbKApecCD7rH0CgCmjxW1jnahMbA0eVgy4b44KIENUfH19kZKSgtLS0k4lWQwGA/Lz8xEREYHAwECr56ensxi6I0eOdNrHt914441O3zhBEM7Bk+Z8fVj5kUQheqmwAmhtUz6+vo6JimXkFyeeO+sViAqP/BrUnzm+LZE21JKWW7EFj/qKDgXunQLsWCOKnxx4V8jSKjGSLiVOdPIvv5stH57FmnspYYTw2zsp2rVcl+5Clrts3rx5AICXX365wzIBgM2bN+Py5cuYM2eOzXOjo6ORlpaGr7/+2qzWV25uLr755htMnDgR0dHRNs8nCEIdfhIiv1LjWXQSt1SMRnWisipqmE/FmqUCqJOrUi5EflmG2HICA1g4MCB2b7SHrRBouUiz7nnk2AjJxMucyUD1LuDV5a6NLyVjLLDt90DWWuVjdSWytPPee+/Fvn37sHfvXtxzzz2YNGkS8vPzsX//fiQnJ2PZsmUA2HRWVlYWIiMjMXfu3I7zX3jhBSxatAgLFy7E7NmzAQBffvklvL29sWrVqi74WARBWMLDiXkm9uBwJi6tbazUiGUWvLNwB7ytF74aYcU8nNieNTE0hoVJn5VjqQiWjy0hdERIEDAwBKioYdnuQOf8kX6uuYw7odUC86aqM1ZXIstS0Wg0eOutt/Dcc8/BaDQiMzMTBQUFePDBB/Hxxx93+FPKysqwadMmZGVlmZ2fkpKCzMxMjB49Gl9++SV2796NsWPH4pNPPkFSkhPdagiCcBk+/XWj8JXT6YAhQoWlcypUSuoQFQeWygUFpVpsZdNL4VNSciyVjukvF0VFej3OCA93Ecue5fPy8sLSpUuxdOlSm8eMHz/eZj5BSkoK3n//fefvkCAIxVTWilNHaZKaUQlRLHHP2V7rljQ0aXGtWQfAsaXC+6G4krxnL5uewxtryfGplPCyMgpEZdhgVo6eY6tbpKdATboIwgOQNpKS+gE6iiIqtFQuSXJPbP3ql5bAdzWL31YxSSn885VXA1cabB/X1iZOWSmxVKTdIQeGiCX/PRUSFYJwI65e65rGS/wl3r8vc2ZzEgQ/itzuhbaoEMKJvXRiXxNLIvozHw7gmrO+xSCGCcsRFcC+tXKphhXYBGxbV3KQTnd5+tQXQKJCEG7Dtj1Av1nA2g/VH5tHOcVY/CJPEkSlWM8KK7oKz6aPDGW+GmvodCw4AJAXVtzcwkrH86k5blUA9qe/+vVhIceAfb8K/zcBFPpUJCJGokKiQhBuw64DbPnap0CDgs6F1igWymBJE+gAMeLLZGIVjF3lkoPIL06Hs16GqLz3NfDUO8DtT7MIta8Psu1+Po6vw60VXuiR09wCzHoGmP97UdhCgoAAP7jMgGA27QUAI920cnB3QqJCEG4CnxKqbwQ+3afu2BdtiErEAPGF6oyz/q//AJ75Eyv1DgB6maLC/Spypr+OC21ziyqAD/8JbBQaXi2ewRI47cF7y1tOf+0+wnqbbP8O+L/dbJsSK4Xzp6eAx+4BHpimfKzejsIcT4Ig1EIaarvlS+AXd6o3dokNUdFqgYRI1u5WblixoRVY/hqzHooqgI2PAwdybwDg+AUd50RWvbR8zP97k0WMaTTAk/Mdn5sQaf063xwU1/ccY0tXEx+l3D2J/SHIUiEIt6C+0bxW1bE8sW2sGhRzn0p4533cepAzJQWwCCxe1uXv3wMpS4CKWm/4ebfj5xn2z40Vst3lWCrSjoq8/fFdN4sRa3avI8ne54EPJhPwj8Odj41WQVQIERIVgnADpC9Z/mt/85fqjH2lQQyttSYqznZlLLZoU1LfCPh4tWPTijKkDrF/Lr9WXQPrPmnvnvU1bJ1bHQDw9AJ598jrjDW1iOMcLxBzdbwkwQRqTH8RIiQqBOEGnBdCem/wB/7nPrb+7VF1xpaKwGA7oiK30COPmgoNBuZPZdWC31xejpuGO44ukOaqnLcTxizNm3n/N0B4CHD/rcBNKfLukX8mQLTAvjkk3oPU96Ek8ZHoDIkKQbgB3EqIHwSMH87Wi/VAnQqdtrmT3tfHenVbPlV0US/mbdiD+2diB7Jy8WV/B6akymtA1b8vi7YCOidc7s1mzv9Ll4E8wZ8SEgTcPBIozwI+/V9ZlwDAcnH4Z+W+qn8IojJrAvDQ7eKxSnJUiM6Qo54g3AD+4ouLMA9LPXkBmDxK2dhcBKJDrZeL57/qDa1sesjRL3duqfDjrI1pj+Ro4OBpMdqsshZ44m3g073s7y0GUXiSFRQwj49gfqqiS0B1HXBIaMh1+wTW5+T+W9m15Vo/hDzIUiEIN4CLSvwgIOgG8UWfc1752NxJz0vCWxIr2S7Hr1KssAgj7+PCReXBtaKgACwfhVsqiQpEhf8bXigH9v7IHPX+vsAto5kQfvq/wL43HYcnE85BokIQbkDH9JfgcxgpOLzVEBVeosWWCAT4icl7ciLASm1k58uFZ/EXlLJkxH8LxRiX3sGWRRVsKkx6rCtIAxAOnGTrE4azLpRE10GiQhA9jLRJVpwgKqnCFNjJC8rHL3FgqQDOOeuLLaa/nEVqqZy8wPrCA8BLj4h9UnjbY0WWiiTR8oDQlfGmka6PR8iDRIUgepjyy8yfAYihsKlCD/KTF5joKIFHf9mbrpLblbG+UQxPdnX6i+eZ1DeKeSMRA1i9rtvHWz/WFfi/ZWkVcEKw+Mh/0vWQqBBED8P9KRqN6N/g+R6NzfKTEq3R2sZEC1DHUpEWYbSW8yIHad4J96WkCY3DZk6wfayz8M9kMjFh1miAiSNcH4+QB4kKQfQwXFQiB4jz/UMixJpcSvwqZVVimLA9H4hcS4VbPV46ILyfa/cU4CcKUp5Q8DE9mS1vSxcTE6PDlBV6jAo1T3JMiQP6Bro+HiEPEhWC6GEsnfQAi07iocU55+SPdfQMMG4Z8IcPWGjuB9+I++zlY/CporJqdp4lNVeZ1dQRTmynxL0cEi0c8NxSCboBmJzK1pVMfQGAl5e5dUZTX90DiQpB9DA8s1yaBQ5IRMUJZ/0H37CaYS/9FYi5D1gj9Ga5e5L9qCfpVNFFvfm+o2eA2HnAxOWiACotbWIpGNxSAYAVc1lPlIXTlV0DMA+XJid990DJjwTRw/CQ31gLURklOOudsVSkHRyrhQiqxTOAPz9l/zxueRiNTDj4S7/FACxdB1xrAk4VApV1wvEqisqg/mJTLQC452fAnMnMB6KU+AgxPPlmEpVugUSFIHoYHk4ca+FIHx4r7m9qYYl7juCisvxuQF8LTEsDls9x/IL28mI+l8JL5n6V1f9n3j2xspYtXXXSc6TTX3zqS4oaggIw3xTARMvy35foGkhUCKIHaW4R2+RaWirJMeL6uVIxIdLeWNyRfu8twNQ05+4lbhATFB4BdroQ+OM2tj41Ddj3o3is0nLx0s8mnfpSmwduA/ZkAz+frp5QEfYhnwpByGD3YeDL/6o/brEkRNfyl/TAECDQn63ny2igJe0dYukIl8MQIXyXF3r8xyE2HRYTDny1zlwIlE5/DQ5nFZkBYOwwZWPZIzoM+OcG4MGZXXcNwhwSFYJwQGUtMGcVcM8qsU+6WvCpLy8dENHffJ9GI/oepF0QbVEgTH35+bDwZGcZKojGWaEFL+/vPnYoc/KvuEc8Vun0l04HfPQi8IelwMxxysYi3AsSFYJwQG6R2OlwxessE1wtiiTRVF5WJqMTJXWyHHFeOGZIpPOVgwHREjlXxj4vF5dhQr/3B2eyXI9RCeI2Jdw9CXhxiWv3Srgv9DgJwgHSF3pJJfDbreqNfdGGk57jjKgUSETFFbhQtBlZmPMZQVS42PQJAH56H/jxPcDH27VrENc/JCoE4QCeR8Kzszf9XcwEVwqf/rJVQsWyTLw9eOSXK/4UgE1p8Qiz70+wlr+AuVVCVgXhCPovQhAO4BbAogxgQF/mDOcNn5TiyFLhPpWqOvs93QFRVFy1VLRasSnWzh/E7VIHPUE4gkSFIBxwThCV4bHAiDi2zv0NSnFoqUisDntTYC0GMZzYVUsFAIYKVsm+bPG+lNTfIjwPEhWCsEN7O3BeKPg4JFL81X5WhekvezkqnH59xF7r1qbAdh0Alv2RTVfxcGIllX2lfhVAjAgjCLlQ8iNB2KG8mmWzA8wC4NNVavhU7OWoSEmKZtNflmHFX/0XmPsiE76//Ztt8/WxXzjSEZZTXUNViPIiPAuyVAjCDnzKSaNhJT/4S/Z8mRhm7Cr2clSk8OksaQLkgVPAA/8rlrXnYc5DIpQ50y1DhclSIZyFRIUg7MCd31GhLAGQv2TbjKKvxVUc5ahwrCVA/vJVoNnAprqeWSBuT1DgTwGYgElFSY18FMKzIFEhCDtw4eDWgrRxlFK/iqPIL05HWHEp85s0t4jX3vQE8PIyVtUXAG4ZreyefH3E3ioATX8RzkOiQlwX7PsRSF5o3pRKDfj0F7cApGG3Sv0qjiK/OImC4/1aE3Psl1RJ9gmWxecvASc+AB6fq+yeAFFI+vcVgwQIQi4kKkSvp64eeHANm6r6yxfqjs0TH6URVdyZfcaFsOKT54EnNwGjHgI+/45tc2SpSDtCFl4SLRytFogMFddT4pV1Y+SkCGHTI2KVj0V4HhT9RfR6nvuzGJrLw3/VoL1d9KlIfRXcr+KMpWIysaKUuw6Yb/f1AaaNsX/uDf5AeAigr2H97A1CgEDkAMC7C77Bj90DXL4KPHS7+mMT1z8kKkSv5rufgK27xL/XXGV/QoKUj11WzZzhgHlCIZ8eOlvMxEJOn47CS6KgJEaxVrnjhwNjktk0kyPiBzFRKbzEytEDrHx8VxAZCvz56a4Zm7j+IVEhejVvbWfLkfHASaGX+/kydUSFJxtqNBbOa8FSqW9keSyRMvJCuMWj0wEn/895CyMuAjh4mlkqnBjqZEi4IeRTIXotJhPw35NsfeV9opBI+7QrgU9vxQ1i4cQcadit3AgwXpY+bqBrU1Zc1ArLxXIsXWWpEIQSZP/3Xr16NTIzM63uW758OZ544gmb59bW1mLChAk2958+fRpe9gL1CcIK+SVA9RW2fnMKc6YfuSo615XCHfGWYbV+vkxozpcx4ZmW7ngspcUe4wRn/YVLgI/wVYkmUSHcENlv8vz8fPTt2xeLFy/utG/MGPuexvz8fADA9OnTkZzcuSG1luppEy6wX7BS+vdlEVnxEcCRM+o56y2bVElJjmGiIrewZEdosouiwiPAyqvFCC+yVAh3xClRGT58OFauXOn0RbioPPTQQw4FiCDkckAQlZtSmN+Dv7DVtlSslX4fGgN8c9CJ6S8rUWTOIPXpdLWjniCUIMtE0Ov1qKurQ2JioksX4aKSlJTk0vkEYQ3uT7k5hS351JIaPpUrDWKYsjVLRRoB5gijkU1bAa6LSsSAzt0WlfaJJ4iuQJaoKBWF/Px8hIeHIyhIhZAcggBQWStOKd2cypb8ha2vUd5HXprYaFVUBOulrMrxtUqrAEOrcI8KGmjFSayVAX1Z/gpBuBtOiUp5eTkWLVqEtLQ0TJgwAc8//zz0er3dc00mE/Lz8xEaGop169Zh2rRpSE1NxZw5c/DFFyqnPxMeA7dSfH2AdOG3jvSFrXQKjFsg4SGsp4kl0uq9jvwq3HLSah1nz9tDKiqOSrsQRE8hy6fCRWXLli3IyMjAyJEjkZOTg6ysLBw8eBCff/45wsLCrJ5bWlqKxsZGnDp1Co2NjcjIyEBdXR327duHZ599FqWlpVixYoVLN280GpGXl+fSuY2N7Oelq+cT3YOt57TrP6EAQjAiphFFhSyhxGQCAnwT0diixQ9Hy+Df3uDydQ/8NABAfwwe0Ii8POsN4kP6DEFNvRe+O3wJQdqrNsfan90XwEBEhBhQeKHQ5XsK8Q8D0I+tB9QjL0/F8gEKoe8TwZElKl5eXoiKisLGjRuRmprasf3dd9/FG2+8gVdeeQUbN260em5tbS0SEhIwcuRIrFmzpiN0WK/XY8GCBdi0aRNmzJiBhIQEFT4O4W60tgG/fCMaVxq1+OS5Yvj7mlQZ90heAAAgLaGpY5tGA8SEGXC2xA/FVT6Kxr9wiSWmxA9qsXlM3EADauq9cKGi87UuVnpj0R9jMC6pEWH9WF2VmNBWRfcUJTk/or+ysQiiq5AlKmvXrrW6/dFHH8X27duxZ88eGAwG+Ph0/nKlpqbi66+/7rQ9PDwcK1aswKpVq7B79248/vjjTt46oNPprIYoy4H/onL1fEIeXx8EjjBDF7VtSRidav94S6w9p6JLQK4wPbXw9v5IThY7XI2IB86WAFdaQpGc7HoLxBLBST9xVD8kJ/ezesyNyUB2AVB1zfweAGDzv1j9rH8cC0LEALZtVPINiv6/ja8E8DlbHz0sBMnJIS6PpTb0feo9ZGdnd+n4ihJEtFothg4dCoPBgMrKSscnWDBixAgAbIqMuD75cLe4ziOgnKGqTof8Uh+0SbosZv2HLcP6AZNGmh/PnfVKfCrNLeK92usnwh34lj4Vo1Fs7wuw3BJAWe94wNynQpFfhLviUFQMBgNycnJw6tQpq/ubm5sBAL6+vlb3l5eX49ChQ7h6tfOcMz/XmoVD9H5q64GvJFV5i5wUlZqrwB2/i8Ocl+IQcifw85eAhkbg74Ko3D2pc6l3HlZsww1ilew84K7ngcO57O8FpWKbXnudD3n+yjmL1sI/5IhCYu3eXGVIBODv6/i+CKInkSUq8+fPx2OPPdZpX1NTE3JzcxEeHo7QUOtTDZmZmViyZAl2797daR83w1JSUpy9b6IX8Pm/gRaD+PcLTvqVTxcCDc1MNa41AZ/uBRa+xPqzA8DcKZ3P4S/bS5dZnxU5vLWdTdP9/CV2v/85wbb3CUDH1JU1uBXT2saqB3O27WHLccPMS7gotVQCA4BdrwJ/e8l6QiZBuAMORSUwMBCTJk2CXq83q/1lMpmwYcMG1NTUYMGCBTbPnzFjBgAWOSa1VgoLC7F582YEBwfj9tupccP1yEf/ZEtuTRQ6aamUCb/2gwKMWCVUB/r6IFv26wPcemPnc4ZLfsHnyiyhwpMcCy8Bv3uP/QGAe35mv6z94HDATzCyeV6LoRXY8T1bf2Aa8Iel7POHBps323KVW24E7rUipgThLshy1K9atQo5OTlYvXo19u/fj9jYWGRnZyMnJwfjxo3DI488AoD5RrKyshAZGYm5c1lf01GjRmHx4sX46KOPcOeddyIjIwMNDQ349ttv0dLSgnfeeQd9+lhJBCB6NedKRYti0XTg/3Y7LyqXBFEZ2K8NLz2iw6lC4Mv9bNtdN1uv9hvch1kX5dVAbhEr4eKIqjpx/bVP2TIkCHh1uf3ztFpmMZw4J1Y0/vYom/bTaID7b2X3cujPQKA/y6khiOsdWY76uLg47NixA3fddRdOnDiBzMxMXL16FStXrsTWrVs7fCJlZWXYtGkTsrKyzM5/8cUXsWbNGoSEhOCzzz7Dnj17MGbMGGzbtg233HKL6h+K6Hkyv2XLqFDg4VlsvbKW+UTkwi2VsOBWaDTAe8+JzuoHZ9o+b3gsW54pknedytrO29Y/xgIBHMGnobiznidlThwhTp2lJQFJ0fLuhSB6O7ILSkZFRWH9+vV2jxk/frzN5Kf7778f999/v3N3R/RK2tvFqa9FGeb1rgovASOHyBunvENUmBc8JAg4ugUoqQRS7YwxPBbYcww4XSTvXquE8vmzJrIikRnjgCV2REvKMIsaYLnCNUfGyzufIK43qIkJoTr7TwJFFWx98QxgYAjzPTQbgMIK50UlPFgMrerXx3rZFCnOWCq19WLV3zW/YH+GxshrEQxILBWhtbC9cvkE4QlQIxNCdbiVMm4Yi5DSaMRpq0InIsDKBQd6qERU5MBFpbSKVRu2h3TqK6wfMCrBOd8HrwF2pQG4WCEvv4UgrmdIVAhVaWxmocQAs1I4HZ0LZYqKycQqAAPmloocuKgA5tWGrVFZJ64P6OvUZQAwXwm3anYdkJffQhDXMyQqhKr8+ydWCt5LB8yfKm6PE6rqyo0Aq2tg02WA86LSrw8wSKiawn0ctuCWSkiQa73j/X3FysM7f2DLQH8g0vUKMQTRqyFRIVSFZ80nRLI2vxyeoyFXVLiVAjg//QWI1oojUeHhxGHBTl+iA+5X+V5ImnTGJ0MQ1xskKoSqlApiYPlLPU4iKiYZhYp5OLFOa0L/Pkan70OuqHBLRU74sC24X4VPfZE/hfBkSFQIVeGiEmUpKoKjvqmFdWZ0BI/8Cu3bBq0L/0vliopeEJXQYOevwbEUEfKnEJ4MiQqhKnzaKsqiZ5u0wq6casWWOSrOwl/0JZVMyGyhpqVieW2C8ERIVAhVKRE6IFhaKn0CWGtegBWKdIRSUZG27S2x05WB+1TClYgKWSoE0QGJCqEaJpNk+stKd+kxQv+mo2ccj1WmUFQi+ouFLC9WmO8zGoHqOrbOLZVQBaISGiwGJXh7sRL1BOGpkKgQqlF9hVXpBTpbKgBLhgSAIzJE5ZKVbHpn8PIS7+GiXtx+uhBIfQgYdA+7D56nomT6CxCnwBKj2LUJwlMhUSFUo1QyzWRVVIaz5ekix4UllVoqACtND4iWyo7vgQnLWUmV9nbWn4Vn3CsJKQbEWl9U84vwdOg3lQdSVcda8hpaAT9f4L4prGS8UvjUl7+v9fpc44ayZXs7kJ0PTBltfZy2NjEqS4moxEhEpcUALH2FZfxzeLIioNxSeX4REHQDsPQOZeMQRG+HRMUDeXwjsP078e/HzgJ/flr5uNJwYmvJf8F9WKJgXjFwJNe2qOhrxZwPRZaK4Kwv1jPrpKGJ/X3DCuCpd8x9LUotlegw4JVHlY1BENcDNP3lgRw6zZZBN7DlP4+oMy6f/oq24qTncL/KYSt+lX0/AnNfYH84rvpUAImlogdOXmDr/foAP88wP87bC+gb6PJlCIKQQKLiYdTWixbFml+wZbFeLK+iBFvZ9FK4qEgjwMqqgBlPAdOfAL7YDxwTWvIMDAFu8Gt3+X64T6WsGjhewNZHxrNoLWluSVg/KqtCEGpBouJhSHNEFk4XrRVet0ou7+4EQu5g7XM5ZTay6aVwUSmtEnNR3vicNdUCgEkjgd89BPz+YeCLV5S97Pn0l9Eo3meK4EiflCoep3TqiyAIERIVD+OUICox4Wwq6OaR7O//Oe7cOK9/xiKnXv9M3CbHUkkdIvYrOZzLlnxqaukdwHdvM0H53UPAmKHO3ZMlMZJpOC6mI+LYkn9uQFmOCkEQ5pCoeBiWL9cpo9jyP05YKufLxL4o3x9npe7NEh/tiIqPN3BjAlv/MZ8tebfEsUPVnYby8xWz+DkjrVgqSrLpCYIwh0TFw+CikiKIys9Gs+WFcvM8E3t8K3HsG1rZ1FLNVbHGlj1RAYBUQVROnGP5KryMSleUN+F+FQ7/3HGDgIgBbF1pODFBECIkKh6EySROf3HfQloScIM/W5frV/nnUfO/7zogWimA/egvgE2BAUDOeRbqy+kKUYmRiEp0mBjlpdEAD85gkV9T09S/LkF4KiQqHkRFDXD5Clvnv9i9vYCbUti6HL+KoRX4949sndfy+schsRSKr495cy5rjBIslZJK4OAptt6/LzAgWM6ncI7BksKSKRbZ7muXAbXfADPHq39dgvBUSFQ8iFOCQ1yrNQ+pnSz4F46edTzGwdNiEuHG/2HLqjrgpQ/Yuq3ERynSUiZ/E/rZD4uxfqxSpNNfXEil+Pt2zXUJwlMhUfEguD8lMYo5sTm8oVV+iZjJbot/CVNfqUOYhcMd/j8JeSDTxzi+jz4BwJBItn5AsFS6qgeJdPrL0lIhCEJ9SFSuQ1oM1lv2nrKI/OLwHutNLWIhR1t8c4gtM8ay5ZKZbBkZCnz4IvD2r+XdI58C43RVDxJpXxVrlgpBEOpCtb+uM6rqgJQHgaRo4D+bxKkok0kM4bWspDskgk2Jtbezuly2HO0551nEFgDcNYktn5wP3DaGWT8BfvLvc9QQ4O/fi3/vKktlRBy7Vy+dGCBAEETXQaJynXHwNOtrUn2FhQnzaaZvDomCMDnV/BxfH/aL/kI5mwK7zcYU1oe72TIxSnTuazSdrQ45pHaTpaLVAllru2ZsgiA6Q9Nf1xnSXJNDQsZ6axvw7J/Y+rR04JYbO5+XFM2W+SXWx21tAz7+F1tfMlN5kuIoidUQ4Oc4DJkgiN4Bicp1hrQf+2GhGvGWr1g+iEYDvLbCuiBwv0qeDVHZfZi13tVogEUzlN9nTDgQLOSMDI1hFgVBEL0f+iq7GSYTswpa26w72x1hJiq5LK/kpb+yvy+dZduvkBjFlvnF1vf/9R9sOS1dHatCoxHvpav8KQRBdD8kKm5EdR2Q8ADgN439ufkxsee7XKTTX8fPAVk/MOe9RsOKNNqCWyoX9UBzi/m+Q6dZSXpAjPZSg8fuYdNuS2epNyZBED0LiYobsScbKJJ0IzycK+ZxyEVaLqXNCLywma1PTQOi7FgYyYJPxWQCzpWJ21sMwC//yLaPSgDuv9W5+7HH/bcCZzKBW6lMCkFcN5CouBHnStkyJU6Mhtr3o/zz29vNRQUACoXmW5bdDi2JGCDWAJP6VV7JBHKLAJ0O2PocK+tCEARhCxIVN4JHXqUmiPWo9mXLP7+ylvliAGC0JGTX3xe4Z7L9czUaIMnCr3L1GvDqJ2z9qfms+CRBEIQ9SFTcCD7tlBgFTE1n60fOspe7HKRO+vtuEdfvulns8GiPjrBiwWI6c1H06Ty7UN49EATh2ZCouBEFwss8IRL4WSrLAjcaWSMsOZQIU199AoCMceL2hdPlnc+d9dxSyROWYf1Yl0iCIAhHkKi4CZevsEZXALMYAgOACcPZ3+X6VXjkV1QocGMi8Is7gQdnAjPH2T+Pwy2VM8XMMc9FjjvxCYIgHEFuVzeBv8ABMWdkajqw/ySwV6ZfhU9/RYWxZMK/POPcPfC8kSsNQLFetFQSSVQIgpAJWSpuAnfSh/UTuxPyjoSnC4GKy47H4JFfriYnJkezOmAAy3HhQscd+ARBEI6QLSqrV69GcnKy1T8bN250eH5+fj6WL1+O8ePHIz09HcuWLcPZszK6QnkIUic9Z/xw5lcBgBPnHY/Bp79cFRUvL7E8/PECiah0UQMtgiCuP2RPf+Xn56Nv375YvHhxp31jxtjvzFRQUIAFCxZAq9Vi9uzZaGtrw1dffYUFCxbgs88+Q1ISxapKnfQcH2/Wp+RihXlkly1KJD4VV0kdAmTnAV8fZP1VALJUCIKQj1OiMnz4cKxcudLpi6xduxYtLS3YuXMnEhJYAsUDDzyA+fPnY82aNfjwww+dHvN6o0CY/kqy8F9ECaJSVtX5HClGI1AuTJHZy5x3BM9vyc5jS60WiI9wfTyCIDwLWdNfer0edXV1SExMdPoCRUVFOHjwIGbOnNkhKAAwfPhwzJo1C4cPH0ZpaamdEa5/pJFWCRZWAbc6HFkqly4zYQGAaCWWikWfk7hBop+FIAjCEbJEJT+ftQx0ZZrq6FHW1Hz8+PGd9vFt/BhPpaIGaGhi64mWoiJYHZblVyyRio6SKsKjLKoYW94PQRCEPZwSlfLycixatAhpaWmYMGECnn/+eej1ervnlpSweZ2YmM7e3shI5kAoKipy5p6vO6ThxFKfCiBaHaUOLBWeBR8cyHJcXKVvoHlfd8vpOIIgCHvI8qlwUdmyZQsyMjIwcuRI5OTkICsrCwcPHsTnn3+OsDDrP4/r6uoAAEFBQZ329enD0rTr6+tduXcYjUbk5eW5dG5jYyMAyD7/QG4APvl3MIztGtzg147/ubsaMWFO1qW3wf5jQQAGITy4FaXFF8z2adsCAUTiYkU7zp4tsNpgq80IrPkgFoAvRsc3IC+vrPNBThAfHoGiCvZsgn30yMurUzSeEpx9TkTPQM+J4MgSFS8vL0RFRWHjxo1ITRUbnL/77rt444038Morr9gMK25tZS9eH5/OE/N8W0tLS6d97saabeEo0oufwd+3HasftG+lyeVSjTcAILJ/Z5EK78cqRDa2aNHQpEWfgPZOx2z/IRgXKnyh0Zjw/+ZUK76fodEt2HeCicrgcIPi8QiC8BxkicratWutbn/00Uexfft27NmzBwaDwapw+Pn5ARDFRYrBwF5Y/v7+sm9Yik6nQ3Jyskvn8l9Ucs6vuQoUCfoxKgE4cQ44XRyM5ORgl65tSbPQ4TFhcECn++k7QFz365uI5Hjzc69eA979hq0/PEuDu6bFKr6fqeOBP+1i67fdFK0omkwpzjwnoueg59R7yM52ovS5CyjKqNdqtRg6dCgMBgMqK61P+vNpL2tTXHwbnwZzV45JwmvX/pKtny1m9brUgDvhreWXhPUTe5hYc9av+5h1dgzwA/6wVJ37ufVGFvV1y2iWJ0MQBCEXh6JiMBiQk5ODU6estyBsbm4GAPj6+lrdHxfHUrSthQ3zbfwYd+XoGbZMiQOmjBaz3A/lqjN+mR1R0WqBSMFasQwrvlgBvPE5W39mAWu0pQbBfYD8T4A9b8CqD4cgCMIWskRl/vz5eOyxxzrta2pqQm5uLsLDwxEaav0nbXo6awxy5MiRTvv4thtvvNGpm+5ujgrVZMYOZRYBb1Z14KRz49TVAwdPsbwUKdwCsWUVRNmIAHtxK2v3GzGANdFSE62WBIUgCOdxKCqBgYGYNGkS9Ho9MjMzO7abTCZs2LABNTU1WLBggc3zo6OjkZaWhq+//tqs1ldubi6++eYbTJw4EdHR7hu3ajKJlsqYoWw5MYUtD552bqxfrgcmrQDe3Sluq29kVYEB2+VVrOWqHD0DfPIvtv7SI2IrYIIgiJ5ElqN+1apVyMnJwerVq7F//37ExsYiOzsbOTk5GDduHB555BEAbDorKysLkZGRmDt3bsf5L7zwAhYtWoSFCxdi9uzZAIAvv/wS3t7eWLVqVRd8LPUoq2LJiQAwbhhb3pQCvPk5cOQMa98rp2+7yQT8W+iLsn4bsGw2K+AoLb9iS1R4MqN0+mvzV2w5KgF4cIb8z0MQBNGVyHLUx8XFYceOHbjrrrtw4sQJZGZm4urVq1i5ciW2bt3aEfVVVlaGTZs2ISsry+z8lJQUZGZmYvTo0fjyyy+xe/dujB07Fp988onbF5M8IhhX/r7ACMH1c5NgqTS1sEgwOVTUALVCrEKxHvj7f9g6tz60WmBgiPVzudhIBahYiEbLGAvodPLugSAIoquRXVAyKioK69evt3vM+PHjbSY/paSk4P3333fu7twAPvV1Y6JokUQMAAYPZI7yA6fEaTF7nDLPacSbnwPzpoqiMqg/s1yswae/SqqYxaPRAHrBerIlRARBED0BNelywDHupB9mvv0mJ/0qpwvZ0l8IkjuUy5z23PqwVwSSWyrXmkT/C5+SCydRIQjCjSBRsYPJBGSzCjUYY5HTxQsv5hfLG+uUICozx4vRYx984zjyCzAvEFlSyfw41UKODFkqBEG4EyQqAu3tnUN9i/WiZTDaour/EKF6b0FZ5/OswS2VkfHAvFvZ+nfHJYmPdrLWQ4NZwy6ATYFV1YnXJFEhCMKdIFEB840MmgPMfp7lfXBOCn4QH+/OJeAThWrC15rEqShbtLcDp4vY+og4YIqQlnO+TJxes9etUasV9xfrza83sL/9axMEQXQnJCpgrXOrrwD/OAQ8+ppoBXDn+rDBncOGh0hK1Bd0LhZgRrGeiQ/AsvLTEoFAIa+kspYtHZVD4eXoi/Wik97Hm5W6JwiCcBdIVGAemfXRP1keCSBaKilWqsgE+InWwzkHosL9KT7erF+KlxcwKdX8GEd95QcLolJ0SbRUBoZQ1jtBEO4FiQpEf0fQDWz5263Mb8HFZmS81dM6Gmqdc9C+hI8/NEYMG75ltPkxjkSFWyoXKyicmCAI98XjRcVkEi2JDStYuZM2I/DFflaJGABSbIkKd9bLtFRGSCyeKZJyZxoNy1OxR4elUkHhxARBuC8eLyrl1UCdEOE1digwfQxb3/gZExfAtqXCnfeOpr+4pSKdRpP6VcL7idFdtuCWSkUNUHiJrZOlQhCEu+HxosKtCC8dkBwD3HkT+zu3UoIDbTvRuaVyzk5YcXMLkFvE1qUWj9Sv4mjqCwBiB4nrR4QsfxIVgiDcDY8XFW5FJEYxa+GOiebO75Hxtp3h3KfS2Axcumz9mBPnWbIiwCwhKfcL+So3WzjtrRHRX+zjwiPGaPqLIAh3w+NFhTvjub8jrB8wXlKSxZY/BZAXVszzUAYP7CwCS2YC5z8FXuvcqqYTOh0QE26+jSwVgiDcDY8XFWv+Dj4FBtgXFX9fsYSKLVHhU1WWVgrALKDYQSy5UQ7cr8IhUSEIwt3waFFpbwdyL7L1ERLxkIpK6hD7Y3Bn/XkbYcW8a+S4Ydb3O8NgS1GhbHqCINwM2aXvr0fKLnujsZmtSy2VlHjgt0tYVNjEEfbHGBIJ7PvRuqVSVw/kCQ5/yyrHrmBpqYT3Uz4mQRCEmni0qBSUseZivj7AkAhxu0YD/O9SeWNYCyve+Bkbk+/TalkIsVKklkrQDSyrnyAIwp3waFE5VhAAABgR63r3RGlYcXs7Cx9++k9s242CkIyIBQIDlNwpQ2qpkD+FIAh3xGN9Km1GYNfhIADAnMmuj8OtkaYWFlbM814A4KcCtlRj6gswz1UhUSEIwh3xWFE5eCYA1VeZofbz6a6PEz9IzGMpKAXySzofYy3yyxWkuSqUo0IQhDvisaLyxcG+AFhhR6kF4Cx+FmHF3DGfnszK5Wu1wJTRim61A2muClkqBEG4Ix4pKlcagL3HWSOSRTOUjyd11nNRuWcycPgvwJ6NrPyLWnA/zfBY9cYkCIJQC4901G//Hmhp1cLPux333aJcVxMigb3ZQH4p+wMASTHAqATFQ3fi3aeAJbcDGWPVH5sgCEIpHmmp1F9jy9kTrqKPClFZPALsvyfFDo/J0crHtUb/vqw+mWUnSoIgCHfAI19NK+8F+vmWYHR8E4BgxeNxUbl8hS01GrHYJEEQhCfhkaKi0wEThjaqNl6ihYDEDmQOfIIgCE/DI6e/1CY+wrw8flIXTX0RBEG4OyQqKuDrY16WXs1oL4IgiN4EiYpKSH0oZKkQBOGpkKioBM9VAchSIQjCcyFRUQkzUSFLhSAID4VERSV4h8gBfYGIAT17LwRBED2FR4YUdwXT0oF3ngRGxptHghEEQXgSJCoqodEAy+/u6bsgCILoWWj6iyAIglANEhWCIAhCNUhUCIIgCNUgUSEIgiBUg0SFIAiCUA0SFYIgCEI1NCaTydTTN+EK2dnZAACdTufS+UajUdH5RPdAz6l3QM+p98CfVXp6epeM77F5KvSfv3dAz6l3QM+J4PRaS4UgCIJwP8inQhAEQagGiQpBEAShGiQqBEEQhGqQqBAEQRCqQaJCEARBqAaJCkEQBKEaJCoEQRCEapCoEARBEKpBokIQBEGoBokKQRAEoRokKgRBEIRqeJyotLW14f3338fMmTORmpqK6dOnY/PmzR2VO4nuZ/Xq1UhOTrb6Z+PGjR3H0bPrfvR6PdLT07Ft27ZO+5x9Hjt27MBdd92FUaNGYcqUKfjjH/+I5ubmrv4IHoG95yT3+wWo8x3zuCrFv//977F9+3aMGzcOt912G44dO4YNGzbg/PnzePXVV3v69jyS/Px89O3bF4sXL+60b8yYMR3r9Oy6l4aGBqxYsQINDQ1W9zvzPP70pz/hzTffxPDhw7F48WKcOXMG7733Hk6dOoUPPviAqhwrwNFzkvv9AlT6jpk8iKNHj5qSkpJMTz/9dMe29vZ2069//WtTUlKS6ciRIz14d57LuHHjTEuWLLF7DD277qW0tNR09913m5KSkkxJSUmmTz75xGy/M8+jtLTUNGzYMNOiRYtMbW1tHdtfffVVU1JSkikrK6vLP8/1iqPnZDLJ+36ZTOp9xzxq+oubho8//njHNo1GgyeffBIAM8+J7kWv16Ourg6JiYl2j6Nn13389a9/xezZs5Gfn48JEyZYPcaZ5/G3v/0NRqMRv/rVr8wskscffxz+/v707FxEznOS+/0C1PuOeZSoHDt2DAMHDsTgwYPNtkdHRyMyMhJHjhzpoTvzXPLz8wEASUlJdo+jZ9d9fPjhh4iMjERmZibuvvtuq8c48zyOHj0KnU7XaaolICAAI0eOxE8//YS2tjb1P8h1jpznJPf7Baj3HfMYUTEYDKioqEBMTIzV/ZGRkSgvL4fBYOjmO/Ns+H/68vJyLFq0CGlpaZgwYQKef/556PV6APTsups//OEP2LlzJ9LS0qzud/Z5FBcXY+DAgfDx8bF6bGtrK0pLS9X7AB6Co+cEyPt+Aep+xzxGVOrq6gAAffr0sbo/MDAQJpPJprOL6Br4f/otW7YgLCwM8+fPx5AhQ5CVlYV58+ahsrKSnl03M3nyZLuOc2efR11dnd1jAaC+vl7BHXsmjp4TIO/7Baj7fvSY6C9uXlv7tSTdTr92uxcvLy9ERUVh48aNSE1N7dj+7rvv4o033sArr7yCZ555BgA9O3fB2e9SW1ubw2NbWlrUvk0C8r5fGzduVPX96DGWip+fHwCgtbXV6n7+j+Xv799t90QAa9euxd69e83+wwPAo48+iqioKOzZs6fjPzQ9O/fA2e+Sn5+fw2MDAgLUvk0C8r5fBoNB1fejx4hKYGAgtFqtTTObm3XcHCd6Fq1Wi6FDh8JgMKC+vp6enRvh7HcpKCjI4bG2pl2IrkH6/aqsrFT1/egxouLj44OIiAibDsHS0lIMHjyYkrC6EYPBgJycHJw6dcrqfp5tHRgYSM/OjXD2uxQbGwu9Xm/1V3BpaSn8/PwwaNCgLr1nT0Tu98vX11fV96PHiAoApKeno6ysDGVlZWbbS0pKUF5ejtGjR/fMjXkoBoMB8+fPx2OPPdZpX1NTE3JzcxEeHo7Q0FB6dm6GM88jPT0dra2tOH78uNmxjY2NOHnyJFJSUuDl5THu3W7Dme8XoN770aNEZc6cOQCA119/HSaTCQBgMpnw+uuvAwDmzZvXU7fmkQQGBmLSpEnQ6/XIzMzs2G4ymbBhwwbU1NRgwYIFAOjZuRvOPI8777wTOp0Ob731lpmjd9OmTWhubqZn10U48/0C1PuOedTPg5tuugmzZs3Crl27UFZWhjFjxuDYsWP46aefMHfu3E7JWUTXs2rVKuTk5GD16tXYv38/YmNjkZ2djZycHIwbNw6PPPIIAHp27oYzz2PIkCFYunQptmzZgnvvvRdTpkzBmTNnsH//ftx888248847e/CTXN/I/X4BKn7HZBVzuY5oaWkxvf3226apU6eaUlJSTBkZGaa//OUvJoPB0NO35rGUlJSYnn76adOECRNMI0aMMGVkZJjefvttU3Nzs9lx9Oy6nx07dtisKeXM82hvbzd9+OGHppkzZ5pSUlJMU6dONa1fv97U0NDQHR/jusfec5L7/TKZ1PmOaUwmwc4hCIIgCIV4lE+FIAiC6FpIVAiCIAjVIFEhCIIgVINEhSAIglANEhWCIAhCNUhUCIIgCNUgUSEIgiBUg0SFIAiCUA0SFYIgCEI1SFQIgiAI1fj/nR0hyAxg6+0AAAAASUVORK5CYII=",
      "text/plain": [
       "<Figure size 432x288 with 1 Axes>"
      ]
     },
     "metadata": {},
     "output_type": "display_data"
    }
   ],
   "source": [
    "airpass.logpass.plot()"
   ]
  },
  {
   "cell_type": "code",
   "execution_count": 33,
   "metadata": {},
   "outputs": [],
   "source": [
    "logpass = airpass.logpass.to_numpy()"
   ]
  },
  {
   "cell_type": "code",
   "execution_count": 34,
   "metadata": {},
   "outputs": [
    {
     "data": {
      "text/plain": [
       "array([4.77068462, 4.74493213, 4.83628191, 4.94875989, 4.90527478,\n",
       "       4.82831374, 5.00394631, 5.13579844, 5.13579844, 5.06259503,\n",
       "       4.89034913, 4.73619845, 4.94164242, 4.97673374, 5.01063529,\n",
       "       5.18178355, 5.0937502 , 5.14749448, 5.18178355, 5.29330482,\n",
       "       5.29330482, 5.21493576, 5.08759634, 4.98360662, 5.11198779,\n",
       "       5.14166356, 5.19295685, 5.26269019, 5.19849703, 5.20948615,\n",
       "       5.38449506, 5.43807931, 5.48893773, 5.34233425, 5.25227343,\n",
       "       5.14749448, 5.26785816, 5.27811466, 5.27811466, 5.46383181,\n",
       "       5.45958551, 5.433722  , 5.49306144, 5.5759491 , 5.60580207,\n",
       "       5.46806014, 5.35185813, 5.19295685, 5.30330491, 5.31811999,\n",
       "       5.23644196, 5.45958551, 5.42495002, 5.45532112, 5.5759491 ,\n",
       "       5.71042702, 5.68017261, 5.55682806, 5.433722  , 5.31320598,\n",
       "       5.433722  , 5.48893773, 5.45103845, 5.58724866, 5.59471138,\n",
       "       5.59842196, 5.75257264, 5.89715387, 5.84932478, 5.74300319,\n",
       "       5.61312811, 5.46806014, 5.62762111, 5.64897424, 5.62401751,\n",
       "       5.75890177, 5.74620319, 5.76205138, 5.9242558 , 6.02344759,\n",
       "       6.00388707, 5.87211779, 5.7235851 , 5.60211882, 5.7235851 ,\n",
       "       5.75257264, 5.70711026, 5.87493073, 5.85220248, 5.87211779,\n",
       "       6.04500531, 6.14203741, 6.14632926, 6.00141488, 5.84932478,\n",
       "       5.72031178, 5.81711116, 5.82894562, 5.76205138, 5.89164421,\n",
       "       5.85220248, 5.89440283, 6.07534603, 6.19644413, 6.22455843,\n",
       "       6.00141488, 5.88332239, 5.7365723 , 5.82008293, 5.88610403,\n",
       "       5.83481074, 6.00635316, 5.98141421, 6.04025471, 6.15697899,\n",
       "       6.30627529, 6.32614947, 6.13772705, 6.00881319, 5.89164421,\n",
       "       6.00388707, 6.03308622, 5.96870756, 6.03787092, 6.13339804,\n",
       "       6.15697899, 6.28226675, 6.43294009, 6.40687999, 6.23048145,\n",
       "       6.13339804, 5.96614674, 6.06842559])"
      ]
     },
     "execution_count": 34,
     "metadata": {},
     "output_type": "execute_result"
    }
   ],
   "source": [
    "logpass[11:]"
   ]
  },
  {
   "cell_type": "code",
   "execution_count": 35,
   "metadata": {},
   "outputs": [],
   "source": [
    "diff_logap = logpass[12:] - logpass[:-12]"
   ]
  },
  {
   "cell_type": "code",
   "execution_count": 36,
   "metadata": {},
   "outputs": [
    {
     "data": {
      "text/plain": [
       "(132,)"
      ]
     },
     "execution_count": 36,
     "metadata": {},
     "output_type": "execute_result"
    }
   ],
   "source": [
    "diff_logap.shape"
   ]
  },
  {
   "cell_type": "code",
   "execution_count": 37,
   "metadata": {},
   "outputs": [
    {
     "data": {
      "text/plain": [
       "[<matplotlib.lines.Line2D at 0x1cc65ef6a30>]"
      ]
     },
     "execution_count": 37,
     "metadata": {},
     "output_type": "execute_result"
    },
    {
     "data": {
      "image/png": "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",
      "text/plain": [
       "<Figure size 864x576 with 1 Axes>"
      ]
     },
     "metadata": {},
     "output_type": "display_data"
    }
   ],
   "source": [
    "fig, ax = plt.subplots(figsize=(12,8))\n",
    "plt.plot(diff_logap-diff_logap.mean())"
   ]
  },
  {
   "cell_type": "code",
   "execution_count": 38,
   "metadata": {},
   "outputs": [],
   "source": [
    "from statsmodels.graphics.tsaplots import plot_acf,plot_pacf"
   ]
  },
  {
   "cell_type": "code",
   "execution_count": 39,
   "metadata": {},
   "outputs": [
    {
     "data": {
      "image/png": "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",
      "text/plain": [
       "<Figure size 432x288 with 1 Axes>"
      ]
     },
     "execution_count": 39,
     "metadata": {},
     "output_type": "execute_result"
    },
    {
     "data": {
      "image/png": "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",
      "text/plain": [
       "<Figure size 432x288 with 1 Axes>"
      ]
     },
     "metadata": {},
     "output_type": "display_data"
    }
   ],
   "source": [
    "plot_acf(diff_logap-diff_logap.mean(), lags = 15) "
   ]
  },
  {
   "cell_type": "code",
   "execution_count": 40,
   "metadata": {},
   "outputs": [
    {
     "name": "stderr",
     "output_type": "stream",
     "text": [
      "c:\\Users\\RedmiBook\\AppData\\Local\\Programs\\Python\\Python39\\lib\\site-packages\\statsmodels\\graphics\\tsaplots.py:348: FutureWarning: The default method 'yw' can produce PACF values outside of the [-1,1] interval. After 0.13, the default will change tounadjusted Yule-Walker ('ywm'). You can use this method now by setting method='ywm'.\n",
      "  warnings.warn(\n"
     ]
    },
    {
     "data": {
      "image/png": "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",
      "text/plain": [
       "<Figure size 432x288 with 1 Axes>"
      ]
     },
     "execution_count": 40,
     "metadata": {},
     "output_type": "execute_result"
    },
    {
     "data": {
      "image/png": "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",
      "text/plain": [
       "<Figure size 432x288 with 1 Axes>"
      ]
     },
     "metadata": {},
     "output_type": "display_data"
    }
   ],
   "source": [
    "plot_pacf(diff_logap-diff_logap.mean(), lags=15)"
   ]
  },
  {
   "cell_type": "code",
   "execution_count": 41,
   "metadata": {},
   "outputs": [],
   "source": [
    "from statsmodels.tsa.stattools import adfuller"
   ]
  },
  {
   "cell_type": "code",
   "execution_count": 42,
   "metadata": {},
   "outputs": [
    {
     "name": "stdout",
     "output_type": "stream",
     "text": [
      "(-2.7095768189885647, 0.0723956718176956, 12, 119, {'1%': -3.4865346059036564, '5%': -2.8861509858476264, '10%': -2.579896092790057}, -424.76083484995365)\n"
     ]
    }
   ],
   "source": [
    "res = adfuller(diff_logap-diff_logap.mean())\n",
    "print(res)"
   ]
  },
  {
   "attachments": {},
   "cell_type": "markdown",
   "metadata": {},
   "source": [
    "Choose AR(1), MA(6) model"
   ]
  },
  {
   "cell_type": "code",
   "execution_count": 43,
   "metadata": {},
   "outputs": [],
   "source": [
    "from statsmodels.tsa.arima.model import ARIMA"
   ]
  },
  {
   "cell_type": "code",
   "execution_count": 44,
   "metadata": {},
   "outputs": [],
   "source": [
    "arima_model = ARIMA(diff_logap, order=(1,0,12))"
   ]
  },
  {
   "cell_type": "code",
   "execution_count": 45,
   "metadata": {},
   "outputs": [
    {
     "name": "stderr",
     "output_type": "stream",
     "text": [
      "c:\\Users\\RedmiBook\\AppData\\Local\\Programs\\Python\\Python39\\lib\\site-packages\\statsmodels\\base\\model.py:604: ConvergenceWarning: Maximum Likelihood optimization failed to converge. Check mle_retvals\n",
      "  warnings.warn(\"Maximum Likelihood optimization failed to \"\n"
     ]
    }
   ],
   "source": [
    "model = arima_model.fit()"
   ]
  },
  {
   "cell_type": "code",
   "execution_count": 46,
   "metadata": {},
   "outputs": [
    {
     "data": {
      "text/html": [
       "<table class=\"simpletable\">\n",
       "<caption>SARIMAX Results</caption>\n",
       "<tr>\n",
       "  <th>Dep. Variable:</th>           <td>y</td>        <th>  No. Observations:  </th>    <td>132</td>  \n",
       "</tr>\n",
       "<tr>\n",
       "  <th>Model:</th>            <td>ARIMA(1, 0, 12)</td> <th>  Log Likelihood     </th>  <td>254.326</td>\n",
       "</tr>\n",
       "<tr>\n",
       "  <th>Date:</th>            <td>Wed, 22 Feb 2023</td> <th>  AIC                </th> <td>-478.651</td>\n",
       "</tr>\n",
       "<tr>\n",
       "  <th>Time:</th>                <td>07:09:56</td>     <th>  BIC                </th> <td>-435.409</td>\n",
       "</tr>\n",
       "<tr>\n",
       "  <th>Sample:</th>                  <td>0</td>        <th>  HQIC               </th> <td>-461.080</td>\n",
       "</tr>\n",
       "<tr>\n",
       "  <th></th>                      <td> - 132</td>      <th>                     </th>     <td> </td>   \n",
       "</tr>\n",
       "<tr>\n",
       "  <th>Covariance Type:</th>        <td>opg</td>       <th>                     </th>     <td> </td>   \n",
       "</tr>\n",
       "</table>\n",
       "<table class=\"simpletable\">\n",
       "<tr>\n",
       "     <td></td>       <th>coef</th>     <th>std err</th>      <th>z</th>      <th>P>|z|</th>  <th>[0.025</th>    <th>0.975]</th>  \n",
       "</tr>\n",
       "<tr>\n",
       "  <th>const</th>  <td>    0.1178</td> <td>    0.014</td> <td>    8.279</td> <td> 0.000</td> <td>    0.090</td> <td>    0.146</td>\n",
       "</tr>\n",
       "<tr>\n",
       "  <th>ar.L1</th>  <td>    0.7502</td> <td>    0.319</td> <td>    2.350</td> <td> 0.019</td> <td>    0.125</td> <td>    1.376</td>\n",
       "</tr>\n",
       "<tr>\n",
       "  <th>ma.L1</th>  <td>   -0.0670</td> <td>    0.353</td> <td>   -0.190</td> <td> 0.849</td> <td>   -0.758</td> <td>    0.624</td>\n",
       "</tr>\n",
       "<tr>\n",
       "  <th>ma.L2</th>  <td>    0.1371</td> <td>    0.284</td> <td>    0.484</td> <td> 0.629</td> <td>   -0.419</td> <td>    0.693</td>\n",
       "</tr>\n",
       "<tr>\n",
       "  <th>ma.L3</th>  <td>   -0.0313</td> <td>    0.317</td> <td>   -0.099</td> <td> 0.922</td> <td>   -0.653</td> <td>    0.591</td>\n",
       "</tr>\n",
       "<tr>\n",
       "  <th>ma.L4</th>  <td>   -0.1090</td> <td>    0.249</td> <td>   -0.438</td> <td> 0.661</td> <td>   -0.597</td> <td>    0.379</td>\n",
       "</tr>\n",
       "<tr>\n",
       "  <th>ma.L5</th>  <td>    0.2069</td> <td>    0.180</td> <td>    1.152</td> <td> 0.249</td> <td>   -0.145</td> <td>    0.559</td>\n",
       "</tr>\n",
       "<tr>\n",
       "  <th>ma.L6</th>  <td>    0.0461</td> <td>    0.213</td> <td>    0.217</td> <td> 0.829</td> <td>   -0.372</td> <td>    0.464</td>\n",
       "</tr>\n",
       "<tr>\n",
       "  <th>ma.L7</th>  <td>    0.0810</td> <td>    0.222</td> <td>    0.364</td> <td> 0.716</td> <td>   -0.355</td> <td>    0.517</td>\n",
       "</tr>\n",
       "<tr>\n",
       "  <th>ma.L8</th>  <td>    0.0310</td> <td>    0.200</td> <td>    0.155</td> <td> 0.876</td> <td>   -0.360</td> <td>    0.422</td>\n",
       "</tr>\n",
       "<tr>\n",
       "  <th>ma.L9</th>  <td>    0.1597</td> <td>    0.206</td> <td>    0.774</td> <td> 0.439</td> <td>   -0.245</td> <td>    0.564</td>\n",
       "</tr>\n",
       "<tr>\n",
       "  <th>ma.L10</th> <td>    0.0512</td> <td>    0.194</td> <td>    0.264</td> <td> 0.792</td> <td>   -0.329</td> <td>    0.432</td>\n",
       "</tr>\n",
       "<tr>\n",
       "  <th>ma.L11</th> <td>    0.2173</td> <td>    0.193</td> <td>    1.124</td> <td> 0.261</td> <td>   -0.162</td> <td>    0.596</td>\n",
       "</tr>\n",
       "<tr>\n",
       "  <th>ma.L12</th> <td>   -0.5571</td> <td>    0.212</td> <td>   -2.624</td> <td> 0.009</td> <td>   -0.973</td> <td>   -0.141</td>\n",
       "</tr>\n",
       "<tr>\n",
       "  <th>sigma2</th> <td>    0.0012</td> <td>    0.000</td> <td>    5.094</td> <td> 0.000</td> <td>    0.001</td> <td>    0.002</td>\n",
       "</tr>\n",
       "</table>\n",
       "<table class=\"simpletable\">\n",
       "<tr>\n",
       "  <th>Ljung-Box (L1) (Q):</th>     <td>1.02</td> <th>  Jarque-Bera (JB):  </th> <td>8.26</td>\n",
       "</tr>\n",
       "<tr>\n",
       "  <th>Prob(Q):</th>                <td>0.31</td> <th>  Prob(JB):          </th> <td>0.02</td>\n",
       "</tr>\n",
       "<tr>\n",
       "  <th>Heteroskedasticity (H):</th> <td>0.51</td> <th>  Skew:              </th> <td>0.02</td>\n",
       "</tr>\n",
       "<tr>\n",
       "  <th>Prob(H) (two-sided):</th>    <td>0.03</td> <th>  Kurtosis:          </th> <td>4.22</td>\n",
       "</tr>\n",
       "</table><br/><br/>Warnings:<br/>[1] Covariance matrix calculated using the outer product of gradients (complex-step)."
      ],
      "text/plain": [
       "<class 'statsmodels.iolib.summary.Summary'>\n",
       "\"\"\"\n",
       "                               SARIMAX Results                                \n",
       "==============================================================================\n",
       "Dep. Variable:                      y   No. Observations:                  132\n",
       "Model:                ARIMA(1, 0, 12)   Log Likelihood                 254.326\n",
       "Date:                Wed, 22 Feb 2023   AIC                           -478.651\n",
       "Time:                        07:09:56   BIC                           -435.409\n",
       "Sample:                             0   HQIC                          -461.080\n",
       "                                - 132                                         \n",
       "Covariance Type:                  opg                                         \n",
       "==============================================================================\n",
       "                 coef    std err          z      P>|z|      [0.025      0.975]\n",
       "------------------------------------------------------------------------------\n",
       "const          0.1178      0.014      8.279      0.000       0.090       0.146\n",
       "ar.L1          0.7502      0.319      2.350      0.019       0.125       1.376\n",
       "ma.L1         -0.0670      0.353     -0.190      0.849      -0.758       0.624\n",
       "ma.L2          0.1371      0.284      0.484      0.629      -0.419       0.693\n",
       "ma.L3         -0.0313      0.317     -0.099      0.922      -0.653       0.591\n",
       "ma.L4         -0.1090      0.249     -0.438      0.661      -0.597       0.379\n",
       "ma.L5          0.2069      0.180      1.152      0.249      -0.145       0.559\n",
       "ma.L6          0.0461      0.213      0.217      0.829      -0.372       0.464\n",
       "ma.L7          0.0810      0.222      0.364      0.716      -0.355       0.517\n",
       "ma.L8          0.0310      0.200      0.155      0.876      -0.360       0.422\n",
       "ma.L9          0.1597      0.206      0.774      0.439      -0.245       0.564\n",
       "ma.L10         0.0512      0.194      0.264      0.792      -0.329       0.432\n",
       "ma.L11         0.2173      0.193      1.124      0.261      -0.162       0.596\n",
       "ma.L12        -0.5571      0.212     -2.624      0.009      -0.973      -0.141\n",
       "sigma2         0.0012      0.000      5.094      0.000       0.001       0.002\n",
       "===================================================================================\n",
       "Ljung-Box (L1) (Q):                   1.02   Jarque-Bera (JB):                 8.26\n",
       "Prob(Q):                              0.31   Prob(JB):                         0.02\n",
       "Heteroskedasticity (H):               0.51   Skew:                             0.02\n",
       "Prob(H) (two-sided):                  0.03   Kurtosis:                         4.22\n",
       "===================================================================================\n",
       "\n",
       "Warnings:\n",
       "[1] Covariance matrix calculated using the outer product of gradients (complex-step).\n",
       "\"\"\""
      ]
     },
     "execution_count": 46,
     "metadata": {},
     "output_type": "execute_result"
    }
   ],
   "source": [
    "model.summary()"
   ]
  },
  {
   "cell_type": "code",
   "execution_count": 47,
   "metadata": {},
   "outputs": [],
   "source": [
    "forcast_12 = model.forecast(12)"
   ]
  },
  {
   "cell_type": "code",
   "execution_count": 48,
   "metadata": {},
   "outputs": [
    {
     "data": {
      "text/plain": [
       "array([0.08623998, 0.08634938, 0.14653092, 0.09084711, 0.08978032,\n",
       "       0.11530357, 0.11261845, 0.1145959 , 0.12118791, 0.11180828,\n",
       "       0.1236688 , 0.1218936 ])"
      ]
     },
     "execution_count": 48,
     "metadata": {},
     "output_type": "execute_result"
    }
   ],
   "source": [
    "forcast_12"
   ]
  },
  {
   "cell_type": "code",
   "execution_count": 49,
   "metadata": {},
   "outputs": [],
   "source": [
    "prev_12 = airpass.Passengers.to_numpy()[-24:-12]\n"
   ]
  },
  {
   "cell_type": "code",
   "execution_count": 50,
   "metadata": {},
   "outputs": [
    {
     "name": "stdout",
     "output_type": "stream",
     "text": [
      "[392.42444194 372.84400396 470.07115618 433.66021713 459.4522572\n",
      " 529.68503315 613.32424311 626.87388116 522.65153784 455.14746666\n",
      " 409.65404674 457.50173226]\n"
     ]
    }
   ],
   "source": [
    "predicts = np.exp(forcast_12)*prev_12\n",
    "print(predicts)"
   ]
  },
  {
   "cell_type": "code",
   "execution_count": 51,
   "metadata": {},
   "outputs": [
    {
     "data": {
      "text/plain": [
       "array([ 24.57555806,  18.15599604, -51.07115618,  27.33978287,\n",
       "        12.5477428 ,   5.31496685,   8.67575689, -20.87388116,\n",
       "       -14.65153784,   5.85253334, -19.65404674, -25.50173226])"
      ]
     },
     "execution_count": 51,
     "metadata": {},
     "output_type": "execute_result"
    }
   ],
   "source": [
    "airpass.Passengers.to_numpy()[-12:] - predicts"
   ]
  }
 ],
 "metadata": {
  "kernelspec": {
   "display_name": "Python 3",
   "language": "python",
   "name": "python3"
  },
  "language_info": {
   "codemirror_mode": {
    "name": "ipython",
    "version": 3
   },
   "file_extension": ".py",
   "mimetype": "text/x-python",
   "name": "python",
   "nbconvert_exporter": "python",
   "pygments_lexer": "ipython3",
   "version": "3.9.1"
  },
  "orig_nbformat": 4,
  "vscode": {
   "interpreter": {
    "hash": "df8a48ca9e685d22343965aa2cdf0372bb61bcf27b5655933b4ffe34f0a0b741"
   }
  }
 },
 "nbformat": 4,
 "nbformat_minor": 2
}
